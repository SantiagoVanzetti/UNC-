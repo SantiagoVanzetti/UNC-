{
 "cells": [
  {
   "cell_type": "code",
   "execution_count": 7,
   "id": "bd467230-852b-4523-a5e7-16637eb7f9e6",
   "metadata": {},
   "outputs": [
    {
     "data": {
      "text/plain": [
       "cov (generic function with 1 method)"
      ]
     },
     "execution_count": 7,
     "metadata": {},
     "output_type": "execute_result"
    }
   ],
   "source": [
    "function cov(X,Y)\n",
    "    @assert length(X)==length(Y)\n",
    "    n=length(X)\n",
    "    sumx=0\n",
    "    sumy=0\n",
    "    for i in 1:n\n",
    "        sumx+=X[i]\n",
    "        sumy+=Y[i]\n",
    "    end\n",
    "    promx=sumx/n\n",
    "    promy=sumy/n\n",
    "    v=0\n",
    "    for i in 1:n\n",
    "        v+=(X[i]-promx)*(Y[i]-promy)\n",
    "    end\n",
    "    return v/(n-1)\n",
    "end    "
   ]
  },
  {
   "cell_type": "code",
   "execution_count": 9,
   "id": "8906d090-82ee-4643-9a54-0a003ee59eb9",
   "metadata": {},
   "outputs": [
    {
     "data": {
      "text/plain": [
       "-4.444444444445395e-6"
      ]
     },
     "execution_count": 9,
     "metadata": {},
     "output_type": "execute_result"
    }
   ],
   "source": [
    "X=[1.82,\n",
    "1.75,\n",
    "1.58,\n",
    "1.59,\n",
    "1.84,\n",
    "1.63,\n",
    "1.78,\n",
    "1.72,\n",
    "1.67,\n",
    "1.75]\n",
    "Y=[0.38,\n",
    "0.41,\n",
    "0.41,\n",
    "0.42,\n",
    "0.46,\n",
    "0.46,\n",
    "0.46,\n",
    "0.49,\n",
    "0.51,\n",
    "0.48]\n",
    "cov(X,Y)"
   ]
  },
  {
   "cell_type": "code",
   "execution_count": 11,
   "id": "2ecebd0b-76ba-4eda-93c5-d22fd247ee45",
   "metadata": {},
   "outputs": [
    {
     "name": "stdout",
     "output_type": "stream",
     "text": [
      "Promedio X: 1.7130000000000003\n",
      "Promedio Y: 0.44800000000000006\n",
      "Desviación estándar X: 0.09214119599831555\n",
      "Desviación estándar Y: 0.04131182235954579\n",
      "Covarianza: -4.444444444445395e-6\n"
     ]
    }
   ],
   "source": [
    "function calcular_estadisticas(X, Y)\n",
    "    @assert length(X)==length(Y)\n",
    "    n = length(X)\n",
    "    \n",
    "    # Calcular promedios\n",
    "    promedio_X = sum(X) / n\n",
    "    promedio_Y = sum(Y) / n\n",
    "    \n",
    "    # Calcular desviaciones estándar\n",
    "    varianza_X = sum((x - promedio_X)^2 for x in X) / (n - 1)\n",
    "    varianza_Y = sum((y - promedio_Y)^2 for y in Y) / (n - 1)\n",
    "    \n",
    "    desviacion_X = sqrt(varianza_X)\n",
    "    desviacion_Y = sqrt(varianza_Y)\n",
    "    \n",
    "    # Calcular covarianza\n",
    "    covarianza = sum((X[i] - promedio_X) * (Y[i] - promedio_Y) for i in 1:n) / (n - 1)\n",
    "\n",
    "    return (promedio_X, promedio_Y, desviacion_X, desviacion_Y, covarianza)\n",
    "end\n",
    "\n",
    "# Ejemplo de uso\n",
    "X=[1.82,\n",
    "1.75,\n",
    "1.58,\n",
    "1.59,\n",
    "1.84,\n",
    "1.63,\n",
    "1.78,\n",
    "1.72,\n",
    "1.67,\n",
    "1.75]\n",
    "Y=[0.38,\n",
    "0.41,\n",
    "0.41,\n",
    "0.42,\n",
    "0.46,\n",
    "0.46,\n",
    "0.46,\n",
    "0.49,\n",
    "0.51,\n",
    "0.48]\n",
    "\n",
    "resultados = calcular_estadisticas(X, Y)\n",
    "println(\"Promedio X: \", resultados[1])\n",
    "println(\"Promedio Y: \", resultados[2])\n",
    "println(\"Desviación estándar X: \", resultados[3])\n",
    "println(\"Desviación estándar Y: \", resultados[4])\n",
    "println(\"Covarianza: \", resultados[5])\n"
   ]
  },
  {
   "cell_type": "code",
   "execution_count": null,
   "id": "57cc692a-1448-43b8-8553-f573c57ae9fc",
   "metadata": {},
   "outputs": [],
   "source": []
  }
 ],
 "metadata": {
  "kernelspec": {
   "display_name": "Julia 1.10.5 1.10.5",
   "language": "julia",
   "name": "julia-1.10.5-1.10"
  },
  "language_info": {
   "file_extension": ".jl",
   "mimetype": "application/julia",
   "name": "julia",
   "version": "1.10.5"
  }
 },
 "nbformat": 4,
 "nbformat_minor": 5
}
