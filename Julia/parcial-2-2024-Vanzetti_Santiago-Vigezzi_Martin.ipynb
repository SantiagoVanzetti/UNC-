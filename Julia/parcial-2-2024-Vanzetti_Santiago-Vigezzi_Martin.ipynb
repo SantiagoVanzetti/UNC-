{
 "cells": [
  {
   "cell_type": "markdown",
   "id": "37ff4920",
   "metadata": {},
   "source": [
    "# Metodos Numéricos 2024\n",
    "\n",
    "## Parcial 2\n",
    "\n",
    "Fecha de entrega: próximo jueves 16 de mayo del 2024 a las 08:59:59 hs (AM).\n",
    "\n",
    "### Nombre(s):\n",
    "\n",
    "Poner aquí su/s nombre/s, appelido/s y DNI/s:\n",
    "\n",
    "* Santiago Vanzetti, 46.037.892\n",
    "* Martín Vigezzi, 46.486.140\n",
    "\n",
    "### Nota sobre la programación en Julia\n",
    "\n",
    "Recuerde que su notebook tiene que poder ser entendida por otra persona. Para ello:\n",
    "\n",
    "* Cuando crea conveniente, use texto Markdown para desarrollar o comentar una idea.\n",
    "\n",
    "* Agregue comentarios a su código de ser necesario.\n",
    "\n",
    "* Realice gráficos que tengan etiquetas en los ejes y leyendas para cada curva o serie de puntos graficados, como así también un título apropiado.\n",
    "\n",
    "* Procure respetar reglas de buena programación:\n",
    "\n",
    "    * Use **sangrías** adecuadamente (recuerde el concepto de **alcance** o **scope**).\n",
    "\n",
    "    * Cuando sea posible, implemente funciones de caracter general, en vez de código específico a cada problema, facilitando así la reutilización de código.\n",
    "\n",
    "    * Implemente funciones que tengan los argumentos necesarios para su buen funcionamiento.    "
   ]
  },
  {
   "cell_type": "markdown",
   "id": "445258cc",
   "metadata": {},
   "source": [
    "## Problema 1\n",
    "\n",
    "\n",
    "### Contexto físico\n",
    "\n",
    "Un problema central en la física y la química es la interacción a la que están sometidas dos partículas neutras separadas por una distancia $r$, ya sean átomos o moléculas. Se sabe que en el límite de gran separación, entre ella actúa una ténue fuerza atractiva, en tanto a pequeñas distancias actúa una fuerza respulsiva, resultante de la superposición de los orbitales electrónicos, conocida como *repulsión de Pauli*. \n",
    "\n",
    "En 1924, el matemático inglés Sir Edward Lennard-Jones propuso la expresión de un potencial efectivo para modelar esta interacción, la cual es muy utilizada en diversas áreas de la física y la química, por ejemplo en el estudio de la materia condensada, y recibe el nombre de **Potencial de Lennard-Jones**.\n",
    "\n",
    "La expresión matemática de dicho potencial es la siguiente:\n",
    "$$\n",
    "V(r) = 4\\,\\epsilon \\, \\left[ \\left(\\frac{\\sigma}{r}\\right)^{12} - \n",
    "         \\left(\\frac{\\sigma}r{} \\right)^{6} \\right]\n",
    "$$\n",
    "Aquí, el parámetro $\\varepsilon$ representa la profundidad del potencial (o sea, su valor mínimo), en tanto $\\sigma$ representa la distancia a la cual el potencial entre las dos partículas es cero.\n",
    "\n",
    "Los datos incluidos en el archivo adjunto `datos.dat` corresponden a las mediciones del potencial de Lennard-Jones entre los átomos que conforman un dímero en argón líquido. \n",
    "El archivo tiene dos columnas. La primera corresponde a variable independiente $r$, que es la distancia entre los átomos del dímero y la segunda columna corresponde a la medición de la energía potencial $V(r)$ de Lennard-Jones. La distancia $r$ tiene unidades de `nm` y el potencial de `erg`.\n",
    "\n",
    "El argón líquido tiene múltiples aplicaciones científicas e industriales, tales como soldaduras por arco de gas (también conocidas como soldaduras MIG), para enfriamiento criogénico, o sea, para enfriar dispositivos y materiales a temperaturas extremadamente bajas, cercanas al cero absoluto, en la física de altas energías para enfriar los detectores de partículas y para la crioconservación de células y tejidos, entre otras muchas aplicaciones."
   ]
  },
  {
   "cell_type": "markdown",
   "id": "abf0efaf",
   "metadata": {},
   "source": [
    "### Enunciados \n",
    "\n",
    "1. Considerando los datos del archivo `datos.dat`:\n",
    "\n",
    "    1. Lea y cargue los datos a vectores.\n",
    "    \n",
    "    2. Grafique la energía potencial de Lennard-Jones, $V(r)$, en función de la distancia $r$ entre los átomos del dímero. \n",
    "    \n",
    "    2. Describa cualitativamente el comportamiento del potencial y las consecuencias físicas en el comportamiento clásico del dímero.\n",
    "\n",
    "2. Usando el paquete `LsqFit`:\n",
    "\n",
    "    1. Ajuste los datos con la función que define el potencial de Lennard-Jones para los parámetros $\\varepsilon$ y $\\sigma$.\n",
    "    \n",
    "    2. Presente los parametros obtenidos con sus respectivos errores. **Ayuda:** use la función `stderror`.\n",
    "    \n",
    "    3. Grafique simultáneamente los datos del archivo con la curva del ajuste.\n",
    "\n",
    "3. Usando el ajuste:   \n",
    "\n",
    "    1. Construya una grilla en la variable $r$ entre $r_{min}=0.36$ nm y $r_{max}=0.75$ nm de paso $\\Delta r=0.005$. Con estos valores:\n",
    "        \n",
    "    2. Calcule los valores de $V(r)$.\n",
    "    \n",
    "    3. Calcule y evalúe la expresión analítica de la derivada $\\frac{dV}{dr}(r)$.    \n",
    "    \n",
    "    4. Calcule numéricamente la derivada $\\frac{dV}{dr}(r)$ vs $r$, usando la fórmula centrada de tres puntos. **Ayuda:** ojo con los extremos! Emplear en ellos una fórmula apropiada.\n",
    "\n",
    "    5. Utilizando lo calculado, calcule el error absoluto de la derivada numérica.\n",
    "    \n",
    "    6. Calcule el error relativo de la derivada numérica.\n",
    "\n",
    "    7. Grafique la derivada analíticamente obtenida del potencial de Lennard-Jones y en el mismo gráfico la aproximación numérica.\n",
    "    \n",
    "    8. Grafique el error absoluto en función de $r$.\n",
    "    \n",
    "    9. Grafique el error relativo en función de $r$.\n",
    "\n",
    "    10. A partir de estimar una cota para la derivada tercera del potencial en el intervalo [$0.37$ nm, $0.74$ nm], calcule una cota del error para la derivada centrada de tres puntos en dicho intervalo y compare con los errores obtenidos. Tenga en cuenta que para $h=\\Delta r$ se puede despreciar el error de redondeo. Comente los resultados.\n",
    "\n",
    "4. Infiera el valor del potencial de Lennard-Jones en el punto no medido $r_0=0.4375$ nm. \n",
    "\n",
    "    1. Hagalo usando tres métodos de interpolaciones diferentes:\n",
    "\n",
    "        1. Usando cuatro (4) puntos, los dos más próximos a la derecha y los dos más próximos a la izquierda del punto $r_0$.\n",
    "        2. Usando ocho (8) puntos, los cuatro más próximos a la derecha y los cuatro próximos a la izquierda del punto $r_0$.\n",
    "        3. Usando todos los puntos medidos.\n",
    "\n",
    "    2. Resuma los resultados obtenidos con cada uno de los tres casos usando una tabla del paquete `DataFrames` que incluya las columnas:\n",
    "    \n",
    "       * Método utilizado.\n",
    "       * El valor de la aproximación en $r_0$.\n",
    "       * El error relativo de la aproximación, utilizando como resultado exacto el valor de la función $V(r)$ con los parámetros del ajuste en $r=r_0$.\n",
    "\n",
    "    3. Comente los resultados obtenidos.\n",
    "\n",
    "5. Usando el método de Lagrange:\n",
    "    \n",
    "    1. Interpole las mediciones del potencial de Lennard-Jones del archivo `datos.dat` entre $r_{min}=0.32$ nm y $r_{max}=0.75$ nm con un paso $\\Delta r=0.005$. \n",
    "    \n",
    "    2. Grafique el polinomio interpolante en todo el intervalo de datos del archivo, junto con la funcion $V(r)$ resultante del ajuste. \n",
    "    \n",
    "    3. Comente los resultados."
   ]
  },
  {
   "cell_type": "code",
   "execution_count": null,
   "id": "0be67a83",
   "metadata": {},
   "outputs": [],
   "source": [
    "# Importamos librerias necesarias para trabajar\n",
    "using Plots\n",
    "using LaTeXStrings\n",
    "using DataFrames\n",
    "using LsqFit"
   ]
  },
  {
   "cell_type": "markdown",
   "id": "25fac23f",
   "metadata": {},
   "source": [
    "## Rta 1."
   ]
  },
  {
   "cell_type": "markdown",
   "id": "d80c0007",
   "metadata": {},
   "source": [
    "### A)"
   ]
  },
  {
   "cell_type": "code",
   "execution_count": null,
   "id": "974efca9",
   "metadata": {},
   "outputs": [],
   "source": [
    "R=Vector{Float64}()\n",
    "V=Vector{Float64}()\n",
    "open(\"datos.dat\",\"r\") do fh\n",
    "    for line in readlines(fh) #Cargo los datos de cada columna en dos vectores\n",
    "        cols = split(line)\n",
    "        push!(R,parse(Float64,cols[1]))\n",
    "        push!(V,parse(Float64,cols[2]))\n",
    "    end\n",
    "end"
   ]
  },
  {
   "cell_type": "markdown",
   "id": "135d179e",
   "metadata": {},
   "source": [
    "### B)"
   ]
  },
  {
   "cell_type": "code",
   "execution_count": null,
   "id": "68810db4",
   "metadata": {},
   "outputs": [],
   "source": [
    "plot(R,V,label=\"\")\n",
    "scatter!(R,V,label=\"Datos experimentales\",xlabel=L\"r[nm]\",ylabel=L\"V(r)[erg]\",title=\"Gráfico de datos experimentales de V(r)\",colour=:cyan)"
   ]
  },
  {
   "cell_type": "markdown",
   "id": "452353cc",
   "metadata": {},
   "source": [
    "### C)"
   ]
  },
  {
   "cell_type": "markdown",
   "id": "7f51c562",
   "metadata": {},
   "source": [
    "Observando la gráfica de los datos podemos sacar conclusiones acerca del comportamiento del potencial. Notamos que este tiene un mínimo en r=0.37nm, en el intervalo (0.32nm,0.33nm) es positiva y en el intervalo (0.33nm,0.37nm) la función se hace negativa, y podemos ver que en el límite a infinito el potencial tiende a 0.  \n",
    "Esto lo podemos interpretar como que la partícula, cuando está a una distancia mayor a 0.33nm, siente una fuerza de atracción (el potencial es negativo), y si está a una distancia menor la fuerza se vuelve repulsiva presuntamente debido al efecto de repulsión de Pauli. Además, si la partícula se encontrara aproximadamente a 0.33nm (σ), llegaría a un estado de equilibrio, ya que las fuerzas de atracción y repulsión se cancelan. Idealmente, si no existieran otras interacciones, y la partícula estuviese en reposo se mantendría siempre a la misma distancia.  \n",
    "Por último podemos decir que en 0.37 la partícula experimentará un máximo de atracción que será igual a ε [$erg$]."
   ]
  },
  {
   "cell_type": "markdown",
   "id": "fa2fd32e",
   "metadata": {},
   "source": [
    "## Rta 2."
   ]
  },
  {
   "cell_type": "markdown",
   "id": "067fff17",
   "metadata": {},
   "source": [
    "### A)"
   ]
  },
  {
   "cell_type": "code",
   "execution_count": null,
   "id": "29f4694c",
   "metadata": {},
   "outputs": [],
   "source": [
    "@. model(r, p) = 4*p[1]*((p[2]/r)^12-(p[2]/r)^6) #Modelo de ajuste\n",
    "fit= curve_fit(model,R,V,[1.0,2.0])\n",
    "p=coef(fit) #Coeficientes de ajuste"
   ]
  },
  {
   "cell_type": "markdown",
   "id": "e9d6c9f6",
   "metadata": {},
   "source": [
    "### B)"
   ]
  },
  {
   "cell_type": "code",
   "execution_count": null,
   "id": "76e69b0b",
   "metadata": {},
   "outputs": [],
   "source": [
    "p_error=standard_errors(fit) #Errores de los parametros obtenidos"
   ]
  },
  {
   "cell_type": "markdown",
   "id": "42d62639",
   "metadata": {},
   "source": [
    "##### Los valores de ϵ y σ con sus respectivos errores son:\n",
    "\n",
    "$ϵ$=(125.73808543893351 ± 0.19399004435416) $erg$\n",
    "\n",
    "$σ$=(0.334454265472062 ± 2.790279970852723e-5) $nm$"
   ]
  },
  {
   "cell_type": "markdown",
   "id": "03da3c61",
   "metadata": {},
   "source": [
    "### C)"
   ]
  },
  {
   "cell_type": "code",
   "execution_count": null,
   "id": "0ad88a68",
   "metadata": {},
   "outputs": [],
   "source": [
    "x= range(0.32,0.74,length=200)\n",
    "P(r)=model(r,p)\n",
    "plot(x,P,label=\"Ajuste de los datos\",xlabel=L\"r[nm]\",ylabel=L\"V(r)[erg]\",title=\"Gráfica de ajuste de los datos\")\n",
    "scatter!(R,V,label=\"Datos experimentales\")"
   ]
  },
  {
   "cell_type": "markdown",
   "id": "7d61cf50",
   "metadata": {},
   "source": [
    "## Rta 3."
   ]
  },
  {
   "cell_type": "markdown",
   "id": "54fa407e",
   "metadata": {},
   "source": [
    "### A)/B)"
   ]
  },
  {
   "cell_type": "code",
   "execution_count": null,
   "id": "3c315695",
   "metadata": {},
   "outputs": [],
   "source": [
    "DatR=zeros(79)\n",
    "DatV=zeros(79)\n",
    "for i in 0:78 #Defino vectores con los valores de r de 0.36 a 0.75 con un paso de 0.005\n",
    "    DatV[i+1]=P(i*0.005+0.36) \n",
    "    DatR[i+1]=i*0.005+0.36\n",
    "end\n",
    "Data=DataFrame(R=DatR,V=DatV)"
   ]
  },
  {
   "cell_type": "markdown",
   "id": "9be2b1c5",
   "metadata": {},
   "source": [
    "### C)"
   ]
  },
  {
   "cell_type": "code",
   "execution_count": null,
   "id": "30137374",
   "metadata": {},
   "outputs": [],
   "source": [
    "dV(r)=(-48*p[1]*p[2]^12+24*r^6*p[1]*p[2]^6)/(r^13) #Derivada analítica del potencial de Lennard-Jones\n",
    "x= range(0.36,0.75,length=200)\n",
    "plot(x,dV,xlabel=L\"r[nm]\",ylabel=L\"dV/dr(r)[erg/nm]\",title=\"Derivada analítica de V con respecto a r\",label=L\"dV/dr\")"
   ]
  },
  {
   "cell_type": "markdown",
   "id": "23ba1362",
   "metadata": {},
   "source": [
    "### D)"
   ]
  },
  {
   "cell_type": "code",
   "execution_count": null,
   "id": "fb76df6b",
   "metadata": {},
   "outputs": [],
   "source": [
    "function derivada_num(X,Y)\n",
    "    n=length(X)\n",
    "    df=zeros(n) #Vector de las derivadas de f en cada punto de X\n",
    "    h=0.005 #En este caso en específico h vale 0.005(=X[i+1]-X[i])\n",
    "    for i in 1:n\n",
    "        if i!==1 && i!==n\n",
    "            df[i]=(Y[i+1]-Y[i-1])/(2*h) #3 puntos centrada\n",
    "        else\n",
    "            if i==1\n",
    "                df[i]=(-3*Y[i]+4*Y[i+1]-Y[i+2])/(2*h) #Extremo izquierdo del intervalo\n",
    "            else\n",
    "                df[i]=(3*Y[i]-4*Y[i-1]+Y[i-2])/(2*h) #Extremo derecho del intervalo\n",
    "            end\n",
    "        end\n",
    "    end\n",
    "    return df\n",
    "end     "
   ]
  },
  {
   "cell_type": "code",
   "execution_count": null,
   "id": "384cd6b7",
   "metadata": {},
   "outputs": [],
   "source": [
    "dn=derivada_num(DatR,DatV)"
   ]
  },
  {
   "cell_type": "code",
   "execution_count": null,
   "id": "42c918d2",
   "metadata": {},
   "outputs": [],
   "source": [
    "plot(DatR,dn,label=\"\") #Uno con lineas las derivadas de V en cada punto\n",
    "scatter!(DatR,dn,title=\"Derivada de V calculada numéricamente\",ylabel=L\"dV/dr[erg/nm]\",xlabel=L\"r[nm]\",label=L\"dV/dr\")"
   ]
  },
  {
   "cell_type": "markdown",
   "id": "78d3c953",
   "metadata": {},
   "source": [
    "### E)"
   ]
  },
  {
   "cell_type": "code",
   "execution_count": null,
   "id": "78ce5775",
   "metadata": {},
   "outputs": [],
   "source": [
    "e(x,y)=abs(x-dV(y)) \n",
    "e_V=e.(dn,DatR) #Vector de los errores absolutos"
   ]
  },
  {
   "cell_type": "markdown",
   "id": "33429cf8",
   "metadata": {},
   "source": [
    "### F)"
   ]
  },
  {
   "cell_type": "code",
   "execution_count": null,
   "id": "bf11dcfa",
   "metadata": {},
   "outputs": [],
   "source": [
    "erV(x,y)=abs(x-dV(y))/(abs(dV(y))) #Nota como la derivada es 0 entre 0.37 y 0.38 se dispara el error relativo en este punto\n",
    "er_V=erV.(dn,DatR) #Vector de los errores relativos"
   ]
  },
  {
   "cell_type": "markdown",
   "id": "1869e6ab",
   "metadata": {},
   "source": [
    "### G)"
   ]
  },
  {
   "cell_type": "code",
   "execution_count": null,
   "id": "70fb45f3",
   "metadata": {},
   "outputs": [],
   "source": [
    "r=range(0.36,0.75,length=200)\n",
    "plot(r,dV,xlabel=L\"r[nm]\",ylabel=L\"dV/dr(r)[erg/nm]\",title=\"Derivada de V\",label=\"Derivada analítica\")\n",
    "scatter!(DatR,dn,label=\"Derivada numérica\")"
   ]
  },
  {
   "cell_type": "markdown",
   "id": "57fa4e5e",
   "metadata": {},
   "source": [
    "### H)"
   ]
  },
  {
   "cell_type": "code",
   "execution_count": null,
   "id": "f9332ae0",
   "metadata": {},
   "outputs": [],
   "source": [
    "#Error absoluto de la aproximación numérica de la derivada de V\n",
    "r=range(0.36,0.75,length=200)\n",
    "plot(DatR,e_V,label=\"\")\n",
    "scatter!(DatR,e_V,title=\"Error absoluto del método de 3 puntos\",label=\"Error absoluto\",xlabel=L\"r[nm]\",ylabel=L\"V(r)[erg]\")"
   ]
  },
  {
   "cell_type": "markdown",
   "id": "9abaa314",
   "metadata": {},
   "source": [
    "### I)"
   ]
  },
  {
   "cell_type": "code",
   "execution_count": null,
   "id": "4d4aaca8",
   "metadata": {},
   "outputs": [],
   "source": [
    "#Error relativo de la aproximación numérica de la derivada de V\n",
    "r=range(0.36,0.75,length=200) \n",
    "plot(DatR,er_V,label=\"\")\n",
    "scatter!(DatR,er_V,title=\"Error relativo de la derivada de V\",xlabel=L\"r[nm]\",ylabel=\"Error relativo\",label=\"Error relativo\")"
   ]
  },
  {
   "cell_type": "markdown",
   "id": "f9203328",
   "metadata": {},
   "source": [
    "### J)"
   ]
  },
  {
   "cell_type": "code",
   "execution_count": null,
   "id": "c354e9b6-4c2a-496c-8caa-2a948deccf50",
   "metadata": {},
   "outputs": [],
   "source": [
    "d3V(r)=672*p[1]*p[2]^6*(2/r^9-(13*p[2]^6)/r^15)\n",
    "r=range(0.37,0.74,length=300)\n",
    "plot(r,d3V,title=\"Derivada tercera de V\",label=\"\",xlabel=L\"r\",ylabel=L\"d^3V/dr^3\")"
   ]
  },
  {
   "cell_type": "markdown",
   "id": "8084ec40-b56a-442f-a3bd-86c149a1f45f",
   "metadata": {},
   "source": [
    "A partir de calcular y graficar la derivada tercera de V con respecto a r notamos que la función en el intervalo [0.37,0.74] tiene un mínimo en su extremo izquierdo el cuál vale -4.633489e+6. Por lo que tomaremos como cota M=4.7e+6. Usando h=0.005:"
   ]
  },
  {
   "cell_type": "code",
   "execution_count": null,
   "id": "6d2b291c",
   "metadata": {},
   "outputs": [],
   "source": [
    "M=4.7e+6\n",
    "h=0.005\n",
    "E=(M*h^2)/6"
   ]
  },
  {
   "cell_type": "markdown",
   "id": "25bf20fd-e579-422d-af22-e7be457b26ee",
   "metadata": {},
   "source": [
    "El error en el intervalo [0.37,0.74] será menor a 19.5834 lo cual concuerda con lo observado el el gráfico del error absoluto de la derivada de V. En el punto con mayor error se puede ver que este vale 19.3589, a partir de aqui este decrece. Esto se puede ver en la siguiente tabla:"
   ]
  },
  {
   "cell_type": "code",
   "execution_count": null,
   "id": "17dd1d3d-c168-41a1-961a-d2c3a8f24cc1",
   "metadata": {},
   "outputs": [],
   "source": [
    "Ra=[0.36; 0.365; 0.37; 0.375; 0.8]\n",
    "Ea=[51.95165982922913; 24.4733390612256; 19.358972758518632; 15.306892298198512; 12.091836867213544]\n",
    "Data=DataFrame(r=Ra,ErrorAbsoluto=Ea)"
   ]
  },
  {
   "cell_type": "markdown",
   "id": "f7265a46",
   "metadata": {},
   "source": [
    "## Rta 4."
   ]
  },
  {
   "cell_type": "markdown",
   "id": "02d21c78",
   "metadata": {},
   "source": [
    "### A)"
   ]
  },
  {
   "cell_type": "markdown",
   "id": "bf5ff6cb",
   "metadata": {},
   "source": [
    "### Polinomio Newton"
   ]
  },
  {
   "cell_type": "code",
   "execution_count": null,
   "id": "c9a9c1d7",
   "metadata": {},
   "outputs": [],
   "source": [
    "function newton(x,X,Y) #Interpolación utilizando el polinomio de Newton\n",
    "    n=length(Y)\n",
    "    Z = deepcopy(Y) #Asigna a Z el valor inicial de Y y no cambia cuando cambia Y\n",
    "    for j in 2:n\n",
    "        for i in n:-1:j\n",
    "            Z[i]=(Z[i]-Z[i-1])/(X[i]-X[i-j+1])\n",
    "        end\n",
    "    end\n",
    "    s=Z[n]\n",
    "    for i in n-1:-1:1\n",
    "          s=Z[i]+s*(x-X[i])\n",
    "    end\n",
    "    return s\n",
    "end"
   ]
  },
  {
   "cell_type": "markdown",
   "id": "a8787e8d",
   "metadata": {},
   "source": [
    "### a) 4 Puntos"
   ]
  },
  {
   "cell_type": "code",
   "execution_count": null,
   "id": "43260cd5",
   "metadata": {},
   "outputs": [],
   "source": [
    "Ra=[0.42 0.43 0.44 0.45] #Cuatro puntos mas cercanos a 0.4375\n",
    "Va=[-0.958017266E+02 -0.866903323E+02 -0.776638539E+02 -0.714419458E+02] #Valores del potencial en los 4 puntos"
   ]
  },
  {
   "cell_type": "code",
   "execution_count": null,
   "id": "40f367f7",
   "metadata": {},
   "outputs": [],
   "source": [
    "Inter4(x)=newton(x,Ra,Va) #Interpolación con los 4 puntos\n",
    "I4=Inter4(0.4375) #Valor de la interpolación en 0.4375"
   ]
  },
  {
   "cell_type": "markdown",
   "id": "237319bb",
   "metadata": {},
   "source": [
    "### b) 8 Puntos"
   ]
  },
  {
   "cell_type": "code",
   "execution_count": null,
   "id": "ae6df865",
   "metadata": {},
   "outputs": [],
   "source": [
    "Rb=[0.40 0.41 0.42 0.43 0.44 0.45 0.46 0.47] #Ocho puntos mas cercanos a 0.4375\n",
    "Vb=[-0.112788342E+03 -0.103679659E+03 -0.958017266E+02 -0.866903323E+02 -0.776638539E+02 -0.714419458E+02 -0.642420530E+02 -0.567901561E+02] #Valores del potencial en los 8 puntos"
   ]
  },
  {
   "cell_type": "code",
   "execution_count": null,
   "id": "034cd9bf",
   "metadata": {},
   "outputs": [],
   "source": [
    "Inter8(x)=newton(x,Rb,Vb) #Interpolación con los 8 puntos\n",
    "I8=Inter8(0.4375) #Valor de la interpolación en 0.4375"
   ]
  },
  {
   "cell_type": "markdown",
   "id": "404d5529",
   "metadata": {},
   "source": [
    "### c) Todos los Puntos"
   ]
  },
  {
   "cell_type": "code",
   "execution_count": null,
   "id": "b91aaebb",
   "metadata": {},
   "outputs": [],
   "source": [
    "Inter(x)=newton(x,R,V) #interpolación usando todos los puntos dados en datos.dat\n",
    "It=Inter(0.4375) #Valor de la interpolación en 0.4375"
   ]
  },
  {
   "cell_type": "markdown",
   "id": "3a0e8e52",
   "metadata": {},
   "source": [
    "### B)"
   ]
  },
  {
   "cell_type": "code",
   "execution_count": null,
   "id": "e14e5904",
   "metadata": {},
   "outputs": [],
   "source": [
    "r0=[I4; I8; It] #Defino vector de los resultados de r_0 con cada método\n",
    "Mu=[\"4 puntos\"; \"8 puntos\";  \"Todos los puntos\"] #Defino el vector de métodos utilizados\n",
    "Pr=P(0.4375) #Valor del ajuste en r_0\n",
    "Erel(x)=abs(x-Pr)/abs(Pr) #Función del error relativo\n",
    "vec_er=Erel.(r0) #Evaluo el error relativo para cada aproximacion de r0\n",
    "Data=DataFrame(Método_utilizado=Mu,r_0=r0,Error_relativo=vec_er)"
   ]
  },
  {
   "cell_type": "markdown",
   "id": "5264abf4",
   "metadata": {},
   "source": [
    "### C)"
   ]
  },
  {
   "cell_type": "markdown",
   "id": "4b1d7f69",
   "metadata": {},
   "source": [
    "Luego de realizar las 3 interpolaciones (utilizando distintas cantidades de puntos interpolados en cada una) podemos ver que la que más se aproxima al valor esperado, es decir, al obtenido con la función ajustada anteriormente, es la que interpola 4 puntos. Si bien esto parece contraintuitivo, nos lleva a pensar que el Fenómeno de Runge siempre está presente, en mayor o menor medida, ya que en esta ocasión estamos utilizando puntos equiespaciados."
   ]
  },
  {
   "cell_type": "code",
   "execution_count": null,
   "id": "cf40c0f2-37f2-4f3d-b04f-c78a76f79f20",
   "metadata": {},
   "outputs": [],
   "source": [
    "x=range(0.32,0.74,length=200)\n",
    "plot(x,Inter8,ylims=(-140,210),label=\"8 puntos\")\n",
    "plot!(x,Inter,label=\"Todos los puntos\",title=\"Interpolaciones alrededor del punto 0.4375\")\n",
    "plot!(x,Inter4,label=\"4 puntos\")\n",
    "scatter!(R,V,label=\"Datos experimentales\",thickness_scaling=0.8)"
   ]
  },
  {
   "cell_type": "markdown",
   "id": "3cf0ffe6",
   "metadata": {},
   "source": [
    "## Rta 5."
   ]
  },
  {
   "cell_type": "markdown",
   "id": "076b5e0b",
   "metadata": {},
   "source": [
    "### A)"
   ]
  },
  {
   "cell_type": "markdown",
   "id": "bbb174a5",
   "metadata": {},
   "source": [
    "### Función de los Coeficientes $L_i$"
   ]
  },
  {
   "cell_type": "code",
   "execution_count": null,
   "id": "3a051dd3",
   "metadata": {},
   "outputs": [],
   "source": [
    "function L(x,i,N) #Cálculo de los coeficientes de Lagrange\n",
    "    n=length(N)\n",
    "    p=1\n",
    "    for j in 1:n \n",
    "        if j != i\n",
    "            p*=(x-N[j])/(N[i]-N[j])\n",
    "        end\n",
    "    end\n",
    "    return p\n",
    "end"
   ]
  },
  {
   "cell_type": "markdown",
   "id": "d240814c",
   "metadata": {},
   "source": [
    "### Polinomio Lagrange"
   ]
  },
  {
   "cell_type": "code",
   "execution_count": null,
   "id": "5aba8ce0",
   "metadata": {},
   "outputs": [],
   "source": [
    "function Lg(x,X,Y) #Armado del polinomio de Lagrange\n",
    "    m=length(X)\n",
    "    w=0\n",
    "    for k in 1:m\n",
    "        w+=Y[k]*L(x,k,X)\n",
    "    end\n",
    "    return w\n",
    "end"
   ]
  },
  {
   "cell_type": "code",
   "execution_count": null,
   "id": "f40a7294",
   "metadata": {},
   "outputs": [],
   "source": [
    "Lagrange(x)=Lg(x,R,V)"
   ]
  },
  {
   "cell_type": "markdown",
   "id": "184bc53b",
   "metadata": {},
   "source": [
    "### B)"
   ]
  },
  {
   "cell_type": "code",
   "execution_count": null,
   "id": "e7113368",
   "metadata": {},
   "outputs": [],
   "source": [
    "x= range(0.32,0.74,length=200)\n",
    "l(x)=Lagrange(x)\n",
    "plot(x,l,ylims=(-140,210),title=\"Interpolación de los datos\",xlabel=L\"r[nm]\",ylabel=L\"V(r)[erg]\",label=\"Polinomio de Lagrange\")\n",
    "plot!(x,P,c=:black,label=\"Ajuste de los datos\")\n",
    "scatter!(R,V,c=:orange,label=\"Datos experimentales\")"
   ]
  },
  {
   "cell_type": "markdown",
   "id": "42104b29",
   "metadata": {},
   "source": [
    "### C)"
   ]
  },
  {
   "cell_type": "markdown",
   "id": "12be5dd6",
   "metadata": {},
   "source": [
    "Podemos notar que la aproximación por interpolación utilizando todos los datos dados experimentalmente no se parece en lo absoluto al ajuste por cuadrados mínimos.\n",
    "Esta discrepancia está dada por el hecho de que utilizamos muchos puntos equiespaciados para aproximar nuestra función, dando lugar al “Fenómeno de Runge” que resulta en las erráticas oscilaciones observadas.\n",
    "Además, utilizar el método de interpolación no resulta útil en este tipo de casos, ya que este hace coincidir el polinomio con todos los puntos interpolantes, los cuales al ser datos experimentales, conllevan un error, el cual estamos teniendo en cuenta. En consecuencia, existe una discrepancia con los conocimientos teóricos."
   ]
  }
 ],
 "metadata": {
  "kernelspec": {
   "display_name": "Julia 1.10.2",
   "language": "julia",
   "name": "julia-1.10"
  },
  "language_info": {
   "file_extension": ".jl",
   "mimetype": "application/julia",
   "name": "julia",
   "version": "1.10.2"
  }
 },
 "nbformat": 4,
 "nbformat_minor": 5
}
