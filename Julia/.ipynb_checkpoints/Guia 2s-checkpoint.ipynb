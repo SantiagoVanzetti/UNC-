{
 "cells": [
  {
   "cell_type": "markdown",
   "metadata": {},
   "source": [
    "# Métodos Numéricos 2024 "
   ]
  },
  {
   "cell_type": "markdown",
   "metadata": {},
   "source": [
    "## Guía 2: 2024-04-04 - Solución de ecuaciones de una variable"
   ]
  },
  {
   "cell_type": "code",
   "execution_count": null,
   "metadata": {},
   "outputs": [],
   "source": [
    "using Plots\n",
    "using LaTeXStrings\n",
    "using DataFrames # Recuerde instalar este paquete ingresando en una celda: using Pkg; Pkg.add(\"DataFrames\")"
   ]
  },
  {
   "cell_type": "code",
   "execution_count": null,
   "metadata": {},
   "outputs": [],
   "source": [
    "using Pkg\n",
    "Pkg.add(\"DataFrames\")"
   ]
  },
  {
   "cell_type": "code",
   "execution_count": null,
   "metadata": {},
   "outputs": [],
   "source": [
    "v=[1 2 3 4 5]"
   ]
  },
  {
   "cell_type": "code",
   "execution_count": null,
   "metadata": {},
   "outputs": [],
   "source": [
    "f(x)=x^2-1"
   ]
  },
  {
   "cell_type": "code",
   "execution_count": null,
   "metadata": {},
   "outputs": [],
   "source": [
    "f.(v) #Aplica la funcion a cada elemento del Array (Transformacion lineal)"
   ]
  },
  {
   "cell_type": "markdown",
   "metadata": {},
   "source": [
    "### Problema 1\n",
    "\n",
    "Desarrolle un programa para encontrar la raíz de una función $f$ utilizando el **método de la bisección**.\n",
    "El programa debe tomar como datos de entrada:\n",
    "\n",
    "* la función $f:\\mathbb{R}\\to \\mathbb{R}$, \n",
    "\n",
    "* el intervalo inicial $[a,b]$, \n",
    "\n",
    "* la máxima tolerancia permitida $\\varepsilon_x$ al error relativo $(p-x)/x$ de la aproximación $p$ de la raíz $x$ de $f$ en $[a,b]$,\n",
    "\n",
    "* la máxima tolerancia permitida $\\varepsilon_f$ al valor de $|f(p)|$,\n",
    "\n",
    "* y el número máximo $n_{\\max}$ de iteraciones permitidas.\n",
    "\n",
    "El programa debe retornar una tupla con las siguientes componentes:\n",
    "\n",
    "* un booleano indicando si el algoritmo convergió o no dentro de las tolerancias máximas permitidas $\\varepsilon_x$ y $\\varepsilon_f$,\n",
    "\n",
    "* un vector de componentes $p_i$ que representan las aproximaciones a la raíz $x$ obtenidas por el algoritmo en sucesivas iteraciones $i=1,2,...,n$,\n",
    "\n",
    "* un vector de componentes $f_i=f(p_i)$,\n",
    "\n",
    "* un vector de componentes $c_i=|b_i-a_i|/2$ que representan cotas de los errores absolutos $|x-p_i|$,\n",
    "\n",
    "* y un vector de componentes $r_i=c_i/|p_i|$ que representan estimaciones de los errores relativos $|x-p_i|/|x|$.\n",
    "\n",
    "El programa debe deternerse si se cumple:\n",
    "\n",
    "$$\n",
    "(r_i<\\varepsilon_x \\;\\; \\text{AND} \\;\\; |f_i|<\\varepsilon_f) \\;\\; \\text{OR} \\;\\; i=n_{\\max}\n",
    "$$\n",
    "\n",
    "El programa debe trabajar con números de precisión suficientemente alta como para obtener resultados con 12 cifras significativas en los reales (ej. `Float64`).\n",
    "\n",
    "Con el programa desarrollado, Ud. debe:\n",
    "\n",
    "1. Encontrar una aproximación a $\\sqrt{3}$ con un error (relativo en $x$ y absoluto en $y$) menor a $10^{-5}$. Para ello: \n",
    "\n",
    "    * Note que $\\sqrt{3}$ es la raíz positiva de la ecuación $f(x)=x^2-3$.\n",
    "    * Grafique $f(x)$ vs $x$ en el intervalo $[1,2]$ para determinar que tiene una raíz allí.\n",
    "    * Utilice el programa desarrollado para calcular los vectores de aproximaciones y errores.\n",
    "    * Imprima una lista con los valores $i$, $p_i$, $f_i$, $c_i$ y $r_i$ para $i=1,...,n$, utilizando el paquete `DataFrames`.\n",
    "    * Grafique $p_i$ vs $i$ usando puntos (en vez de una línea contínua).\n",
    "    * Grafique $|f_i|$ vs $i$ usando puntos, escala logarítmica en el eje $y$ y lineal en el eje $x$.\n",
    "    * En una misma figura, grafique con puntos de un color los errores absolutos $c_i$ vs $i$ y con puntos de otro color los errores relativos $r_i$ vs $i$, utilizando escala logarítimica en el eje $y$ y lineal en el eje $x$. \n",
    "    * Responda: \n",
    "        * Cuanto vale la presunta mejor aproximación $p_n$? \n",
    "        * Cuántas iteraciones fueron necesarias?\n",
    "        * Cuales son los valores exactos de los errores absoluto y relativo que se obtienen de comparando el resultado $p_n$ con el \"analítico\"?   \n",
    "    \n",
    "2. Encontrar la menor solución positiva de la ecuación $g(x)=\\tan(x)-2x$ con un error relativo en $x$ y absoluto en $y$ menor a $10^{-5}$. Para ello, repita lo realizado en el inciso anterior considerando el intérvalo $x\\in [0.8,1.4]$, pero exceptuando el último item ya que no podemos calcular el valor analítico en este caso. \n",
    "\n",
    "**IMPORTANTE:** Recuerde poner títulos, etiquetas a los ejes y leyendas para las curvas o puntos de los gráficos."
   ]
  },
  {
   "cell_type": "code",
   "execution_count": null,
   "metadata": {},
   "outputs": [],
   "source": [
    "#Metodo de biseccion\n",
    "function biseccion(f,intervalo;tolx=1e-5,toly=1e-5,n_max=100)\n",
    "    a,b=intervalo\n",
    "    @assert a<=b\n",
    "    fa=f(a)\n",
    "    @assert fa*f(b)<0\n",
    "    vec_p=zeros(n_max) #Vector de los puntos de biseccion\n",
    "    vec_fp=zeros(n_max) #Vector de los valores de f en los puntos de biseccion\n",
    "    vec_c=zeros(n_max) #Vector de cotas de los errores absolutos\n",
    "    vec_r=zeros(n_max) #Vector de estimacion de error relativo\n",
    "    for i in 1:n_max\n",
    "        p=(a+b)/2\n",
    "        fp=f(p)\n",
    "        c=(b-a)/2\n",
    "        r=c/(abs(p))\n",
    "        vec_p[i]=p\n",
    "        vec_fp[i]=fp\n",
    "        vec_c[i]=c\n",
    "        vec_r[i]=r\n",
    "        if r<tolx && abs(fp)<toly\n",
    "            return true, vec_p[1:i], vec_fp[1:i], vec_c[1:i], vec_r[1:i]\n",
    "        end\n",
    "        if f(a)*fp<0 #Redefine a o b siguiendo el metodo, fijandose el signo de f(p)\n",
    "            b=p\n",
    "        else\n",
    "            a=p\n",
    "            fa=fp\n",
    "        end\n",
    "    end\n",
    "    return false, vec_p, vec_fp, vec_c, vec_r \n",
    "end\n",
    "f(x)=tan.(x)-2x #Con tolx=1e-5 y toly=1e-5 e intervalo [0.8,1.4]\n",
    "intervalo=0.8,1.4"
   ]
  },
  {
   "cell_type": "code",
   "execution_count": null,
   "metadata": {},
   "outputs": [],
   "source": [
    "conv,vec_p, vec_fp, vec_c, vec_r=biseccion(f,intervalo;tolx=1e-5,toly=1e-5,n_max=100)"
   ]
  },
  {
   "cell_type": "code",
   "execution_count": null,
   "metadata": {},
   "outputs": [],
   "source": [
    "using Plots\n",
    "x=range(0.8,1.4,length=100)\n",
    "plot(x,f)"
   ]
  },
  {
   "cell_type": "code",
   "execution_count": null,
   "metadata": {},
   "outputs": [],
   "source": [
    "using DataFrames\n",
    "data=DataFrame(p_i=vec_p,f_i=vec_fp,c_i=vec_c,r_i=vec_r)"
   ]
  },
  {
   "cell_type": "code",
   "execution_count": null,
   "metadata": {},
   "outputs": [],
   "source": [
    "using Plots\n",
    "n=length(vec_p)\n",
    "scatter(1:n,vec_p,xlabel=\"Iteracion\",ylabel=\"Punto p\") #scatter grafica los valores de las cordenadas de un vector"
   ]
  },
  {
   "cell_type": "code",
   "execution_count": null,
   "metadata": {},
   "outputs": [],
   "source": [
    "scatter(1:n,i->abs(vec_fp[i]),yscale=:log10,xlabel=\"Iteracion\",ylabel=\"|f(p)|\") "
   ]
  },
  {
   "cell_type": "code",
   "execution_count": null,
   "metadata": {},
   "outputs": [],
   "source": [
    "n=length(vec_c)\n",
    "scatter(1:n,[vec_c,vec_r],yscale=:log10,xlabel=\"i\",ylabel=\"Errores\")"
   ]
  },
  {
   "cell_type": "code",
   "execution_count": null,
   "metadata": {},
   "outputs": [],
   "source": [
    "#La mejor aproximacion de p es en la iteracion 16 pues es la que tiene menos error\n",
    "#Fueron necesarias 16 iteraciones"
   ]
  },
  {
   "cell_type": "code",
   "execution_count": null,
   "metadata": {},
   "outputs": [],
   "source": [
    "#1.\n",
    "using DataFrames\n",
    "function biseccion(f,intervalo;tolx=1e-5,toly=1e-5,n_max=100)\n",
    "    a,b=intervalo\n",
    "    @assert a<=b\n",
    "    fa=f(a)\n",
    "    @assert fa*f(b)<0\n",
    "    vec_p=zeros(n_max) #Vector de los puntos de biseccion\n",
    "    vec_fp=zeros(n_max) #Vector de los valores de f en los puntos de biseccion\n",
    "    vec_c=zeros(n_max) #Vector de cotas de los errores absolutos\n",
    "    vec_r=zeros(n_max) #Vector de estimacion de error relativo\n",
    "    for i in 1:n_max\n",
    "        p=(a+b)/2\n",
    "        fp=f(p)\n",
    "        c=(b-a)/2\n",
    "        r=c/(abs(p))\n",
    "        vec_p[i]=p\n",
    "        vec_fp[i]=fp\n",
    "        vec_c[i]=c\n",
    "        vec_r[i]=r\n",
    "        if r<tolx && abs(fp)<toly\n",
    "            return true, vec_p[1:i], vec_fp[1:i], vec_c[1:i], vec_r[1:i]\n",
    "        end\n",
    "        if f(a)*fp<0 #Redefine a o b siguiendo el metodo\n",
    "            b=p\n",
    "        else\n",
    "            a=p\n",
    "            fa=fp\n",
    "        end\n",
    "    end\n",
    "    return false, vec_p, vec_fp, vec_c, vec_r #Si no se cuple lo que esta dentro del loop en las iteraciones dadas entonces indica que no converge usando el booleano false\n",
    "end\n",
    "f(x)=x^2-3\n",
    "intervalo=1,2"
   ]
  },
  {
   "cell_type": "code",
   "execution_count": null,
   "metadata": {},
   "outputs": [],
   "source": [
    "conv,vec_p, vec_fp, vec_c, vec_r=biseccion(f,intervalo;tolx=1e-5,toly=1e-5,n_max=100) #Define cada valor devuelto por la funcion para luego utulizarlos"
   ]
  },
  {
   "cell_type": "code",
   "execution_count": null,
   "metadata": {},
   "outputs": [],
   "source": [
    "#Colocar valor o vector devuelto por la funcion para printearlo \n",
    "vec_r"
   ]
  },
  {
   "cell_type": "code",
   "execution_count": null,
   "metadata": {},
   "outputs": [],
   "source": [
    "using DataFrames\n",
    "data= DataFrame(p_i=vec_p,f_i=vec_fp,c_i=vec_c,r_i=vec_r) #Crea una tabla de valores usando las cordenadas de los vectores"
   ]
  },
  {
   "cell_type": "code",
   "execution_count": null,
   "metadata": {},
   "outputs": [],
   "source": [
    "using Plots\n",
    "n=length(vec_p)\n",
    "scatter(1:n,vec_p,xlabel=\"Iteracion\",ylabel=\"Punto p\") #scatter grafica los valores de las cordenadas de un vector"
   ]
  },
  {
   "cell_type": "code",
   "execution_count": null,
   "metadata": {},
   "outputs": [],
   "source": [
    "scatter(1:n,i->abs(vec_fp[i]),yscale=:log10,xlabel=\"Iteracion\",ylabel=\"|f(p)|\") #i->abs(vec_fp) manda cada coordenada i del vector a lo indicado\n",
    "#yscale={:log10,:log2,:Identity,:ln} cabia la escala del eje elejido"
   ]
  },
  {
   "cell_type": "code",
   "execution_count": null,
   "metadata": {},
   "outputs": [],
   "source": [
    "n=length(vec_c)\n",
    "scatter(1:n,[vec_c,vec_r],yscale=:log10,xlabel=\"i\",ylabel=\"Errores\")"
   ]
  },
  {
   "cell_type": "code",
   "execution_count": null,
   "metadata": {},
   "outputs": [],
   "source": [
    "# La mejor aproximacion de p fue fue en i=16 pues el error c fue el menor\n",
    "#Fueron necesarias 16 iteraciones"
   ]
  },
  {
   "cell_type": "code",
   "execution_count": null,
   "metadata": {},
   "outputs": [],
   "source": [
    "e=zeros(16)\n",
    "for i in 1:16\n",
    "    e[i]=abs(√3-vec_p[i])\n",
    "end\n",
    "data=DataFrame(error=e)"
   ]
  },
  {
   "cell_type": "code",
   "execution_count": null,
   "metadata": {},
   "outputs": [],
   "source": [
    "#Por lo anterior el valor mas cercano al analitico fue dado por la iteracion 13"
   ]
  },
  {
   "cell_type": "code",
   "execution_count": null,
   "metadata": {},
   "outputs": [],
   "source": [
    "using Plots\n",
    "x=range(1,2,length=100)\n",
    "f=@. x^2-3\n",
    "plot(x,f)"
   ]
  },
  {
   "cell_type": "code",
   "execution_count": null,
   "metadata": {},
   "outputs": [],
   "source": [
    "using DataFrames\n",
    "x=range(1,2,100)\n",
    "f=@. x^2-3\n",
    "intervalo=1,2\n",
    "biseccion(f,intervalo)"
   ]
  },
  {
   "cell_type": "markdown",
   "metadata": {},
   "source": [
    "## Problema 2\n",
    "\n",
    "Desarrolle un programa para encontrar la raíz de una función $f$ utilizando el **método de Newton** (también conocido como Newton-Raphson).\n",
    "El programa debe tomar como datos de entrada la función $f:\\mathbb{R}\\to \\mathbb{R}$, su derivada $f':\\mathbb{R}\\to \\mathbb{R}$, una estimación inicial $p_1$ de la raíz $x$, la tolerancia $\\varepsilon_x$ a la estimación $r_i:=\\frac{|p_{i+1} - p_{i}|}{|p_{i+1}|}$ del error relativo $|x-p_i|/|x|$ en la iteración $i$ para $i=1,2,...,n$, la tolerancia en $\\varepsilon_f$ al valor absoluto de $f_i:=f(p_{i})$ y el número máximo de iteraciones permitido $n_{\\max}$.\n",
    "El programa debe retornar una tupla con las siguientes componentes:\n",
    "\n",
    "* Un booleano indicando si el algoritmo convergió.\n",
    "\n",
    "* Un vector de componentes $p_i$ para $i=1,2,...,n$, donde $n$ es el número de iteraciones realizado por el programa.\n",
    "\n",
    "* Un vector de valores $f_i:=f(p_i)$.\n",
    "\n",
    "* Un vector de estimaciones $c_i:=|p_{i+1}-p_i|$ de errores absolutos $|x-p_i|$.\n",
    "\n",
    "* Un vector de estimaciones $r_i:=c_i/|p_{i+1}|$ de errores relativos $|x-p_i|/|x|$.\n",
    "\n",
    "El programa debe finalizar en la iteración $n$-ésima que satisfaga por vez primera:\n",
    "$$\n",
    "\\left( r_n < \\varepsilon_x \\qquad \\text{AND} \\qquad \n",
    "f_n < \\varepsilon_f \\right) \\qquad \\text{OR} \\qquad\n",
    "n = n_{\\max}\n",
    "$$\n",
    "y debe poder utlizar 13 cifras significativas para las variables reales (ej. `Float64`).\n",
    "\n",
    "Utilice este programa para resolver los **incisos 1 y 2** del **problema 1**, usando $p_1=1$ en ambos casos. No hace falta graficar $f(x)$ vs $x$. Compare la cantidad de iteraciones $n$, la cantidad de evaluaciones de la función $f$ y su derivada $f'$ en los dos métodos."
   ]
  },
  {
   "cell_type": "code",
   "execution_count": null,
   "metadata": {},
   "outputs": [],
   "source": [
    "#Metodo de Newton\n",
    "function newton(f,df,p;tolx=1e-5,toly=1e-5,n_max)\n",
    "    vec_p=zeros(n_max)\n",
    "    vec_fp=zeros(n_max)\n",
    "    vec_c=zeros(n_max)\n",
    "    vec_r=zeros(n_max)\n",
    "    for i in 1:n_max\n",
    "        fp=f(p)\n",
    "        dfp=df(p)\n",
    "        p=p-fp/dfp #Calculo de p proveniente de la recta tangente\n",
    "        c=abs(p-(p-fp/dfp)) #Error absoluto\n",
    "        r=c/abs(p-fp/dfp) #Error relativo |p_n+1-p_n|/|p_n+1| (en los demas esto es distinto por un error, pero esto no cambia tanto)(usar este)\n",
    "        vec_p[i]=p\n",
    "        vec_fp[i]=fp\n",
    "        vec_c[i]=c\n",
    "        vec_r[i]=r\n",
    "        if r<tolx && abs(fp)<toly #Mecanismo de detencion\n",
    "            return true, vec_p[1:i], vec_fp[1:i], vec_c[1:i], vec_r[1:i]\n",
    "        end\n",
    "    end\n",
    "    return false, vec_p, vec_fp, vec_c, vec_r\n",
    "end\n",
    "p=1\n",
    "f(x)=x^2-3\n",
    "df(x)=2*x\n"
   ]
  },
  {
   "cell_type": "code",
   "execution_count": null,
   "metadata": {},
   "outputs": [],
   "source": [
    "conv,vec_p, vec_fp, vec_c, vec_r=newton(f,df,p;tolx=1e-5,toly=1e-5,n_max=100)"
   ]
  },
  {
   "cell_type": "code",
   "execution_count": null,
   "metadata": {},
   "outputs": [],
   "source": [
    "conv"
   ]
  },
  {
   "cell_type": "code",
   "execution_count": null,
   "metadata": {},
   "outputs": [],
   "source": [
    "using DataFrames\n",
    "data=DataFrame(p_i=vec_p,f_i=vec_fp,c_i=vec_c,r_i=vec_r)"
   ]
  },
  {
   "cell_type": "code",
   "execution_count": null,
   "metadata": {},
   "outputs": [],
   "source": [
    "using Plots\n",
    "n=length(vec_p)\n",
    "scatter(1:n,vec_p,xlabel=\"Iteracion\",ylabel=\"Punto p\")"
   ]
  },
  {
   "cell_type": "code",
   "execution_count": null,
   "metadata": {},
   "outputs": [],
   "source": [
    "scatter(1:n,i->abs(vec_fp[i]),yscale=:log10,xlabel=\"Iteracion\",ylabel=\"|f(p)|\")"
   ]
  },
  {
   "cell_type": "code",
   "execution_count": null,
   "metadata": {},
   "outputs": [],
   "source": [
    "n=length(vec_c)\n",
    "scatter(1:n,[vec_c,vec_r],yscale=:log10,xlabel=\"i\",ylabel=\"Errores\")"
   ]
  },
  {
   "cell_type": "code",
   "execution_count": null,
   "metadata": {},
   "outputs": [],
   "source": [
    "using DataFrames\n",
    "e=zeros(5)\n",
    "for i in 1:5\n",
    "    e[i]=abs(√3-vec_p[i])\n",
    "end\n",
    "data=DataFrame(error=e)"
   ]
  },
  {
   "cell_type": "code",
   "execution_count": null,
   "metadata": {},
   "outputs": [],
   "source": [
    "function newton(f,df,p;tolx=1e-5,toly=1e-5,n_max)\n",
    "    vec_p=zeros(n_max)\n",
    "    vec_fp=zeros(n_max)\n",
    "    vec_c=zeros(n_max)\n",
    "    vec_r=zeros(n_max)\n",
    "    for i in 1:n_max\n",
    "        fp=f(p)\n",
    "        dfp=df(p)\n",
    "        p=p-fp/dfp #Calculo de p proveniente de la recta tangente\n",
    "        c=abs(p-(p-fp/dfp)) #Error absoluto\n",
    "        r=c/abs(p) #Error relativo\n",
    "        vec_p[i]=p\n",
    "        vec_fp[i]=fp\n",
    "        vec_c[i]=c\n",
    "        vec_r[i]=r\n",
    "        if r<tolx && abs(fp)<toly #Mecanismo de detencion\n",
    "            return true, vec_p[1:i], vec_fp[1:i], vec_c[1:i], vec_r[1:i]\n",
    "        end\n",
    "    end\n",
    "    return false, vec_p, vec_fp, vec_c, vec_r\n",
    "end\n",
    "p=1\n",
    "f(x)=tan(x)-2x\n",
    "df(x)=(1/(cos(x)^2))-2"
   ]
  },
  {
   "cell_type": "code",
   "execution_count": null,
   "metadata": {},
   "outputs": [],
   "source": [
    "conv,vec_p, vec_fp, vec_c, vec_r=newton(f,df,p;tolx=1e-5,toly=1e-5,n_max=100)"
   ]
  },
  {
   "cell_type": "code",
   "execution_count": null,
   "metadata": {},
   "outputs": [],
   "source": [
    "using DataFrames\n",
    "data=DataFrame(p_i=vec_p,f_i=vec_fp,c_i=vec_c,r_i=vec_r)"
   ]
  },
  {
   "cell_type": "code",
   "execution_count": null,
   "metadata": {},
   "outputs": [],
   "source": [
    "using Plots\n",
    "n=length(vec_p)\n",
    "scatter(1:n,vec_p,xlabel=\"Iteracion\",ylabel=\"Punto p\")"
   ]
  },
  {
   "cell_type": "code",
   "execution_count": null,
   "metadata": {},
   "outputs": [],
   "source": [
    "scatter(1:n,i->abs(vec_fp[i]),yscale=:log10,xlabel=\"Iteracion\",ylabel=\"|f(p)|\")"
   ]
  },
  {
   "cell_type": "code",
   "execution_count": null,
   "metadata": {},
   "outputs": [],
   "source": [
    "n=length(vec_c)\n",
    "scatter(1:n,[vec_c,vec_r],yscale=:log10,xlabel=\"i\",ylabel=\"Errores\")"
   ]
  },
  {
   "cell_type": "markdown",
   "metadata": {},
   "source": [
    "### Problema 3\n",
    "\n",
    "Compute y grafique en escala log-lineal el error relativo estimado $r_i:=|p_{i+1}-p_i|/|p_{i+1}|$ vs $i$ de las aproximaciones de $\\sqrt{3}$ con los métodos de la **bisección** y **Newton**, partiendo del intervalo $[0,2.5]$ y del valor inicial $p_1=2.5$, respectivamente. \n",
    "Utilice en ambos casos tolerancias $\\varepsilon_x=\\varepsilon_f=10^{-10}$."
   ]
  },
  {
   "cell_type": "code",
   "execution_count": null,
   "metadata": {},
   "outputs": [],
   "source": [
    "function newton(f,df,p;tolx=1e-10,toly=1e-10,n_max)\n",
    "    vec_pn=zeros(n_max)\n",
    "    vec_fpn=zeros(n_max)\n",
    "    vec_cn=zeros(n_max)\n",
    "    vec_rn=zeros(n_max)\n",
    "    for i in 1:n_max\n",
    "        fpn=f(p)\n",
    "        dfpn=df(p)\n",
    "        p=p-fpn/dfpn #Calculo de p proveniente de la recta tangente\n",
    "        cn=abs(p-(p-fpn/dfpn)) #Error absoluto\n",
    "        rn=cn/abs(p) #Error relativo\n",
    "        vec_pn[i]=p\n",
    "        vec_fpn[i]=fpn\n",
    "        vec_cn[i]=cn\n",
    "        vec_rn[i]=rn\n",
    "        if rn<tolx && abs(fpn)<toly #Mecanismo de detencion\n",
    "            return true, vec_pn[1:i], vec_fpn[1:i], vec_cn[1:i], vec_rn[1:i]\n",
    "        end\n",
    "    end\n",
    "    return false, vec_pn, vec_fpn, vec_cn, vec_rn\n",
    "end\n",
    "f(x)=x^2-3\n",
    "df(x)=2*x\n",
    "p=2.5"
   ]
  },
  {
   "cell_type": "code",
   "execution_count": null,
   "metadata": {},
   "outputs": [],
   "source": [
    "convn,vec_pn, vec_fpn, vec_cn, vec_rn=newton(f,df,p;tolx=1e-5,toly=1e-5,n_max=100)"
   ]
  },
  {
   "cell_type": "code",
   "execution_count": null,
   "metadata": {},
   "outputs": [],
   "source": [
    "function biseccion(f,intervalo;tolx=1e-10,toly=1e-10,n_max=100)\n",
    "    a,b=intervalo\n",
    "    @assert a<=b\n",
    "    fa=f(a)\n",
    "    @assert fa*f(b)<0\n",
    "    vec_p=zeros(n_max) #Vector de los puntos de biseccion\n",
    "    vec_fp=zeros(n_max) #Vector de los valores de f en los puntos de biseccion\n",
    "    vec_c=zeros(n_max) #Vector de cotas de los errores absolutos\n",
    "    vec_r=zeros(n_max) #Vector de estimacion de error relativo\n",
    "    for i in 1:n_max\n",
    "        p=(a+b)/2\n",
    "        fp=f(p)\n",
    "        c=(b-a)/2\n",
    "        r=c/(abs(p))\n",
    "        vec_p[i]=p\n",
    "        vec_fp[i]=fp\n",
    "        vec_c[i]=c\n",
    "        vec_r[i]=r\n",
    "        if r<tolx && abs(fp)<toly\n",
    "            return true, vec_p[1:i], vec_fp[1:i], vec_c[1:i], vec_r[1:i]\n",
    "        end\n",
    "        if f(a)*fp<0 #Redefine a o b siguiendo el metodo\n",
    "            b=p\n",
    "        else\n",
    "            a=p\n",
    "            fa=fp\n",
    "        end\n",
    "    end\n",
    "    return false, vec_p, vec_fp, vec_c, vec_r #Si no se cuple lo que esta dentro del loop en las iteraciones dadas entonces indica que no converge usando el booleano false\n",
    "end\n",
    "intervalo=0,2.5"
   ]
  },
  {
   "cell_type": "code",
   "execution_count": null,
   "metadata": {},
   "outputs": [],
   "source": [
    "conv,vec_p, vec_fp, vec_c, vec_r=biseccion(f,intervalo;tolx=1e-5,toly=1e-5,n_max=100)"
   ]
  },
  {
   "cell_type": "code",
   "execution_count": null,
   "metadata": {},
   "outputs": [],
   "source": [
    "using Plots\n",
    "n=length(vec_r)\n",
    "m=length(vec_rn)\n",
    "scatter(1:n,vec_r,yscale=:log10,xlabel=\"Iteraciones\",ylabel=\"Error relativo\",label=[\"Bisección\" \"Newton\"])\n",
    "scatter!(1:m,vec_rn) #scatter! se usa para agregar cosa al grafico igual funciona con plot"
   ]
  },
  {
   "cell_type": "code",
   "execution_count": null,
   "metadata": {},
   "outputs": [],
   "source": []
  },
  {
   "cell_type": "markdown",
   "metadata": {},
   "source": [
    "### Problema 4\n",
    "\n",
    "Un objeto en caída vertical en el aire está sujeto a la fuerza de gravedad y a la resistencia del aire. Si un objeto de masa $m$ es dejado caer desde una altura $h_0$, su altura luego de $t$ segundos está dada por:\n",
    "$$\n",
    "h(t) = h_0 - \\frac{mg}{k} t + \\frac{m^2 g}{k^2} \\left( 1 - e^{-kt/m}\\right)\n",
    "$$\n",
    "donde $g=9.8\\, m/s^2$ y $k$ representa el coeficiente de resistencia del aire en $kg / s$.\n",
    "Suponga que $h_0 = 10\\,m$, $m=0.1\\,kg$, y $k=0.149\\,kg/s$.\n",
    "\n",
    "Grafique $h(t)$ para analizar su comportamiento.\n",
    "\n",
    "Encuentre, con una precisión de $0.01\\,s$, el tiempo que le toma a este objeto llegar al suelo. \n",
    "Utilice el método de **bisección** y el de **Newton**."
   ]
  },
  {
   "cell_type": "code",
   "execution_count": null,
   "metadata": {},
   "outputs": [],
   "source": [
    "using Plots\n",
    "g=9.8\n",
    "m=0.1\n",
    "h0=10\n",
    "k=0.149\n",
    "t=range(0,2.5,100)\n",
    "h(t)=h0-((m*g*t)/k)+(((m^2)*g/(k^2))*(1-exp((-k*t)/m)))\n",
    "plot(t,h)"
   ]
  },
  {
   "cell_type": "code",
   "execution_count": null,
   "metadata": {},
   "outputs": [],
   "source": [
    "function newton(f,df,p;tolx=1e-3,toly=1e-3,n_max)\n",
    "    vec_pn=zeros(n_max)\n",
    "    vec_fpn=zeros(n_max)\n",
    "    vec_cn=zeros(n_max)\n",
    "    vec_rn=zeros(n_max)\n",
    "    for i in 1:n_max\n",
    "        fpn=f(p)\n",
    "        dfpn=df(p)\n",
    "        p=p-fpn/dfpn #Calculo de p proveniente de la recta tangente\n",
    "        cn=abs(p-(p-fpn/dfpn)) #Error absoluto\n",
    "        rn=cn/abs(p) #Error relativo\n",
    "        vec_pn[i]=p\n",
    "        vec_fpn[i]=fpn\n",
    "        vec_cn[i]=cn\n",
    "        vec_rn[i]=rn\n",
    "        if rn<tolx && abs(fpn)<toly #Mecanismo de detencion\n",
    "            return true, vec_pn[1:i], vec_fpn[1:i], vec_cn[1:i], vec_rn[1:i]\n",
    "        end\n",
    "    end\n",
    "    return false, vec_pn, vec_fpn, vec_cn, vec_rn\n",
    "end\n",
    "f(t)=h0-(m*g*t)/k+((m^2)*g/(k^2))*(1-exp((-k*t)/m))\n",
    "df(t)=((-exp((k*t)/m))*g*m+g*m)/(k*(exp(k*t/m)))\n",
    "p=2"
   ]
  },
  {
   "cell_type": "code",
   "execution_count": null,
   "metadata": {},
   "outputs": [],
   "source": [
    "convn,vec_pn, vec_fpn, vec_cn, vec_rn=newton(f,df,p;tolx=1e-3,toly=1e-3,n_max=100)"
   ]
  },
  {
   "cell_type": "code",
   "execution_count": null,
   "metadata": {},
   "outputs": [],
   "source": [
    "vec_pn"
   ]
  },
  {
   "cell_type": "code",
   "execution_count": null,
   "metadata": {},
   "outputs": [],
   "source": [
    "function biseccion(f,intervalo;tolx=1e-3,toly=1e-3,n_max=100)\n",
    "    a,b=intervalo\n",
    "    @assert a<=b\n",
    "    fa=f(a)\n",
    "    @assert fa*f(b)<0\n",
    "    vec_p=zeros(n_max) #Vector de los puntos de biseccion\n",
    "    vec_fp=zeros(n_max) #Vector de los valores de f en los puntos de biseccion\n",
    "    vec_c=zeros(n_max) #Vector de cotas de los errores absolutos\n",
    "    vec_r=zeros(n_max) #Vector de estimacion de error relativo\n",
    "    for i in 1:n_max\n",
    "        p=(a+b)/2\n",
    "        fp=f(p)\n",
    "        c=(b-a)/2\n",
    "        r=c/(abs(p))\n",
    "        vec_p[i]=p\n",
    "        vec_fp[i]=fp\n",
    "        vec_c[i]=c\n",
    "        vec_r[i]=r\n",
    "        if r<tolx && abs(fp)<toly\n",
    "            return true, vec_p[1:i], vec_fp[1:i], vec_c[1:i], vec_r[1:i]\n",
    "        end\n",
    "        if f(a)*fp<0 #Redefine a o b siguiendo el metodo\n",
    "            b=p\n",
    "        else\n",
    "            a=p\n",
    "            fa=fp\n",
    "        end\n",
    "    end\n",
    "    return false, vec_p, vec_fp, vec_c, vec_r #Si no se cuple lo que esta dentro del loop en las iteraciones dadas entonces indica que no converge usando el booleano false\n",
    "end\n",
    "intervalo=2,2.5"
   ]
  },
  {
   "cell_type": "code",
   "execution_count": null,
   "metadata": {},
   "outputs": [],
   "source": [
    "conv,vec_p, vec_fp, vec_c, vec_r=biseccion(f,intervalo;tolx=1e-3,toly=1e-3,n_max=100)"
   ]
  },
  {
   "cell_type": "code",
   "execution_count": null,
   "metadata": {},
   "outputs": [],
   "source": [
    "vec_p"
   ]
  },
  {
   "cell_type": "markdown",
   "metadata": {},
   "source": [
    "### Problema 5\n",
    "\n",
    "Encuentre la solución a la ecuación \n",
    "$$\n",
    "x - \\cos x = 0 \n",
    "$$\n",
    "en el intervalo $[0, \\pi/2]$ con un error relativo $\\varepsilon_x=10^{-10}$ utilizando:\n",
    "\n",
    "1. el método de la **secante** con $p_1=0.0$ y $p_2=\\pi/2$,\n",
    "\n",
    "2. el método de **regula falsi** con $a=0.0$ y $b=\\pi/2$,\n",
    "\n",
    "3. el método de **bisección** con $a=0.0$ y $b=\\pi/2$ y\n",
    "\n",
    "4. el método de **Newton** con $p_1=1$.\n",
    "\n",
    "Graficar el error relativo $r_i$ retornado por cada método vs el número de iteración $i$. Utilice las escalas log-lineal (es decir, logarítmica en el eje $y$ y lineal en el $x$)."
   ]
  },
  {
   "cell_type": "code",
   "execution_count": null,
   "metadata": {},
   "outputs": [],
   "source": [
    "#Metodo de la secante\n",
    "function secante(f,intervalo;tolx=1e-10,toly=1e-10,n_max=100)\n",
    "    a,b=intervalo\n",
    "    @assert a<=b\n",
    "    fa=f(a)\n",
    "    @assert fa*f(b)<0\n",
    "    vec_ps=zeros(n_max)\n",
    "    vec_fps=zeros(n_max) \n",
    "    vec_cs=zeros(n_max) \n",
    "    vec_rs=zeros(n_max) \n",
    "    for i in 1:n_max\n",
    "        fb=f(b)\n",
    "        fa=f(a)\n",
    "        p=b-fb*(b-a)/(fb-fa) #Formula de la raiz de la secante\n",
    "        fp=f(p)\n",
    "        c=abs(b-a)\n",
    "        r=c/(abs(p))\n",
    "        vec_ps[i]=p\n",
    "        vec_fps[i]=fp\n",
    "        vec_cs[i]=c\n",
    "        vec_rs[i]=r\n",
    "        if r<tolx && abs(fp)<toly\n",
    "            return true, vec_ps[1:i], vec_fps[1:i], vec_cs[1:i], vec_rs[1:i]\n",
    "        end\n",
    "        a=b #Redefine a como b y b como el nuevo p\n",
    "        b=p\n",
    "    end\n",
    "    return false, vec_ps, vec_fps, vec_cs, vec_rs \n",
    "end\n",
    "f(x)=x^2-2\n",
    "intervalo=0,1.5"
   ]
  },
  {
   "cell_type": "code",
   "execution_count": null,
   "metadata": {},
   "outputs": [],
   "source": [
    "conv,vec_ps,vec_fps,vec_cs,vec_rs=secante(f,intervalo;tolx=1e-10,toly=1e-10,n_max=100)"
   ]
  },
  {
   "cell_type": "code",
   "execution_count": null,
   "metadata": {},
   "outputs": [],
   "source": [
    "#Metodo de Regula Falsi\n",
    "function regula(f,intervalo;tolx=1e-10,toly=1e-10,n_max=100)\n",
    "    a,b=intervalo\n",
    "    @assert a<=b\n",
    "    fa=f(a)\n",
    "    @assert fa*f(b)<0\n",
    "    vec_pr=zeros(n_max)\n",
    "    vec_fpr=zeros(n_max) \n",
    "    vec_cr=zeros(n_max) \n",
    "    vec_rr=zeros(n_max) \n",
    "    for i in 1:n_max\n",
    "        fb=f(b)\n",
    "        fa=f(a)\n",
    "        p=b-fb*(b-a)/(fb-fa) #Formula de la raiz de la secante\n",
    "        fp=f(p)\n",
    "        c=abs(b-a)\n",
    "        r=c/(abs(p))\n",
    "        vec_pr[i]=p\n",
    "        vec_fpr[i]=fp\n",
    "        vec_cr[i]=c\n",
    "        vec_rr[i]=r\n",
    "        if r<tolx && abs(fp)<toly\n",
    "            return true, vec_pr[1:i], vec_fpr[1:i], vec_cr[1:i], vec_rr[1:i]\n",
    "        end\n",
    "        if f(a)*fp<0 #Redefine a y b fijandose el signo de f(p)\n",
    "            b=p\n",
    "        else\n",
    "            a=p\n",
    "            fa=fp\n",
    "        end\n",
    "    end\n",
    "    return false, vec_pr, vec_fpr, vec_cr, vec_rr \n",
    "end\n",
    "f(x)=x^2-2\n",
    "intervalo=0,1.5"
   ]
  },
  {
   "cell_type": "code",
   "execution_count": null,
   "metadata": {},
   "outputs": [],
   "source": [
    "conv,vec_pr,vec_fpr,vec_cr,vec_rr=regula(f,intervalo;tolx=1e-10,toly=1e-10,n_max=100)"
   ]
  },
  {
   "cell_type": "code",
   "execution_count": 4,
   "metadata": {},
   "outputs": [
    {
     "data": {
      "text/plain": [
       "1.5707963267948966"
      ]
     },
     "execution_count": 4,
     "metadata": {},
     "output_type": "execute_result"
    }
   ],
   "source": [
    "#Metodo de Punto Fijo\n",
    "function puntofijo(f,p;tolx=1e-5,toly=1e-5,n_max=100)\n",
    "    g(x)=x-f(x) #Sino anda probar cambiando esto\n",
    "    vec_pf=zeros(n_max)\n",
    "    vec_fpf=zeros(n_max) \n",
    "    vec_cf=zeros(n_max) \n",
    "    vec_rf=zeros(n_max)\n",
    "    for i in 1:n_max\n",
    "        p=g(p)\n",
    "        fp=f(p)\n",
    "        c=abs(p-g(p))\n",
    "        r=c/abs(g(p))\n",
    "        vec_pf[i]=p\n",
    "        vec_fpf[i]=fp\n",
    "        vec_cf[i]=c\n",
    "        vec_rf[i]=r\n",
    "        fp=f(p)\n",
    "        if r<tolx && abs(fp)<toly\n",
    "            return true, vec_pf[1:i], vec_fpf[1:i], vec_cf[1:i], vec_rf[1:i]\n",
    "        end\n",
    "    end\n",
    "    return false, vec_pf, vec_fpf, vec_cf, vec_rf\n",
    "end     \n",
    "f(x)=x-cos(x)\n",
    "p=π/2"
   ]
  },
  {
   "cell_type": "code",
   "execution_count": 5,
   "metadata": {},
   "outputs": [
    {
     "data": {
      "text/plain": [
       "(true, [0.0, 1.0, 0.5403023058681398, 0.8575532158463934, 0.6542897904977791, 0.7934803587425656, 0.7013687736227565, 0.7639596829006542, 0.7221024250267077, 0.7504177617637605, 0.7314040424225098, 0.744237354900557, 0.7356047404363473, 0.7414250866101092, 0.7375068905132428, 0.7401473355678757, 0.7383692041223232, 0.739567202212256, 0.7387603198742114], [-1.0, 0.45969769413186023, -0.31725090997825367, 0.2032634253486143, -0.13919056824478648, 0.0921115851198091, -0.06259090927789768, 0.04185725787394645, -0.028315336737052776, 0.019013719341250734, -0.012833312478047199, 0.008632614464209709, -0.0058203461737619255, 0.003918196096866389, -0.0026404450546329006, 0.0017781314455525, -0.0011979980899328169, 0.0008068823380446011, -0.0005435725226943244], [1.0, 0.45969769413186023, 0.31725090997825367, 0.2032634253486143, 0.13919056824478648, 0.0921115851198091, 0.06259090927789768, 0.04185725787394645, 0.028315336737052776, 0.019013719341250734, 0.012833312478047199, 0.008632614464209709, 0.0058203461737619255, 0.003918196096866389, 0.0026404450546329006, 0.0017781314455525, 0.0011979980899328169, 0.0008068823380446011, 0.0005435725226943244], [1.0, 0.8508157176809255, 0.3699489479088844, 0.3106626884609844, 0.17541778660452648, 0.13133117495954122, 0.08192959743667133, 0.05796581817655344, 0.03773276457436351, 0.025996191213648077, 0.017243574772945858, 0.01173539808768633, 0.007850214780799092, 0.005312758629468063, 0.003567458704160608, 0.0024081874428472545, 0.0016198637342884643, 0.0010922112576132795, 0.0007352491016001574])"
      ]
     },
     "execution_count": 5,
     "metadata": {},
     "output_type": "execute_result"
    }
   ],
   "source": [
    "conv, vec_pf, vec_fpf, vec_cf, vec_rf=puntofijo(f,p;tolx=1e-3,toly=1e-3,n_max=100)"
   ]
  },
  {
   "cell_type": "code",
   "execution_count": 6,
   "metadata": {},
   "outputs": [
    {
     "data": {
      "text/plain": [
       "19-element Vector{Float64}:\n",
       " 0.0\n",
       " 1.0\n",
       " 0.5403023058681398\n",
       " 0.8575532158463934\n",
       " 0.6542897904977791\n",
       " 0.7934803587425656\n",
       " 0.7013687736227565\n",
       " 0.7639596829006542\n",
       " 0.7221024250267077\n",
       " 0.7504177617637605\n",
       " 0.7314040424225098\n",
       " 0.744237354900557\n",
       " 0.7356047404363473\n",
       " 0.7414250866101092\n",
       " 0.7375068905132428\n",
       " 0.7401473355678757\n",
       " 0.7383692041223232\n",
       " 0.739567202212256\n",
       " 0.7387603198742114"
      ]
     },
     "execution_count": 6,
     "metadata": {},
     "output_type": "execute_result"
    }
   ],
   "source": [
    "vec_pf"
   ]
  },
  {
   "cell_type": "markdown",
   "metadata": {},
   "source": [
    "### Problema 6\n",
    "\n",
    "Dado el siguiente polinomio, $p(x) = -10 + 5 x - 12 x^2  + 6 x^3  - 2 x^4  + x^5$.\n",
    "\n",
    "Grafique y observe que posee una única raíz real positiva. Encuentre la misma utilizando:\n",
    "\n",
    "1. El método de bisección. Elija el intervalo $[a,b]$ utilizando el **teorema de las cotas de Cauchy** que acota la región del espacio complejo donde se encuentran las raíces. Evalúe el polinomio utilizando el **algoritmo de Horner**.\n",
    "\n",
    "2. El método de Newton-Raphson. Elija el valor inicial utilizando los teoremas que acotan la región del espacio complejo donde se encuentran las raíces. Evalúe el polinomio y su derivada utilizando el **algoritmo de Horner**."
   ]
  },
  {
   "cell_type": "markdown",
   "metadata": {},
   "source": [
    "**Teorema de las cotas de Cauchy**\n",
    "\n",
    "Sea $p(x) = a_0 + a_1x + a_2x^2+...+a_nx^n$ un polinomio sobre $\\mathbb{C}$ de grado $n\\geq 1$ y coeficientes $a_i\\in \\mathbb{C}$ para $i=0,1,...,n$. Luego, todas las raices de $p$ se encuentran en el intervalo $[-(M+1),M+1]$ para $M = \\max\\left\\{\\frac{|a_0|}{|a_n|},\\frac{|a_0|}{|a_n|},...,\\frac{|a_{n-1}|}{|a_n|}\\right\\}$."
   ]
  },
  {
   "cell_type": "markdown",
   "metadata": {},
   "source": [
    "**Algoritmo de Horner**\n",
    "\n",
    "Cualquier polinomio\n",
    "$$\n",
    "p(x)=a_0+a_1x+a_2x^2+...+a_{n-1}x^{n-1}+a_nx^n\n",
    "$$\n",
    "puede ser reescrito como\n",
    "$$\n",
    "p(x)=a_0+x(a_1+x(a_2+...+x(a_{n-1}+xa_n)...))\n",
    "$$\n",
    "El algoritmo de Horner consiste en calcular $p(x)$ para un valor dado de $x$ sacando ventaja de la anterior expresión, ya que nos evita tener que calcular potencias $x^2, x^3, ..., x^n$ lo cual resulta numericamente costozo y tendiente a introducir errores numéricos indeseables.\n",
    "Notar que\n",
    "$$\n",
    "p'(x)=a_1+2a_2x+3a_3x^2+...+(n-1)a_{n-1}x^{n-2}+na_nx^{n-1}\n",
    "$$\n",
    "lo cual se reduce a\n",
    "$$\n",
    "p'(x)=a_1+x(2a_2+x(3a_3+...+x((n-1)a_{n-1}+xna_n))+...)))\n",
    "$$"
   ]
  },
  {
   "cell_type": "code",
   "execution_count": null,
   "metadata": {},
   "outputs": [],
   "source": [
    "using Plots\n",
    "x=range(1,3,100)\n",
    "p(x)=-10+5x-12x^2+6x^3-2x^4+x^5\n",
    "plot(x,p)"
   ]
  },
  {
   "cell_type": "code",
   "execution_count": null,
   "metadata": {},
   "outputs": [],
   "source": [
    "#Teorema de las cotas de Cauchy\n",
    "function c(a0,a1,a2,a3,a4,a5)\n",
    "    m0=abs(a0/a5)\n",
    "    m1=abs(a1/a5)\n",
    "    m2=abs(a2/a5)\n",
    "    m3=abs(a3/a5)\n",
    "    m4=abs(a4/a5)\n",
    "    println(\"m0=\",m0)\n",
    "    println(\"m1=\",m1)\n",
    "    println(\"m2=\",m2)\n",
    "    println(\"m3=\",m3)\n",
    "    println(\"m4=\",m4)\n",
    "end\n",
    "c(-10,5,-12,6,-2,1)"
   ]
  },
  {
   "cell_type": "code",
   "execution_count": null,
   "metadata": {},
   "outputs": [],
   "source": [
    "M=12\n",
    "i=-(M+1),M+1"
   ]
  },
  {
   "cell_type": "code",
   "execution_count": null,
   "metadata": {},
   "outputs": [],
   "source": [
    "function biseccion(f,intervalo;tolx=1e-3,toly=1e-3,n_max=100)\n",
    "    a,b=intervalo\n",
    "    @assert a<=b\n",
    "    fa=f(a)\n",
    "    @assert fa*f(b)<0\n",
    "    vec_p=zeros(n_max) #Vector de los puntos de biseccion\n",
    "    vec_fp=zeros(n_max) #Vector de los valores de f en los puntos de biseccion\n",
    "    vec_c=zeros(n_max) #Vector de cotas de los errores absolutos\n",
    "    vec_r=zeros(n_max) #Vector de estimacion de error relativo\n",
    "    for i in 1:n_max\n",
    "        p=(a+b)/2\n",
    "        fp=f(p)\n",
    "        c=(b-a)/2\n",
    "        r=c/(abs(p))\n",
    "        vec_p[i]=p\n",
    "        vec_fp[i]=fp\n",
    "        vec_c[i]=c\n",
    "        vec_r[i]=r\n",
    "        if r<tolx && abs(fp)<toly\n",
    "            return true, vec_p[1:i], vec_fp[1:i], vec_c[1:i], vec_r[1:i]\n",
    "        end\n",
    "        if f(a)*fp<0 #Redefine a o b siguiendo el metodo\n",
    "            b=p\n",
    "        else\n",
    "            a=p\n",
    "            fa=fp\n",
    "        end\n",
    "    end\n",
    "    return false, vec_p, vec_fp, vec_c, vec_r\n",
    "end\n",
    "intervalo=-13,13\n",
    "f(x)=-10+x*(5+x*((-12)+x*(6+x*(-2+x))))"
   ]
  },
  {
   "cell_type": "code",
   "execution_count": null,
   "metadata": {},
   "outputs": [],
   "source": [
    "conv,vec_p, vec_fp, vec_c, vec_r=biseccion(f,intervalo;tolx=1e-3,toly=1e-3,n_max=100)"
   ]
  },
  {
   "cell_type": "code",
   "execution_count": null,
   "metadata": {},
   "outputs": [],
   "source": [
    "function newton(f,df,p;tolx=1e-3,toly=1e-3,n_max)\n",
    "    vec_pn=zeros(n_max)\n",
    "    vec_fpn=zeros(n_max)\n",
    "    vec_cn=zeros(n_max)\n",
    "    vec_rn=zeros(n_max)\n",
    "    for i in 1:n_max\n",
    "        fpn=f(p)\n",
    "        dfpn=df(p)\n",
    "        p=p-fpn/dfpn #Calculo de p proveniente de la recta tangente\n",
    "        cn=abs(p-(p-fpn/dfpn)) #Error absoluto\n",
    "        rn=cn/abs(p) #Error relativo\n",
    "        vec_pn[i]=p\n",
    "        vec_fpn[i]=fpn\n",
    "        vec_cn[i]=cn\n",
    "        vec_rn[i]=rn\n",
    "        if rn<tolx && abs(fpn)<toly #Mecanismo de detencion\n",
    "            return true, vec_pn[1:i], vec_fpn[1:i], vec_cn[1:i], vec_rn[1:i]\n",
    "        end\n",
    "    end\n",
    "    return false, vec_pn, vec_fpn, vec_cn, vec_rn\n",
    "end\n",
    "p=0\n",
    "f(x)=-10+x*(5+x*((-12)+x*(6+x*(-2+x))))\n",
    "df(x)=5+x*((-24)+x*(18+x*((-8)+x*5)))"
   ]
  },
  {
   "cell_type": "code",
   "execution_count": null,
   "metadata": {},
   "outputs": [],
   "source": [
    "convn,vec_pn, vec_fpn, vec_cn, vec_rn=newton(f,df,p;tolx=1e-3,toly=1e-3,n_max=100)"
   ]
  },
  {
   "cell_type": "code",
   "execution_count": null,
   "metadata": {},
   "outputs": [],
   "source": [
    "vec_pn"
   ]
  },
  {
   "cell_type": "markdown",
   "metadata": {},
   "source": [
    "## Ejercicios Complementarios"
   ]
  },
  {
   "cell_type": "markdown",
   "metadata": {},
   "source": [
    "### Problema C.1\n",
    "\n",
    "Cree una función para calcular una aproximación a la raíz cúbica $x=R^{1/3}$ de un número $R$ positivo. La función debe tomar como entrada el número $R$, la aproximación inicial $x_0$, el error máximo permitido $\\epsilon$, y debe utilizar el algoritmo de de Newton-Raphson para calcular la raíz. Ponga a prueba la función con $R=40$, $x_0=20$ y $\\epsilon=10^{-5}$"
   ]
  },
  {
   "cell_type": "code",
   "execution_count": null,
   "metadata": {},
   "outputs": [],
   "source": [
    "function newton(f,df,p;tolx=1e-5,toly=1e-5,n_max=100)\n",
    "    vec_pn=zeros(n_max)\n",
    "    vec_fpn=zeros(n_max)\n",
    "    vec_cn=zeros(n_max)\n",
    "    vec_rn=zeros(n_max)\n",
    "    for i in 1:n_max\n",
    "        fpn=f(p)\n",
    "        dfpn=df(p)\n",
    "        p=p-fpn/dfpn #Calculo de p proveniente de la recta tangente\n",
    "        cn=abs(p-(p-fpn/dfpn)) #Error absoluto\n",
    "        rn=cn/abs(p) #Error relativo\n",
    "        vec_pn[i]=p\n",
    "        vec_fpn[i]=fpn\n",
    "        vec_cn[i]=cn\n",
    "        vec_rn[i]=rn\n",
    "        if rn<tolx && abs(fpn)<toly #Mecanismo de detencion\n",
    "            return true, vec_pn[1:i], vec_fpn[1:i], vec_cn[1:i], vec_rn[1:i]\n",
    "        end\n",
    "    end\n",
    "    return false, vec_pn, vec_fpn, vec_cn, vec_rn\n",
    "end"
   ]
  },
  {
   "cell_type": "code",
   "execution_count": null,
   "metadata": {},
   "outputs": [],
   "source": [
    "function g(r,x0,tolx)\n",
    "    c(x)=x^2-r\n",
    "    dc(x)=2*x\n",
    "    return newton(c,dc,x0)\n",
    "end\n",
    "r=40\n",
    "x0=20\n",
    "tolx=1e-5"
   ]
  },
  {
   "cell_type": "code",
   "execution_count": null,
   "metadata": {},
   "outputs": [],
   "source": [
    "convn,vec_pn, vec_fpn, vec_cn, vec_rn=g(r,x0,tolx)"
   ]
  },
  {
   "cell_type": "code",
   "execution_count": null,
   "metadata": {},
   "outputs": [],
   "source": [
    "vec_pn"
   ]
  },
  {
   "cell_type": "code",
   "execution_count": null,
   "metadata": {},
   "outputs": [],
   "source": [
    "using DataFrames\n",
    "data=DataFrame(p_i=vec_pn)"
   ]
  },
  {
   "cell_type": "code",
   "execution_count": null,
   "metadata": {},
   "outputs": [],
   "source": []
  }
 ],
 "metadata": {
  "@webio": {
   "lastCommId": null,
   "lastKernelId": null
  },
  "kernelspec": {
   "display_name": "Julia 1.10.2",
   "language": "julia",
   "name": "julia-1.10"
  },
  "language_info": {
   "file_extension": ".jl",
   "mimetype": "application/julia",
   "name": "julia",
   "version": "1.10.2"
  }
 },
 "nbformat": 4,
 "nbformat_minor": 4
}
