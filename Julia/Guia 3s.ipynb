{
 "cells": [
  {
   "cell_type": "markdown",
   "metadata": {},
   "source": [
    "# Métodos Numéricos 2024\n",
    "\n",
    "## Guía 3: 2024-04-23 - Interpolación y aproximación polinomial"
   ]
  },
  {
   "cell_type": "code",
   "execution_count": null,
   "metadata": {},
   "outputs": [],
   "source": [
    "using Plots\n",
    "using LaTeXStrings"
   ]
  },
  {
   "cell_type": "markdown",
   "metadata": {},
   "source": [
    "### Problema 1\n",
    "\n",
    "1. Usando los puntos interpolantes $x_0 = 0$, $x_1=0.6$ y $x_2=0.9$, construya analíticamente los polinomios interpolantes de Lagrange de grado 1 y 2 que aproximen las funciones\n",
    "  \n",
    "    **a.** $f(x) = \\ln (x+1)$\n",
    "    \n",
    "    **b.** $g(x) = \\sqrt{x+1}$ \n",
    "    \n",
    "    en $x=0.45$.\n",
    "\n",
    "2. Encuentre los errores absolutos y relativos correspondientes.\n",
    "\n",
    "3. En el rango dado $[x_0,x_2]$, grafique ambas funciones, sus polinomios interpolantes y correspondientes aproximaciones de Taylor de grado 2 entorno a $x_0$. Agregue al gráfico los puntos interpolantes $(x_i,f(x_i))$ (o $(x_i,g(x_i))$ según corresponda) usando símbolos en vez de curvas."
   ]
  },
  {
   "cell_type": "markdown",
   "metadata": {},
   "source": [
    "**Rta 1.1**\n",
    "\n",
    "El polinomio interpolante de Lagrange sobre los puntos $(x_0,y_0)),...,(x_n,y_n))$ es\n",
    "$$\n",
    "P_n(x) = \\sum_{i=0}^n y_iL_i(x)\n",
    "$$\n",
    "donde\n",
    "$$\n",
    "L_i(x) = \\prod_{j=0,j\\neq i}^n \\frac{x-x_j}{x_i-x_j} = \\frac{x-x_0}{x_i-x_0}...\\frac{x-x_{i-1}}{x_i-x_{i-1}}\\frac{x-x_{i+1}}{x_i-x_{i+1}}...\\frac{x-x_n}{x_i-x_n}\n",
    "$$\n",
    "Luego,"
   ]
  },
  {
   "cell_type": "markdown",
   "metadata": {},
   "source": [
    "1."
   ]
  },
  {
   "cell_type": "code",
   "execution_count": null,
   "metadata": {},
   "outputs": [],
   "source": [
    "x0=0\n",
    "x1=0.6\n",
    "x2=0.9\n",
    "f(x)=log(x+1)\n",
    "g(x)=sqrt(x+1)"
   ]
  },
  {
   "cell_type": "code",
   "execution_count": null,
   "metadata": {},
   "outputs": [],
   "source": [
    "L0(x)=((x-x1)*(x-x2))/((x0-x1)*(x0-x2))\n",
    "L1(x)=((x-x0)*(x-x2))/((x1-x0)*(x1-x2))\n",
    "L2(x)=((x-x0)*(x-x1))/((x2-x0)*(x2-x1))\n",
    "l0(x)=(x-x2)/(x0-x2)\n",
    "l1(x)=(x-x0)/(x2-x0)"
   ]
  },
  {
   "cell_type": "code",
   "execution_count": null,
   "metadata": {},
   "outputs": [],
   "source": [
    "Lf2(x)=f(x0)*L0(x)+f(x1)*L1(x)+f(x2)*L2(x)\n",
    "Lg2(x)=g(x0)*L0(x)+g(x1)*L1(x)+g(x2)*L2(x)\n",
    "Lf1(x)=f(x0)*l0(x)+f(x2)*l1(x)\n",
    "Lg1(x)=g(x0)*l0(x)+g(x2)*l1(x)"
   ]
  },
  {
   "cell_type": "code",
   "execution_count": null,
   "metadata": {},
   "outputs": [],
   "source": [
    "f(0.45)"
   ]
  },
  {
   "cell_type": "code",
   "execution_count": null,
   "metadata": {},
   "outputs": [],
   "source": [
    "Lf1(0.45)"
   ]
  },
  {
   "cell_type": "code",
   "execution_count": null,
   "metadata": {},
   "outputs": [],
   "source": [
    "Lf2(0.45)"
   ]
  },
  {
   "cell_type": "code",
   "execution_count": null,
   "metadata": {},
   "outputs": [],
   "source": [
    "g(0.45)"
   ]
  },
  {
   "cell_type": "code",
   "execution_count": null,
   "metadata": {},
   "outputs": [],
   "source": [
    "Lg1(0.45)"
   ]
  },
  {
   "cell_type": "code",
   "execution_count": null,
   "metadata": {},
   "outputs": [],
   "source": [
    "Lg2(0.45)"
   ]
  },
  {
   "cell_type": "markdown",
   "metadata": {},
   "source": [
    "2."
   ]
  },
  {
   "cell_type": "code",
   "execution_count": null,
   "metadata": {},
   "outputs": [],
   "source": [
    "ef2(x)=abs(f(x)-Lf2(x))\n",
    "rf2(x)=ef2(x)/abs(f(x))\n",
    "ef1(x)=abs(f(x)-Lf1(x))\n",
    "rf1(x)=ef1(x)/abs(f(x))"
   ]
  },
  {
   "cell_type": "code",
   "execution_count": null,
   "metadata": {},
   "outputs": [],
   "source": [
    "eg2(x)=abs(g(x)-Lg2(x))\n",
    "rg2(x)=eg2(x)/abs(g(x))\n",
    "eg1(x)=abs(g(x)-Lg1(x))\n",
    "rg1(x)=eg1(x)/abs(g(x))"
   ]
  },
  {
   "cell_type": "code",
   "execution_count": null,
   "metadata": {},
   "outputs": [],
   "source": [
    "x=range(0,1,length=100)\n",
    "plot(x,[ef1,eg1],title=\"Errores absolutos grado 1\")"
   ]
  },
  {
   "cell_type": "code",
   "execution_count": null,
   "metadata": {},
   "outputs": [],
   "source": [
    "x=range(0,1,length=100)\n",
    "plot(x,[rf1,rg1],title=\"Errores relativos grado 1\")"
   ]
  },
  {
   "cell_type": "code",
   "execution_count": null,
   "metadata": {},
   "outputs": [],
   "source": [
    "x=range(0,1,length=100)\n",
    "plot(x,[ef2,eg2],title=\"Errores absolutos grado 2\")"
   ]
  },
  {
   "cell_type": "code",
   "execution_count": null,
   "metadata": {},
   "outputs": [],
   "source": [
    "x=range(0,1,length=100)\n",
    "plot(x,[rf2,rg2],title=\"Errores relativos grado 2\")"
   ]
  },
  {
   "cell_type": "markdown",
   "metadata": {},
   "source": [
    "3."
   ]
  },
  {
   "cell_type": "code",
   "execution_count": null,
   "metadata": {},
   "outputs": [],
   "source": [
    "x=range(0,1,length=100)\n",
    "tf(x)=x-0.5*x^2\n",
    "p=[0,0.6,0.9]\n",
    "fp=f.(p)\n",
    "plot(x,f,xlabel=L\"x\",ylabel=L\"f(x)\",label=\"f(x)\",title=L\"ln(x+1)\")\n",
    "plot!(x,Lf1,label=\"Grado 1\")\n",
    "plot!(x,Lf2,label=\"Grado 2\")\n",
    "plot!(x,tf,label=\"Taylor\")\n",
    "scatter!(p,fp,label=\"Puntos\")"
   ]
  },
  {
   "cell_type": "code",
   "execution_count": null,
   "metadata": {},
   "outputs": [],
   "source": [
    "x=range(0,1,length=100)\n",
    "tg(x)=1+0.5*x-0.125*x^2\n",
    "gp=g.(p)\n",
    "plot(x,g,xlabel=L\"x\",ylabel=L\"g(x)\",title=L\"√(x+1)\",label=L\"g(x)\")\n",
    "plot!(x,Lg1,label=\"Grado 1\")\n",
    "plot!(x,Lg2,label=\"Grado 2\")\n",
    "plot!(x,tg,label=\"Taylor\")\n",
    "scatter!(p,gp,label=\"Puntos\")"
   ]
  },
  {
   "cell_type": "markdown",
   "metadata": {},
   "source": [
    "### Problema 2\n",
    "\n",
    "1. Escriba una función que evalúe el **polinomio interpolante de Lagrange** $P$ en un punto $x$ con $x_0 < x < x_n$ siendo $(x_i,y_i)$ para $i=0,...,n$ los puntos a interpolar. La función debe tomar como argumentos de entrada: \n",
    "\n",
    "    1. el valor $x$, \n",
    "    2. un vector de valores $x_i$, \n",
    "    3. un vector  de valores $y_i$, y debe retornal el valor $P(x)$.\n",
    "\n",
    "2. Para cada caso del **Problema 1**, realice un gráfico de $P(x)$ vs $x$ con una línea sólida generada con $N=200$ puntos equidistantes en el intérvalo $[x_0,x_n]$. Agrege a cada  gráfico la función interpolada utilizando una línea punteada sobre los mismos puntos, y los puntos de interpolación utilizando símbolos. **Ayuda:** no confundir los $N$ puntos usados para graficar las curvas, con los $n$ puntos interpolación $(x_i,y_i) = (x_i,f(x_i))$ con $i=0,1,2$ provistos en el **Problema 1**.\n",
    "\n",
    "3. En otras figuras, gráfique la diferencia entre los polinomios y las funciones interpoladas."
   ]
  },
  {
   "cell_type": "code",
   "execution_count": null,
   "metadata": {},
   "outputs": [],
   "source": [
    "#Coeficientes de Lagrange\n",
    "function L(x,i,N) #N es el vector de los x_i que será utilizado para armar el polinomio\n",
    "    n=length(N)\n",
    "    L=1\n",
    "    for j in 1:n\n",
    "        if j!=i #Me aseguro que el x_i no este en la productoria\n",
    "            L=L*(x-N[j])/(N[i]-N[j]) #Definición de los coeficientes de Lagrange\n",
    "        end\n",
    "    end\n",
    "    return L\n",
    "end "
   ]
  },
  {
   "cell_type": "code",
   "execution_count": null,
   "metadata": {},
   "outputs": [],
   "source": [
    "#Polinomio de Lagrange\n",
    "function lagrange(x,X,Y)\n",
    "    n=length(X)\n",
    "    l=0\n",
    "    for i in 1:n\n",
    "        l+=Y[i]*L(x,i,X)\n",
    "    end\n",
    "    return l\n",
    "end"
   ]
  },
  {
   "cell_type": "markdown",
   "metadata": {},
   "source": [
    "### 2."
   ]
  },
  {
   "cell_type": "markdown",
   "metadata": {},
   "source": [
    "a."
   ]
  },
  {
   "cell_type": "code",
   "execution_count": null,
   "metadata": {},
   "outputs": [],
   "source": [
    "using DataFrames\n",
    "X=[0 1 2]\n",
    "f(x)=log(x+1)\n",
    "Y=f.(X)\n",
    "Pf(x)=lagrange(x,X,Y)\n",
    "Y"
   ]
  },
  {
   "cell_type": "code",
   "execution_count": null,
   "metadata": {},
   "outputs": [],
   "source": [
    "using LaTeXStrings\n",
    "x=range(0,4,length=200)\n",
    "f(x)=log(x+1)\n",
    "plot(x,Pf,label=\"Lagrange\",xlabel=L\"x\",ylabel=L\"f(x)\")\n",
    "plot!(x,f,label=L\"log(x+1)\")"
   ]
  },
  {
   "cell_type": "markdown",
   "metadata": {},
   "source": [
    "### 3. a"
   ]
  },
  {
   "cell_type": "code",
   "execution_count": null,
   "metadata": {},
   "outputs": [],
   "source": [
    "#Error de f\n",
    "ef(x)=abs(f(x)-Pf(x))\n",
    "x=range(0,2,length=100)\n",
    "plot(x,ef)\n"
   ]
  },
  {
   "cell_type": "markdown",
   "metadata": {},
   "source": [
    "### 2. b"
   ]
  },
  {
   "cell_type": "code",
   "execution_count": null,
   "metadata": {},
   "outputs": [],
   "source": [
    "using DataFrames\n",
    "X=[0 1 2]\n",
    "g(x)=√(x+1)\n",
    "Y=g.(X)\n",
    "Pg(x)=lagrange(x,X,Y)\n",
    "Y"
   ]
  },
  {
   "cell_type": "code",
   "execution_count": null,
   "metadata": {},
   "outputs": [],
   "source": [
    "using LaTeXStrings\n",
    "using Plots\n",
    "x=range(0,3,length=200)\n",
    "g(x)=√(x+1)\n",
    "plot(x,Pg,label=\"Lagrange\",xlabel=L\"x\",ylabel=L\"g(x)\")\n",
    "plot!(x,g,label=L\"√(x+1)\")"
   ]
  },
  {
   "cell_type": "markdown",
   "metadata": {},
   "source": [
    "### 3. b"
   ]
  },
  {
   "cell_type": "code",
   "execution_count": null,
   "metadata": {},
   "outputs": [],
   "source": [
    "#Error de g\n",
    "eg(x)=abs(g(x)-Pg(x))\n",
    "x=range(0,2,length=100)\n",
    "plot(x,eg)"
   ]
  },
  {
   "cell_type": "markdown",
   "metadata": {},
   "source": [
    "### Problema 3\n",
    "\n",
    "Construya analíticamente el polinomio interpolante de Newton para las siguientes funciones. \n",
    "De una cota del error absoluto en el intervalo $[x_0,x_n]$.\n",
    "\n",
    "1. La función\n",
    "     $$f(x) = \\exp (2x) \\cos(3x)$$\n",
    "   para $x_0=0$, $x_1=0.3$ y $x_2=0.6$.\n",
    "\n",
    "2. La función \n",
    "    $$g(x) = \\ln(x)$$\n",
    "   para $x_0=1$, $x_1=1.1$, $x_2=1.3$ y $x_3=1.4$."
   ]
  },
  {
   "cell_type": "code",
   "execution_count": null,
   "metadata": {},
   "outputs": [],
   "source": []
  },
  {
   "cell_type": "markdown",
   "metadata": {},
   "source": [
    "### Problema 4\n",
    "\n",
    "1. Escriba una función que evalúe el **polinomio interpolante de Netwon** $P$ en un punto $x$ con $x_0 < x < x_n$ siendo $(x_i,y_i)$ para $i=0,...,n$ los puntos a interpolar. La función debe tomar como argumentos de entrada:\n",
    "    1. el valor $x$, \n",
    "    2. un arreglo $v$ de valores $x_i$,\n",
    "    3. un arreglo $w$ de valores $y_i$, y debe retornar el valor $P(x)$.\n",
    "\n",
    "2. Grafique los polinomios interpolantes de Newton para las funciones del **problema 4** en $N=200$ puntos equidistantes en el intervalo $[x_0,x_n]$ correspondiente. Incluya en el grafico las curvas de las funciones y, con símbolos, los puntos de interpolación.\n",
    "\n",
    "3. Repita los incisos 1. y 2. pero usando puntos de interpolación determinados por $n=80$ valores equidistantes de $x_i$ en $[0,0.6]$ para $f$ y en $[1,1.4]$ para $g$.\n",
    "\n",
    "4. Repita el inciso 3. pero usando `BigFloat` en vez de `Float64`.\n",
    "\n",
    "5. Interprete lo observado."
   ]
  },
  {
   "cell_type": "code",
   "execution_count": null,
   "metadata": {},
   "outputs": [],
   "source": [
    "#Polinomio de Newton\n",
    "function newton(x,X,Y)\n",
    "    n=length(Y)\n",
    "    Z = deepcopy(Y) #Asigna a Z el valor inicial de Y y no cambia cuando cambia Y\n",
    "    for j in 2:n\n",
    "        for i in n:-1:j\n",
    "            Z[i]=(Z[i]-Z[i-1])/(X[i]-X[i-j+1])\n",
    "        end\n",
    "    end\n",
    "    s=Z[n]\n",
    "    for i in n-1:-1:1\n",
    "        #if i==n-1\n",
    "            #s=Z[i]+Z[i+1]*(x-X[i])\n",
    "       #else \n",
    "          s=Z[i]+s*(x-X[i])\n",
    "       #end\n",
    "    end\n",
    "    return s\n",
    "end"
   ]
  },
  {
   "cell_type": "code",
   "execution_count": null,
   "metadata": {},
   "outputs": [],
   "source": [
    "#Polinomio de Newton Definitivo\n",
    "function newton(x,X,Y)\n",
    "    n=length(Y)\n",
    "    Z = deepcopy(Y) #Asigna a Z el valor inicial de Y y no cambia cuando cambia Y\n",
    "    for j in 2:n\n",
    "        for i in n:-1:j\n",
    "            Z[i]=(Z[i]-Z[i-1])/(X[i]-X[i-j+1])\n",
    "        end\n",
    "    end\n",
    "    s=Z[n]\n",
    "    for i in n-1:-1:1\n",
    "          s=Z[i]+s*(x-X[i])\n",
    "    end\n",
    "    return s\n",
    "end"
   ]
  },
  {
   "cell_type": "markdown",
   "metadata": {},
   "source": [
    "### 2. f(x)"
   ]
  },
  {
   "cell_type": "code",
   "execution_count": null,
   "metadata": {},
   "outputs": [],
   "source": [
    "using DataFrames\n",
    "X=[0 0.3 0.6]\n",
    "f(x)=exp(2*x)*cos(3*x)\n",
    "Y=f.(X)\n",
    "Y"
   ]
  },
  {
   "cell_type": "code",
   "execution_count": null,
   "metadata": {},
   "outputs": [],
   "source": [
    "P(x)=newton(x,X,Y)"
   ]
  },
  {
   "cell_type": "code",
   "execution_count": null,
   "metadata": {},
   "outputs": [],
   "source": [
    "using Plots\n",
    "z=range(0,1,length=200)\n",
    "plot(z,P,label=\"Polinomio de Newton\",xlabel=L\"x\",ylabel=L\"y\",title=\"Gráfico de f con 200 puntos\")\n",
    "plot!(z,f,label=L\"exp(2x)cos(3x)\")\n",
    "scatter!(X,Y,markershape=:square,color=:purple,label=\"\")"
   ]
  },
  {
   "cell_type": "markdown",
   "metadata": {},
   "source": [
    "### 3. f(x)"
   ]
  },
  {
   "cell_type": "code",
   "execution_count": null,
   "metadata": {},
   "outputs": [],
   "source": [
    "using Plots\n",
    "z=range(0,1,length=80)\n",
    "plot(z,P,label=\"Polinomio de Newton\",xlabel=L\"x\",ylabel=L\"y\",title=\"Gráfico de f con 80 puntos\")\n",
    "plot!(z,f,label=L\"exp(2x)cos(3x)\")\n",
    "scatter!(X,Y,markershape=:square,color=:purple,label=\"\")"
   ]
  },
  {
   "cell_type": "markdown",
   "metadata": {},
   "source": [
    "### 2. g(x)"
   ]
  },
  {
   "cell_type": "code",
   "execution_count": null,
   "metadata": {},
   "outputs": [],
   "source": [
    "using DataFrames\n",
    "X=[1 1.1 1.3 1.4]\n",
    "g(x)=log(x)\n",
    "Y=g.(X)"
   ]
  },
  {
   "cell_type": "code",
   "execution_count": null,
   "metadata": {},
   "outputs": [],
   "source": [
    "P(x)=newton(x,X,Y)"
   ]
  },
  {
   "cell_type": "code",
   "execution_count": null,
   "metadata": {},
   "outputs": [],
   "source": [
    "using Plots\n",
    "z=range(1,1.4,length=200)\n",
    "plot(z,P,label=\"Polinomio de Newton\",xlabel=L\"x\",ylabel=L\"y\",title=\"Gráfico de g con 200 puntos\")\n",
    "plot!(z,g,label=L\"ln(x)\")\n",
    "scatter!(X,Y,markershape=:square,color=:purple,label=\"\")"
   ]
  },
  {
   "cell_type": "code",
   "execution_count": null,
   "metadata": {},
   "outputs": [],
   "source": [
    "#Error de newton de g\n",
    "eg(x)=abs(g(x)-P(x))\n",
    "x=range(1,1.4,200)\n",
    "plot(x,eg)"
   ]
  },
  {
   "cell_type": "markdown",
   "metadata": {},
   "source": [
    "### 3. g(x)"
   ]
  },
  {
   "cell_type": "code",
   "execution_count": null,
   "metadata": {},
   "outputs": [],
   "source": [
    "using Plots\n",
    "z=range(1,1.4,length=80)\n",
    "plot(z,P,label=\"Polinomio de Newton\",xlabel=L\"x\",ylabel=L\"y\",title=\"Gráfico de g con 80 puntos\")\n",
    "plot!(z,g,label=L\"ln(x)\")\n",
    "scatter!(X,Y,markershape=:square,color=:purple,label=\"\")"
   ]
  },
  {
   "cell_type": "code",
   "execution_count": null,
   "metadata": {},
   "outputs": [],
   "source": [
    "#Falta hacer los incisos 4 y 5"
   ]
  },
  {
   "cell_type": "markdown",
   "metadata": {},
   "source": [
    "### Problema 5 \n",
    "\n",
    "#### Error  de la interpolación polinomial para puntos equiespaciados\n",
    "\n",
    "Usando el teorema dado en el teórico, demuestre el siguiente corolario.\n",
    "\n",
    "**Corolario:** Sea $f \\in C_{[a,b]}^{(n+1)}$  tal que $\\exists M>0 / |f^{(n+1)}(x) |< M \\;\\forall \\,x\\in [a,b]$ (i.e. su $n+1$-ésima derivada es acotada en $[a,b]$). Sea $x_i=a + ih \\;; i=0,\\cdots,n$ donde $ h=(b-a)/n$. Sea $P_n$ es el polinomio de grado $n$ interpolante a $f$ en los puntos $x_i$ (i.e. $P_n(x_i)=f(x_i)\\;,i=0,\\cdots ,n$). Entonces, $\\forall\\;x\\in [a,b]$ se tiene\n",
    "$$\n",
    "\\left| f(x) - P_n(x)\\right | \\leq \\frac{M}{4 (n+1)}\\;\\left(\\frac{b-a}{n}\\right)^{n+1}\n",
    "$$"
   ]
  },
  {
   "cell_type": "code",
   "execution_count": null,
   "metadata": {},
   "outputs": [],
   "source": []
  },
  {
   "cell_type": "markdown",
   "metadata": {},
   "source": [
    "### Problema 6\n",
    "\n",
    "Se desea aproximar $\\cos(x)$ en el intervalo $[0,1]$ con un error absoluto menor a $1\\times 10^{-7}$ para todo $x \\in [0,1]$. \n",
    "\n",
    "1. Usando el teorema del error de la interpolación polinomial, estime el número $n$ de puntos de interpolación que son necesarios para conseguir el máximo error absoluto mencionado.\n",
    "\n",
    "2. Grafique el error absoluto en el intervalo en cuestión para tres casos particulares de $\\{x_i\\}$: \n",
    "    1. puntos equidistantes $x_i=i/n$, \n",
    "    2. $n$ puntos distribuidos al azar en el intervalo $[0,1]$, y \n",
    "    3. puntos distribuidos heterogéneamente según la fórmula $x_i=1/i$ para $i=1,2,...,n$."
   ]
  },
  {
   "cell_type": "code",
   "execution_count": null,
   "metadata": {},
   "outputs": [],
   "source": [
    "#1. Haciendo el cálculo usando M=1 tiene solucion n=6.07 por lo que tomaré n=6 (se podria minimizar aún mas con n=7)"
   ]
  },
  {
   "cell_type": "code",
   "execution_count": null,
   "metadata": {},
   "outputs": [],
   "source": [
    "#2.\n",
    "#Polinomio de Newton Definitivo\n",
    "function newton(x,X,Y)\n",
    "    n=length(Y)\n",
    "    Z = deepcopy(Y) #Asigna a Z el valor inicial de Y y no cambia cuando cambia Y\n",
    "    for j in 2:n\n",
    "        for i in n:-1:j\n",
    "            Z[i]=(Z[i]-Z[i-1])/(X[i]-X[i-j+1])\n",
    "        end\n",
    "    end\n",
    "    s=Z[n]\n",
    "    for i in n-1:-1:1\n",
    "          s=Z[i]+s*(x-X[i])\n",
    "    end\n",
    "    return s\n",
    "end"
   ]
  },
  {
   "cell_type": "code",
   "execution_count": null,
   "metadata": {},
   "outputs": [],
   "source": [
    "using DataFrames\n",
    "f(x)=cos(x)\n",
    "a(x)=x/6\n",
    "A=[0 1 2 3 4 5 6]\n",
    "X=a.(A)\n",
    "Y=f.(X)"
   ]
  },
  {
   "cell_type": "code",
   "execution_count": null,
   "metadata": {},
   "outputs": [],
   "source": [
    "P(x)=newton(x,X,Y)"
   ]
  },
  {
   "cell_type": "code",
   "execution_count": null,
   "metadata": {},
   "outputs": [],
   "source": [
    "using Plots\n",
    "z=range(0,1,length=200)\n",
    "plot(z,P,label=\"Polinomio de Newton\",xlabel=L\"x\",ylabel=L\"y\",title=\"Gráfico de cos(x)\")\n",
    "plot!(z,f,label=L\"cos(x)\")\n",
    "scatter!(X,Y,markershape=:square,color=:purple,label=\"\")"
   ]
  },
  {
   "cell_type": "code",
   "execution_count": null,
   "metadata": {},
   "outputs": [],
   "source": [
    "ef(x)=abs(f(x)-P(x))\n",
    "x=range(0,1,length=200)\n",
    "plot(x,ef)"
   ]
  },
  {
   "cell_type": "markdown",
   "metadata": {},
   "source": [
    "## Ejercicios Complementarios"
   ]
  },
  {
   "cell_type": "markdown",
   "metadata": {},
   "source": [
    "### Problema C.1\n",
    "\n",
    "Considere la función definida por $f(x) = \\frac{1}{1 + 25 x^2}$.\n",
    "\n",
    "1. Grafique la función $f$ en el intervalo $[-1,1]$.\n",
    "\n",
    "Luego, para cada valor de $n\\in \\{5, 10, 20\\}$:\n",
    "\n",
    "2. Calcule la interpolación de $f$ por el **método de Lagrange** usando $n+1$ valores equidistantes de $x$ en el intervalo mencionado.\n",
    "\n",
    "3. Añada al gráfico una curva del polinomio interpolante evaluandolo en 200 puntos equidistantes en los rangos $x=[-1,1]$ e $y=[-1.5,1.5]$.\n",
    "\n",
    "4. Calcule el error máximo para cada caso e incluya estos datos de errores máximos en el gráfico.\n",
    "\n",
    "**Nota:** En este problema se observa el llamado *fenómeno de Runge*, en el que la interpolación por polinomios usando puntos equiespaciados da resultados divergentes.\n",
    "\n",
    "5. ¿Por qué no hay contradicción con el teorema de aproximación de Weierstrass?\n",
    "\n",
    "6. En vez de puntos equiespaciados, pruebe usando el espaciamiento de Chebyshev dado por $x_i = -\\cos(\\pi (i-1)/n)$, para $i=1,2,...,n+1$. ¿Disminuye significativamente el error en este caso?"
   ]
  },
  {
   "cell_type": "code",
   "execution_count": null,
   "metadata": {},
   "outputs": [],
   "source": [
    "using Plots\n",
    "f(x)=1/(1+25*x^2)\n",
    "x=range(-1,1,length=100)\n",
    "plot(x,f,xlabel=L\"x\",ylabel=L\"y\",label=L\"1/(1+25*x^2)\")"
   ]
  },
  {
   "cell_type": "code",
   "execution_count": null,
   "metadata": {},
   "outputs": [],
   "source": [
    "#Coeficientes de Lagrange\n",
    "function L(x,i,N) #N es el vector de los x_i que será utilizado para armar el polinomio\n",
    "    n=length(N)\n",
    "    L=1\n",
    "    for j in 1:n\n",
    "        if j!=i #Me aseguro que el x_i no este en la productoria\n",
    "            L=L*(x-N[j])/(N[i]-N[j]) #Definición de los coeficientes de Lagrange\n",
    "        end\n",
    "    end\n",
    "    return L\n",
    "end "
   ]
  },
  {
   "cell_type": "code",
   "execution_count": null,
   "metadata": {},
   "outputs": [],
   "source": [
    "function lagrange(x,X,Y)\n",
    "    n=length(X)\n",
    "    l=0\n",
    "    for i in 1:n\n",
    "        l+=Y[i]*L(x,i,X)\n",
    "    end\n",
    "    return l\n",
    "end"
   ]
  },
  {
   "cell_type": "code",
   "execution_count": null,
   "metadata": {},
   "outputs": [],
   "source": [
    "using DataFrames\n",
    "X5=zeros(6)\n",
    "X10=zeros(11)\n",
    "X20=zeros(21)\n",
    "n5=length(X5)\n",
    "n10=length(X10)\n",
    "n20=length(X20)\n",
    "f(x)=1/(1+25*x^2)\n",
    "for i in 1:n5\n",
    "    X5[i]=-1+2*(i-1)/(n5-1)\n",
    "end\n",
    "for i in 1:n10\n",
    "    X10[i]=-1+2*(i-1)/(n10-1)\n",
    "end\n",
    "for i in 1:n20\n",
    "    X20[i]=-1+2*(i-1)/(n20-1)\n",
    "end\n",
    "Y5=f.(X5)\n",
    "Y10=f.(X10)\n",
    "Y20=f.(X20)"
   ]
  },
  {
   "cell_type": "code",
   "execution_count": null,
   "metadata": {},
   "outputs": [],
   "source": [
    "p5(x)=lagrange(x,X5,Y5)\n",
    "p10(x)=lagrange(x,X10,Y10)\n",
    "p20(x)=lagrange(x,X20,Y20)"
   ]
  },
  {
   "cell_type": "code",
   "execution_count": null,
   "metadata": {},
   "outputs": [],
   "source": [
    "using Plots\n",
    "f(x)=1/(1+25*x^2)\n",
    "x=range(-1,1,length=200) #Rango de y?\n",
    "a=range(-1.5,1.5)\n",
    "plot(x,f,xlabel=L\"x\",ylabel=L\"y\",label=L\"1/(1+25*x^2)\",ylims=(-1.5,1.5)) #ylims limita los valores del eje \n",
    "plot!(x,p5,label=L\"n=5\")\n",
    "plot!(x,p10,label=L\"n=10\")\n",
    "plot!(x,p20,label=L\"n=20\")"
   ]
  },
  {
   "cell_type": "code",
   "execution_count": null,
   "metadata": {},
   "outputs": [],
   "source": [
    "#4.\n",
    "e5(x)=abs(f(x)-p5(x))\n",
    "e10(x)=abs(f(x)-p10(x))\n",
    "e20(x)=abs(f(x)-p20(x))"
   ]
  },
  {
   "cell_type": "raw",
   "metadata": {},
   "source": [
    "x=range(-1,1,length=200)\n",
    "plot(x,e5,label=\"Error con n=5\")\n",
    "plot!(x,e10,label=\"Error con n=10\")\n",
    "plot!(x,e20,label=\"Error con n=20\")"
   ]
  },
  {
   "cell_type": "code",
   "execution_count": null,
   "metadata": {},
   "outputs": [],
   "source": [
    "#Espaciamiento de Chebyshev con n=20\n",
    "Xc=zeros(21)\n",
    "t=length(Xc)\n",
    "for i in 1:t\n",
    "    Xc[i]=-cos(π*(i-1)/(t-1))\n",
    "end\n",
    "f(x)=1/(1+25*x^2)\n",
    "Yc=f.(Xc)"
   ]
  },
  {
   "cell_type": "code",
   "execution_count": null,
   "metadata": {},
   "outputs": [],
   "source": [
    "pc(x)=lagrange(x,Xc,Yc)"
   ]
  },
  {
   "cell_type": "code",
   "execution_count": null,
   "metadata": {},
   "outputs": [],
   "source": [
    "using Plots\n",
    "f(x)=1/(1+25*x^2)\n",
    "x=range(-1,1,length=200)\n",
    "plot(x,f,xlabel=L\"x\",ylabel=L\"y\",label=L\"1/(1+25*x^2)\",y)\n",
    "plot!(x,pc,label=L\"n=5\")"
   ]
  },
  {
   "cell_type": "markdown",
   "metadata": {},
   "source": [
    "### Problema C.2\n",
    "\n",
    "Considere el siguiente polinomio:\n",
    "$$\n",
    "p(x) = -10 + 5 x - 12 x^2  + 6 x^3  - 2 x^4  + x^5 \\ ,\n",
    "$$\n",
    "\n",
    "1. Grafíquelo y observe que posee una única raíz real positiva.\n",
    "\n",
    "2. Calcule a mano su derivada y grafíquela.\n",
    "\n",
    "3. Evalúe el polinomio y su derivada utilizando el algoritmo de Horner de la guía 2. Grafique nuevamente comparando con lo graficado en los incisos 2. y 3. para verificar que dan lo mismo.\n",
    "\n",
    "4. Encuentre la raíz del polinomo utilizando el método de Newton-Raphson. Para ello, elija el valor inicial $p_1$ sacando ventaja de los teoremas que acotan la región del espacio complejo donde se encuentran las raíces."
   ]
  },
  {
   "cell_type": "code",
   "execution_count": null,
   "metadata": {},
   "outputs": [],
   "source": [
    "#Esto esta hecho en la guía 2 ejercicio 6"
   ]
  }
 ],
 "metadata": {
  "@webio": {
   "lastCommId": null,
   "lastKernelId": null
  },
  "kernelspec": {
   "display_name": "Julia 1.10.2",
   "language": "julia",
   "name": "julia-1.10"
  },
  "language_info": {
   "file_extension": ".jl",
   "mimetype": "application/julia",
   "name": "julia",
   "version": "1.10.2"
  }
 },
 "nbformat": 4,
 "nbformat_minor": 4
}
