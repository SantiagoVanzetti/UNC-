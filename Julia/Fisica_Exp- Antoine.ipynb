{
 "cells": [
  {
   "cell_type": "markdown",
   "id": "ba83fb6f-bea5-4096-b1d0-27dda2764cac",
   "metadata": {},
   "source": [
    "### Ecuacion de Antoine"
   ]
  },
  {
   "cell_type": "markdown",
   "id": "129664a5-223a-40a1-a991-c1c2ef3b411b",
   "metadata": {},
   "source": [
    "Corrección de densidad de $Hg$"
   ]
  },
  {
   "cell_type": "code",
   "execution_count": 5,
   "id": "60f14646-3741-4cee-95f9-3773a00ee72f",
   "metadata": {},
   "outputs": [
    {
     "data": {
      "text/plain": [
       "0.9659472236842106"
      ]
     },
     "execution_count": 5,
     "metadata": {},
     "output_type": "execute_result"
    }
   ],
   "source": [
    "#Paso de mmHg a Bares\n",
    "Ph=724.52 #Presión en mmHg\n",
    "Pb=Ph*1013.25/(760*1000) #Presion en Bares"
   ]
  },
  {
   "cell_type": "code",
   "execution_count": 14,
   "id": "36123e2b-032b-4faf-a5c3-674058caba40",
   "metadata": {},
   "outputs": [
    {
     "name": "stdout",
     "output_type": "stream",
     "text": [
      "H_r= 0.9601205251637817\n",
      "S_H= 0.0002247666939294564\n"
     ]
    }
   ],
   "source": [
    "#Corrección\n",
    "h=0.9659 #Presión medida en el barómetro de Fortin en bares\n",
    "s_h=0.0001 #Desviacion estandar de la presión medida\n",
    "T=22 #Temperatura en °C del termometro en el barómetro\n",
    "s_T=1 #Desv. estandar de la temperatura\n",
    "H_r=h*(9.793/9.80665)*(1-2.09e-4*T) #H_r corregido\n",
    "S_H=√((2.09e-4*(9.793/9.80665)*s_T*h)^2+((9.793/9.80665)*(1-2.09e-4*T)*s_h)^2) #Desviacion estandar de H_r\n",
    "println(\"H_r= $H_r\")\n",
    "println(\"S_H= $S_H\")"
   ]
  },
  {
   "cell_type": "markdown",
   "id": "16fc9a6d-21e5-4ac1-bade-72c86df44956",
   "metadata": {},
   "source": [
    "Ecuación de $Antoine$ (Cálculo de la temperatura de ebullición)"
   ]
  },
  {
   "cell_type": "code",
   "execution_count": 17,
   "id": "18b5a69b-1926-469e-9fcf-d0d8a9564ddc",
   "metadata": {},
   "outputs": [
    {
     "name": "stdout",
     "output_type": "stream",
     "text": [
      "T_e= 371.64672526813695\n",
      "u_T= 0.01445486464420609\n"
     ]
    }
   ],
   "source": [
    "P=0.9601 #Presión ya corregida en Bares\n",
    "u_P=0.0005 #Incertidumbre de la presión\n",
    "#Constantes\n",
    "A=5.08354\n",
    "B=1663.125\n",
    "C=-45.622\n",
    "#Mejor estimador\n",
    "T_e=B/(A-log10(P))-C\n",
    "#Incertidumbre\n",
    "u_T=abs(B*u_P/(log(10)*P*(A-log10(P))^2))\n",
    "println(\"T_e= $T_e\")\n",
    "println(\"u_T= $u_T\")"
   ]
  }
 ],
 "metadata": {
  "kernelspec": {
   "display_name": "Julia 1.10.2",
   "language": "julia",
   "name": "julia-1.10"
  },
  "language_info": {
   "file_extension": ".jl",
   "mimetype": "application/julia",
   "name": "julia",
   "version": "1.10.2"
  }
 },
 "nbformat": 4,
 "nbformat_minor": 5
}
