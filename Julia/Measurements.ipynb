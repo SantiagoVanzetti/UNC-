{
 "cells": [
  {
   "cell_type": "code",
   "execution_count": 28,
   "id": "7764a918-815a-40f9-b3f2-2ea875a95fb1",
   "metadata": {},
   "outputs": [],
   "source": [
    "using Measurements\n",
    "using DataFrames"
   ]
  },
  {
   "cell_type": "code",
   "execution_count": 10,
   "id": "d8a44f84-a37b-4919-8eae-c2ece67f513b",
   "metadata": {},
   "outputs": [
    {
     "data": {
      "text/plain": [
       "g (generic function with 2 methods)"
      ]
     },
     "execution_count": 10,
     "metadata": {},
     "output_type": "execute_result"
    }
   ],
   "source": [
    "function g(m,M,tc,ti,tf)\n",
    "    g=m*(tc-tf)/(tf-ti)-M\n",
    "    return g\n",
    "end"
   ]
  },
  {
   "cell_type": "code",
   "execution_count": 33,
   "id": "70710861-af7f-4fbb-92f8-eb261cbc0fa6",
   "metadata": {},
   "outputs": [
    {
     "data": {
      "text/plain": [
       "10.075559701492608"
      ]
     },
     "execution_count": 33,
     "metadata": {},
     "output_type": "execute_result"
    }
   ],
   "source": [
    "tc=80.4 ± 0.4 \n",
    "ti=23.21 ± 0.05 \n",
    "tf= 33.93 ± 0.08\n",
    "m=48.6 ± 0\n",
    "M=200.6 ± 0\n",
    "p=g(m,M,tc,ti,tf)\n",
    "Measurements.uncertainty(p)\n",
    "Measurements.value(p)"
   ]
  },
  {
   "cell_type": "code",
   "execution_count": 23,
   "id": "3a28e16e-8233-4ce7-af9c-30e92c8bf960",
   "metadata": {},
   "outputs": [
    {
     "data": {
      "text/plain": [
       "Dict{Tuple{Float64, Float64, UInt64}, Float64} with 3 entries:\n",
       "  (23.21, 0.05, 0x0000000000000009) => 0.982629\n",
       "  (33.93, 0.08, 0x000000000000000a) => 1.93489\n",
       "  (80.4, 0.4, 0x0000000000000008)   => 1.81343"
      ]
     },
     "execution_count": 23,
     "metadata": {},
     "output_type": "execute_result"
    }
   ],
   "source": [
    "Measurements.derivative(p,M)\n",
    "Measurements.uncertainty_components(p)"
   ]
  },
  {
   "cell_type": "code",
   "execution_count": 31,
   "id": "0eadb037-8335-46ba-8068-9e7041a7e891",
   "metadata": {},
   "outputs": [
    {
     "ename": "LoadError",
     "evalue": "MethodError: no method matching cov(::Vector{Float64})\n\n\u001b[0mClosest candidates are:\n\u001b[0m  cov(\u001b[91m::AbstractArray{Measurement{T}, 1}\u001b[39m) where T\n\u001b[0m\u001b[90m   @\u001b[39m \u001b[36mMeasurements\u001b[39m \u001b[90mC:\\Users\\Administrador\\.julia\\packages\\Measurements\\BdavX\\src\\\u001b[39m\u001b[90m\u001b[4mutils.jl:114\u001b[24m\u001b[39m\n",
     "output_type": "error",
     "traceback": [
      "MethodError: no method matching cov(::Vector{Float64})\n\n\u001b[0mClosest candidates are:\n\u001b[0m  cov(\u001b[91m::AbstractArray{Measurement{T}, 1}\u001b[39m) where T\n\u001b[0m\u001b[90m   @\u001b[39m \u001b[36mMeasurements\u001b[39m \u001b[90mC:\\Users\\Administrador\\.julia\\packages\\Measurements\\BdavX\\src\\\u001b[39m\u001b[90m\u001b[4mutils.jl:114\u001b[24m\u001b[39m\n",
      "",
      "Stacktrace:",
      " [1] top-level scope",
      "   @ In[31]:2"
     ]
    }
   ],
   "source": [
    "Dat=[1;2.4;4.6;5.9;8.3;10.4;11;12.5;6.6;8.9]\n",
    "Measurements.cov(Dat)"
   ]
  },
  {
   "cell_type": "code",
   "execution_count": 35,
   "id": "69fdb36f-f2e5-43ba-af80-a4f34986bba8",
   "metadata": {},
   "outputs": [
    {
     "data": {
      "text/plain": [
       "pi (generic function with 1 method)"
      ]
     },
     "execution_count": 35,
     "metadata": {},
     "output_type": "execute_result"
    }
   ],
   "source": [
    "function pi(Tc,Ti,Tf)\n",
    "    @assert length(Tc)==length(Ti)==length(Tf)\n",
    "    m=48.6\n",
    "    M=200.6\n",
    "    n=length(Tc)\n",
    "    P=zeros(n)\n",
    "    for i in 1:n\n",
    "        P[i]=m*(Tc[i]-Tf[i])/(Tf[i]-Ti[i])-M\n",
    "    end\n",
    "    return P\n",
    "end"
   ]
  },
  {
   "cell_type": "code",
   "execution_count": 38,
   "id": "135043a0-238a-46e0-9f47-9ba9d0d5d9c2",
   "metadata": {},
   "outputs": [
    {
     "data": {
      "text/plain": [
       "10-element Vector{Float64}:\n",
       " 33.5\n",
       " 34.2\n",
       " 34.1\n",
       " 34.1\n",
       " 33.8\n",
       " 34.2\n",
       " 33.8\n",
       " 34.2\n",
       " 34.2\n",
       " 33.7"
      ]
     },
     "execution_count": 38,
     "metadata": {},
     "output_type": "execute_result"
    }
   ],
   "source": [
    "Tc=[77.4;80.3;80.2;80.5;81;80.7;80.5;82.1;81;80]\n",
    "Ti=[23.3;23.4;23.3;23.1;23.1;23.1;22.9;23.2;23.5;23.2]\n",
    "Tf=[33.5;34.2;34.1;34.1;33.8;34.2;33.8;34.2;34.2;33.7]"
   ]
  },
  {
   "cell_type": "code",
   "execution_count": 48,
   "id": "2d2d2ea9-04c6-4b37-9d6f-e9cfe0b1fb5b",
   "metadata": {},
   "outputs": [
    {
     "name": "stdout",
     "output_type": "stream",
     "text": [
      "8.777787480395242 / 80.36999999999999 / 23.209999999999997 / 33.98"
     ]
    }
   ],
   "source": [
    "X=pi(Tc,Ti,Tf)\n",
    "n=length(X)\n",
    "prom_pi=sum(X)/n\n",
    "prom_Tc=sum(Tc)/n\n",
    "prom_Ti=sum(Ti)/n\n",
    "prom_Tf=sum(Tf)/n\n",
    "print(\"$prom_pi / $prom_Tc / $prom_Ti / $prom_Tf\")"
   ]
  },
  {
   "cell_type": "code",
   "execution_count": null,
   "id": "857ca2d5-4225-4a93-8f4e-c0ed2c2eda36",
   "metadata": {},
   "outputs": [],
   "source": []
  }
 ],
 "metadata": {
  "kernelspec": {
   "display_name": "Julia 1.10.5 1.10.5",
   "language": "julia",
   "name": "julia-1.10.5-1.10"
  },
  "language_info": {
   "file_extension": ".jl",
   "mimetype": "application/julia",
   "name": "julia",
   "version": "1.10.5"
  }
 },
 "nbformat": 4,
 "nbformat_minor": 5
}
