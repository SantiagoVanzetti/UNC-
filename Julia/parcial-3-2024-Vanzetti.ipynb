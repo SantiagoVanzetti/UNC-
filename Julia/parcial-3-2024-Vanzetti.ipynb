{
 "cells": [
  {
   "cell_type": "markdown",
   "id": "77c086bf",
   "metadata": {},
   "source": [
    "# Metodos Numéricos 2024\n",
    "\n",
    "## Parcial 3\n",
    "\n",
    "Fecha de entrega: 2024-06-11\n",
    "\n",
    "### Nombre(s):\n",
    "\n",
    "Poner aquí su/s nombre/s, appelido/s y DNI/s:\n",
    "\n",
    "* Santiago Rubén Vanzetti, 46.037.892\n",
    "\n",
    "\n",
    "### Nota sobre la programación en Julia\n",
    "\n",
    "Recuerde que su notebook tiene que poder ser entendida por otra persona. Para ello:\n",
    "\n",
    "* Cuando crea conveniente, use texto Markdown para desarrollar o comentar una idea.\n",
    "\n",
    "* Agregue comentarios a su código de ser necesario.\n",
    "\n",
    "* Realice gráficos que tengan etiquetas en los ejes y leyendas para cada curva o serie de puntos graficados, como así también un título apropiado.\n",
    "\n",
    "* Procure respetar reglas de buena programación:\n",
    "\n",
    "    * Use **sangrías** adecuadamente (recuerde el concepto de **alcance** o **scope**).\n",
    "\n",
    "    * Cuando sea posible, implemente funciones de caracter general, en vez de código específico a cada problema, facilitando así la reutilización de código.\n",
    "\n",
    "    * Implemente funciones que tengan los argumentos necesarios para su buen funcionamiento.    "
   ]
  },
  {
   "cell_type": "markdown",
   "id": "e584957c",
   "metadata": {},
   "source": [
    "## Problema 1\n",
    "\n",
    "1. Considere la función\n",
    "\n",
    "    $$\n",
    "    f(x) = e^x\\cos(x)\n",
    "    $$\n",
    "\n",
    "    y calcule la integral exacta\n",
    "\n",
    "    $$\n",
    "    I(x) = \\int_0^x dy\\, e^y\\cos(y)\n",
    "    $$\n",
    "\n",
    "2. Grafique $f$ e $I$ en el intervalo $x\\in [0,\\pi/4]$.\n",
    "\n",
    "3. Escriba una función que permitan obtener una aproximación numérica $I_M(f,a,b,n)$ de la integral de una función arbitraria $f$ utilizando un método compuesto $M$ sobre un intervalo $[a,b]$ dividido en $n$ subintervalos. En particular, implemente estas funciones para los métodos del **trapecio** y el de **Simpson**.\n",
    "\n",
    "4. Utilice lo implementado en el inciso 3. para calcular aproximaciones de $I(\\pi/4)$ con los distintos métodos de integración y para distintos valores de $n$ (por ejemplo, $n=2^i$ para $i=1,2,...,20$).\n",
    "\n",
    "5. Utilice lo calculado en los incisos 2. y 4. para calcular el error $E_M(n)=|I(\\pi/4)-I_M(f,0,\\pi/4,n)|$ en función de $n$ para los distintos métodos.\n",
    "\n",
    "6. Grafique en escala log-log $E_M(n)$ vs $n$ para los distintos métodos, verificando que el error decae (aproximadamente) como una ley de potencias $E_M(n) \\sim n^{-\\alpha_M}$ con un exponente $\\alpha_M$ que depende del método. Para ello, agregue al gráfico respectivas curvas $C_Mn^{-\\alpha_M}$ utilizando valores apropiados de $C_M$.\n",
    "\n",
    "7. Comente los resultados obtenidos, explicando porqué se observan diferentes comportamientos para los diferentes métodos."
   ]
  },
  {
   "cell_type": "code",
   "execution_count": null,
   "id": "2b7c682e",
   "metadata": {},
   "outputs": [],
   "source": [
    "using Plots\n",
    "using LaTeXStrings"
   ]
  },
  {
   "cell_type": "markdown",
   "id": "f5c6c3b2",
   "metadata": {},
   "source": [
    "### 1.1"
   ]
  },
  {
   "cell_type": "code",
   "execution_count": null,
   "id": "ed808fe5",
   "metadata": {},
   "outputs": [],
   "source": [
    "f(x)=exp(x)*cos(x)\n",
    "I(x)=(0.5*exp(x)*(cos(x)+sin(x)))-0.5 #I(x) exacta"
   ]
  },
  {
   "cell_type": "markdown",
   "id": "392184db",
   "metadata": {},
   "source": [
    "### 1.2"
   ]
  },
  {
   "cell_type": "code",
   "execution_count": null,
   "id": "87bbc7d0",
   "metadata": {},
   "outputs": [],
   "source": [
    "x=range(0,π/4,length=200)\n",
    "plot(x,f,label=L\"f(x)\",xlabel=L\"x\",ylabel=L\"y\",title=\"Gráfico de f(x) e I(x)\")\n",
    "plot!(x,I,label=L\"I(x)\")"
   ]
  },
  {
   "cell_type": "markdown",
   "id": "ceeb87be",
   "metadata": {},
   "source": [
    "### 1.3"
   ]
  },
  {
   "cell_type": "markdown",
   "id": "a0d5216a",
   "metadata": {},
   "source": [
    "Método del trapecio:"
   ]
  },
  {
   "cell_type": "code",
   "execution_count": null,
   "id": "4ff13052",
   "metadata": {},
   "outputs": [],
   "source": [
    "function trapecio(f,I,n) #n es la cantidad de intervalos \n",
    "    a,b=I\n",
    "    @assert a<=b\n",
    "    h=(b-a)/n #Defino la separación entre los puntos\n",
    "    sum=0\n",
    "    for i in 1:n-1\n",
    "        sum+=f(a+i*h) #Suma de los puntos interiores\n",
    "    end\n",
    "    A=(h/2)*(f(a)+2*sum+f(b)) #Fórmula del método\n",
    "    return A\n",
    "end"
   ]
  },
  {
   "cell_type": "markdown",
   "id": "fe91ef14",
   "metadata": {},
   "source": [
    "Método de Simpson:"
   ]
  },
  {
   "cell_type": "code",
   "execution_count": null,
   "id": "2b1f072c",
   "metadata": {},
   "outputs": [],
   "source": [
    "function simpson(f,I,n) #n es la cantidad de intervalos en el que se aplica Simpson\n",
    "    a,b=I\n",
    "    @assert n%2==0 #Me aseguro de que la cantidad de intervalos sean pares\n",
    "    @assert a<=b\n",
    "    h=(b-a)/n #Defino la separación entre los puntos\n",
    "    par=0\n",
    "    impar=0\n",
    "    for i in 1:n/2-1\n",
    "        par+=f(a+2*i*h) #Suma de los puntos interiores pares\n",
    "    end\n",
    "    for i in 0:n/2-1\n",
    "        impar+=f(a+(2i+1)*h) #Suma de los puntos interiores impares\n",
    "    end\n",
    "    A=(h/3)*(f(a)+2*par+4*impar+f(b)) #Fórmula del método\n",
    "    return A\n",
    "end"
   ]
  },
  {
   "cell_type": "markdown",
   "id": "9df3e630",
   "metadata": {},
   "source": [
    "### 1.4"
   ]
  },
  {
   "cell_type": "code",
   "execution_count": null,
   "id": "bf7a5635",
   "metadata": {},
   "outputs": [],
   "source": [
    "Intervalo=(0,π/4)\n",
    "N=zeros(20) \n",
    "for i in 1:20 \n",
    "    N[i]=2^i #Defino un vector con los valores de N con la forma N[i]=2^i\n",
    "end"
   ]
  },
  {
   "cell_type": "code",
   "execution_count": null,
   "id": "576b1ea2",
   "metadata": {},
   "outputs": [],
   "source": [
    "I_t=[trapecio(f,Intervalo,N[i]) for i in 1:20] #Utilizo el método de trapecio para cada N[i]"
   ]
  },
  {
   "cell_type": "code",
   "execution_count": null,
   "id": "1a641588",
   "metadata": {},
   "outputs": [],
   "source": [
    "I_s=[simpson(f,Intervalo,N[i]) for i in 1:20] #Utilizo el método de Simpson para cada N[i]"
   ]
  },
  {
   "cell_type": "markdown",
   "id": "4edd34f2",
   "metadata": {},
   "source": [
    "### 1.5"
   ]
  },
  {
   "cell_type": "code",
   "execution_count": null,
   "id": "8757b786",
   "metadata": {},
   "outputs": [],
   "source": [
    "I_a=I(π/4) #Valor exacto de I(x) en x=π/4\n",
    "E(x)=abs(I_a-x) #Función del error absoluto\n",
    "E_t=E.(I_t) #Error absoluto del método del trapecio para cada valor de N\n",
    "E_s=E.(I_s) #Error absoluto del método de Simpson para cada valor de N"
   ]
  },
  {
   "cell_type": "markdown",
   "id": "1dfa5c71",
   "metadata": {},
   "source": [
    "### 1.6"
   ]
  },
  {
   "cell_type": "code",
   "execution_count": null,
   "id": "fa623980",
   "metadata": {},
   "outputs": [],
   "source": [
    "c(n,p)=p[2]*n^-(p[1]) #C_m*n^(-α_m)"
   ]
  },
  {
   "cell_type": "code",
   "execution_count": null,
   "id": "06917e1e",
   "metadata": {},
   "outputs": [],
   "source": [
    "x=range(1,2^20,length=200)\n",
    "pt=(2,0.05) #Parámetros\n",
    "c_t(x)=c(x,pt) #Aproximación del valor del error para cada n\n",
    "scatter(N,E_t,xscale=:log10,yscale=:log10,label=L\"Error(n)\",xlabel=L\"n\",ylabel=\"Error absoluto\")\n",
    "plot!(x,c_t,label=L\"C_mn^{(-α_m)}\",title=\"Error absoluto del método del trapecio\")"
   ]
  },
  {
   "cell_type": "code",
   "execution_count": null,
   "id": "862988ad",
   "metadata": {},
   "outputs": [],
   "source": [
    "x=range(1,2^20,length=200)\n",
    "ps=(4,0.01) #Parámetros\n",
    "c_s(x)=c(x,ps) #Aproximación del valor del error para cada n\n",
    "scatter(N,E_s,xscale=:log10,yscale=:log10,label=L\"Error(n)\",xlabel=L\"n\",ylabel=\"Error absoluto\")\n",
    "plot!(x,c_s,label=L\"C_m*n^{(-α_m)}\",title=\"Error absoluto del método de Simpson\")"
   ]
  },
  {
   "cell_type": "markdown",
   "id": "0ed1bcfc",
   "metadata": {},
   "source": [
    "### 1.7"
   ]
  },
  {
   "cell_type": "markdown",
   "id": "b3dfdaa6",
   "metadata": {},
   "source": [
    "Se puede observar que el método de del trapecio disminuye su error de la forma $C_tn^{-2}$, mientras que el método de Simpson lo hace de la forma $C_sn^{-4}$. Esto es causado por el término del error de cada uno de los métodos, siendo en el trapecio $E_T = \\frac{(b-a)^3}{12n^2}f''(μ)$, y en el de Simpson  $E_S = \\frac{(b-a)^5}{180n^4}f^{(4)}(μ)$. \n",
    "\n",
    "También se puede notar que el error del metodo de Simpson una vez llega a valer aproximadamente $10^{-16}$, el error comienza a crecer. Esto es causado debido a que el error total, dependera del error de redondeo y del error de truncamiento de la maquina. Teniendo en cuenta esto, tiene que existir un n óptimo para el cual el error total alcance su mínimo. Viendo el gráfico se comprueba que este valor debe estar cercano a $n=10^{4}$."
   ]
  },
  {
   "cell_type": "markdown",
   "id": "f0186ce3",
   "metadata": {},
   "source": [
    "## Problema 2\n",
    "\n",
    "### Reacción oscilante de Belousov-Zhabotinskii\n",
    "\n",
    "La reacción de Belousov-Zhabotinskii (BZ) es un experimento intrigante que muestra un comportamiento inesperado (ver [Gray 2002] y [https://www.youtube.com/watch?v=PpyKSRo8Iec](https://www.youtube.com/watch?v=PpyKSRo8Iec)). Cuando se combinan ciertos reactivos, a un período de \"inducción\" de inactividad le siguen oscilaciones repentinas de color del rojo al azul. En sistemas espacialmente no homogéneos, las oscilaciones rojas y azules se propagan como frentes de ondas espirales. Las oscilaciones duran aproximadamente un minuto y se repiten durante un largo período de tiempo. Finalmente, la reacción deja de oscilar y se acerca a un estado de equilibrio. Ahora sabemos que los cambios de color son causados por oxidación-reducción alternante en la que el cerio cambia su estado de oxidación de $\\mathrm{Ce(III)}$ (produciendo una solución magenta) a $\\mathrm{Ce(IV)}$ (produciendo una solución azul) o viceversa. Por esto, llamamos a la reacción BZ “reacción oscilante”; esto simplemente significa una reacción en la que hay un cambio regular y periódico en la concentración de uno o más reactivos. Debido a que esta reacción se comprende bien, se la considera el prototipo de oscilador.\n",
    "\n",
    "1. Escriba una función que permita integrar un problema de valor inicial multidimensional:\n",
    "    $$\n",
    "    \\dot{y}(t) = f(y(t),t), \\qquad a\\le t\\le b, \\qquad y(a)=y_0\n",
    "    $$\n",
    "    donde\n",
    "    \\begin{eqnarray}\n",
    "    y&=&(y_1,y_2,...,y_d) \\\\\n",
    "    f&=&(f_1,f_2,...,f_d)\n",
    "    \\end{eqnarray}\n",
    "    y $f_j:\\mathbb{R}^d\\times \\mathbb{R} \\ni y(t),t \\to f_j(y(t),t) \\in \\mathbb{R}$.\n",
    "    La función a implementar tiene que tomar como datos de entrada:\n",
    "    * un método $M$ de integración de un paso $t\\to t+h$,\n",
    "    * la función $f$,\n",
    "    * el valor inicial $y_0$,\n",
    "    * el intervalo de integración $[a,b]$,\n",
    "    * el número de pasos de integración $n$, y\n",
    "    * opcionalmente, el vector de parámetros $p$ que opcionalmente puede requerir la función $f$.\n",
    "    y tiene que retornar:\n",
    "    * un vector $t$ de tiempos $t_1=a,t_2=a+h,...,t_n=b$, y\n",
    "    * una matriz $w$ de aproximaciones $w_{ji}\\approx y_j(t_i)$ de la solución integrada.\n",
    "    \n",
    "2. Teniendo en cuenta el programa anterior, implemente los metodos de integración de un paso de **Euler** y **Runge-Kutta de orden 4**. Cada método tiene que tomar como datos de entrada:\n",
    "    * la función $f$,\n",
    "    * un vector $x\\in \\mathbb{R}^d$ que hará las veces de $y(t)$,\n",
    "    * un tiempo $t$, y\n",
    "    * un paso de integración $h$.\n",
    "    y tiene que retornar un vector $z\\in \\mathrm{R}^d$ que hará las veces de $y(t+h)$.\n",
    "\n",
    "3. Utilice el método de **Euler** y un paso de integración $h=0.0005$ para resolver el problema de valor inicial dado por:\n",
    "    \\begin{eqnarray}\n",
    "    \\dot{y}_1(t) &=& \\frac{1}{\\epsilon} \\big(\\alpha y_2(t) - y_1(t)y_2(t) + y_1(t)(1-y_1(t))\\big), \\\\\n",
    "    \\dot{y}_2(t) &=& \\frac{1}{\\delta} \\big(-\\alpha y_2(t) - y_1(t)y_2(t) + \\beta y_3(t)\\big), \\\\\n",
    "    \\dot{y}_3(t) &=& y_1(t) - y_3(t),\n",
    "    \\end{eqnarray}\n",
    "    $a = 0 \\le t \\le 50 = b$ e $y(a) = (0.7,0.2,0.0)$, correspondiente a la Ecuación Diferencial Ordinaria que, para $\\epsilon=4 \\times 10^{-2}$, $\\delta=4 \\times 10^{-4}$, $\\alpha=8 \\times 10^{-4}$ y $\\beta=2/3$, modela la evolución temporal de las tres variables $y_1$, $y_2$ e $y_3$ que representan las concentraciones adimensionales de $\\mathrm{HBrO_2}$, $\\mathrm{Br^-}$ y $\\mathrm{Ce(IV)}$, respectivamente, de la reacción de Belousov-Zhabotinskii arriba descripta.\n",
    "\n",
    "4. Grafique las aproximaciones obtenidas de la solución del problema de valor inicial planteado. Mas precisamente, grafique simultaneamente las evoluciones temporales de las componentes $y_1(t)$, $y_2(t)$ e $y_3(t)$ vs $t$. Reescale la componente $y_2(t)$ para que su rango de valores se asemeje al de las otras componentes.\n",
    "\n",
    "5. Grafique paramétricamente $y_1(t)$ vs $y_3(t)$.\n",
    "\n",
    "6. Repita todo lo anterior, desde el inciso 3. al inciso 5., pero con el método de **Runge-Kutta de orden 4***.\n",
    "\n",
    "7. A modo de comparar, grafique simultaneamente las curvas $y_2(t)$ vs $t$ obtenidas con cada uno de los métodos.\n",
    "\n",
    "8. Comente los resultados obtenidos.\n",
    "\n",
    "### Referencias\n",
    "\n",
    "1. Gray, Casey. \"An analysis of the Belousov-Zhabotinskii reaction.\" Rose-Hulman Undergraduate Mathematics Journal 3.1 (2002): 1."
   ]
  },
  {
   "cell_type": "markdown",
   "id": "c2e2a2a4",
   "metadata": {},
   "source": [
    "### 2.1"
   ]
  },
  {
   "cell_type": "markdown",
   "id": "8a1e2198",
   "metadata": {},
   "source": [
    "Integrador:"
   ]
  },
  {
   "cell_type": "code",
   "execution_count": null,
   "id": "a3790eba",
   "metadata": {},
   "outputs": [],
   "source": [
    "function Integrador_vp(Method,f,y0,(a,b),N,p)\n",
    "    h=(b-a)/(N-1) #Espaciamiento entre puntos\n",
    "    m=length(y0) #m=dimensiones \n",
    "    w=zeros(m,N) #Matriz de las aproximaciones de y (las columnas son los vectores w_i de aproximacion)\n",
    "    t=zeros(N) #Vector de los valores de la forma a+i*h (hasta b)\n",
    "    w[:,1]=y0 #El primer valor de w es exacto \n",
    "    t[1]=a #Primer valor de t\n",
    "    for i in 2:N\n",
    "        t[i]=t[i-1]+h #Paso de los t\n",
    "        w[:,i]=Method(f,w[:,i-1],t[i-1],h,p) #Uso el metodo N-1 veces\n",
    "    end\n",
    "    return (t[:],w[:,:]) #Devuelve el vector de los t y la matriz de las aproximaciones de y(t) (w(t))\n",
    "end"
   ]
  },
  {
   "cell_type": "markdown",
   "id": "63b4838d",
   "metadata": {},
   "source": [
    "### 2.2"
   ]
  },
  {
   "cell_type": "markdown",
   "id": "9494db85",
   "metadata": {},
   "source": [
    "Método de Euler:"
   ]
  },
  {
   "cell_type": "code",
   "execution_count": null,
   "id": "d49db641",
   "metadata": {},
   "outputs": [],
   "source": [
    "function Eulerp(f,y0,t0,h,p)\n",
    "    return y0 + h*f(y0,t0,p)\n",
    "end"
   ]
  },
  {
   "cell_type": "markdown",
   "id": "1c9b9934",
   "metadata": {},
   "source": [
    "Método de Runge-Kutta de orden 4:"
   ]
  },
  {
   "cell_type": "code",
   "execution_count": null,
   "id": "32413e78",
   "metadata": {},
   "outputs": [],
   "source": [
    "function RK4p(f,y0,t0,h,p) \n",
    "    k1=h*f(y0,t0,p)\n",
    "    k2=h*f(y0+0.5*k1,t0+h*0.5,p)\n",
    "    k3=h*f(y0+0.5*k2,t0+h*0.5,p)\n",
    "    k4=h*f(y0+k3,t0+h,p)\n",
    "    return y0+(k1+2*k2+2*k3+k4)/6\n",
    "end"
   ]
  },
  {
   "cell_type": "markdown",
   "id": "444e65ca",
   "metadata": {},
   "source": [
    "### 2.3"
   ]
  },
  {
   "cell_type": "code",
   "execution_count": null,
   "id": "9ccbfdff",
   "metadata": {},
   "outputs": [],
   "source": [
    "p=[8e-4;2/3;4e-4;4e-2] #p=(α,β,δ,ϵ)\n",
    "U=(0,50) #Intervalo en el que se encuentra t \n",
    "g1(y,t,p)=(1/p[4])*(p[1]*y[2]-y[1]*y[2]+y[1]*(1-y[1])) #Función y'_1(y,t)\n",
    "g2(y,t,p)=(1/p[3])*(-p[1]*y[2]-y[1]*y[2]+p[2]*y[3]) #Función y'_2(y,t)\n",
    "g3(y,t,p)=y[1]-y[3] #Función y'_3(y,t)\n",
    "g(y,t,p)=[g1(y,t,p),g2(y,t,p),g3(y,t,p)]\n",
    "y0=[0.7;0.2;0.0] #Valor inicial de y\n",
    "N=100001 #N=(b-a)/h+1 con h=0.0005 (50/0.0005+1=100001)"
   ]
  },
  {
   "cell_type": "code",
   "execution_count": null,
   "id": "2cb5c2f2",
   "metadata": {},
   "outputs": [],
   "source": [
    "T,W=Integrador_vp(Eulerp,g,y0,U,N,p) #Aplico Euler"
   ]
  },
  {
   "cell_type": "markdown",
   "id": "c64b37f2",
   "metadata": {},
   "source": [
    "### 2.4"
   ]
  },
  {
   "cell_type": "code",
   "execution_count": null,
   "id": "e92989a8",
   "metadata": {},
   "outputs": [],
   "source": [
    "plot(T,W[1,:],label=L\"HBrO_2\",ylabel=L\"Concentración\",xlabel=L\"t\")\n",
    "plot!(T,W[2,:]/100,label=L\"Br^-(Escala-1:100)\")\n",
    "plot!(T,W[3,:],label=L\"Ce(IV)\")\n",
    "plot!(title=\"Concentraciones de reactivos de la reacción de Belousov-Zhabotinskii (Euler)\")\n",
    "plot!(titlefontsize=9)"
   ]
  },
  {
   "cell_type": "markdown",
   "id": "2cf5877c",
   "metadata": {},
   "source": [
    "### 2.5"
   ]
  },
  {
   "cell_type": "code",
   "execution_count": null,
   "id": "38c273f9",
   "metadata": {},
   "outputs": [],
   "source": [
    "plot(W[3,:],W[1,:],title=\"Grafico de y1(t) vs y3(t) (Euler)\",label=\"\")\n",
    "plot!(xlabel=L\"y_3(t)\",ylabel=L\"y_1(t)\")"
   ]
  },
  {
   "cell_type": "markdown",
   "id": "bdf4c39a",
   "metadata": {},
   "source": [
    "### 2.6"
   ]
  },
  {
   "cell_type": "code",
   "execution_count": null,
   "id": "3cc601c4",
   "metadata": {},
   "outputs": [],
   "source": [
    "T1,W1=Integrador_vp(RK4p,g,y0,U,N,p) #Aplico RK4"
   ]
  },
  {
   "cell_type": "code",
   "execution_count": null,
   "id": "067a20ef",
   "metadata": {},
   "outputs": [],
   "source": [
    "plot(T1,W1[1,:],label=L\"HBrO_2\",ylabel=L\"Concentración\",xlabel=L\"t\")\n",
    "plot!(T1,W1[2,:]/100,label=L\"Br^-(Escala-1:100)\")\n",
    "plot!(T1,W1[3,:],label=L\"Ce(IV)\")\n",
    "plot!(title=\"Concentraciones de reactivos de la reacción de Belousov-Zhabotinskii (RK4)\")\n",
    "plot!(titlefontsize=9)"
   ]
  },
  {
   "cell_type": "code",
   "execution_count": null,
   "id": "c5fda7c4",
   "metadata": {},
   "outputs": [],
   "source": [
    "plot(W1[3,:],W1[1,:],title=\"Grafico de y1(t) vs y3(t) (Runge-Kutta de orden 4)\",label=\"\")\n",
    "plot!(xlabel=L\"y_3(t)\",ylabel=L\"y_1(t)\")"
   ]
  },
  {
   "cell_type": "markdown",
   "id": "35041198",
   "metadata": {},
   "source": [
    "### 2.7"
   ]
  },
  {
   "cell_type": "code",
   "execution_count": null,
   "id": "0727552d",
   "metadata": {},
   "outputs": [],
   "source": [
    "plot(T,W[2,:],title=\"Gráfico de y_2(t) con ambos métodos\",label=\"Método de Euler\")\n",
    "plot!(T,W1[2,:],label=\"Método de Runge-Kutta 4\",xlabel=L\"t\",ylabel=L\"y_2(t)\")"
   ]
  },
  {
   "cell_type": "markdown",
   "id": "e6c180cf",
   "metadata": {},
   "source": [
    "### 2.8"
   ]
  },
  {
   "cell_type": "markdown",
   "id": "8a7ea095",
   "metadata": {},
   "source": [
    "Se puede observar en ambos métodos que el valor de las concentraciones es el esperado, es decir estas oscilan a medida que pasa el tiempo.\n",
    "\n",
    "Además, al realizar la comparación entre los métodos de Euler y Runge-Kutta de orden 4, se puede notar que no existe diferencia apreciable entre ellos. Esto puede ser causado por el hecho de que para realizar estas aproximaciones se utilizaron una gran cantidad de puntos (un espaciado muy pequeño) lo que resulto en que el error entre ellos no sea apreciable. "
   ]
  }
 ],
 "metadata": {
  "kernelspec": {
   "display_name": "Julia 1.10.2",
   "language": "julia",
   "name": "julia-1.10"
  },
  "language_info": {
   "file_extension": ".jl",
   "mimetype": "application/julia",
   "name": "julia",
   "version": "1.10.2"
  }
 },
 "nbformat": 4,
 "nbformat_minor": 5
}
