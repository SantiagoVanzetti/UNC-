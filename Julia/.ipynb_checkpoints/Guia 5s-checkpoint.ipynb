{
 "cells": [
  {
   "cell_type": "markdown",
   "metadata": {},
   "source": [
    "# Métodos Numéricos (2024)\n",
    "\n",
    "## Guía 5: 2024-05-07 - Derivadas"
   ]
  },
  {
   "cell_type": "code",
   "execution_count": 1,
   "metadata": {},
   "outputs": [],
   "source": [
    "using Plots\n",
    "using DataFrames\n",
    "using LaTeXStrings"
   ]
  },
  {
   "cell_type": "markdown",
   "metadata": {},
   "source": [
    "## Problema 1\n",
    "\n",
    "\n",
    "Defina una función, que, dada una función, un punto y un intervalo, retorne una aproximación a la derivada de la función dada, evaluada en el punto dado, utilizando la fórmula de diferencias finitas que se deriva de la siguiente aproximación (*fórmula centrada de tres puntos*): \n",
    "\n",
    "\n",
    "$$\n",
    "f^\\prime(x) = \\frac{f(x+h) - f(x-h)}{2h} + \\mathcal{O}(h^2)\n",
    "$$\n",
    "\n",
    "Utilize dicha función para evaluar la derivada de la función $f(x) = x e^x$ en el punto $x=2$\n",
    "para distintos valores de $h$ y calcule el incremento óptimo $h_o$ teniendo en cuenta los errores de truncamiento y redondeo. \n",
    "Usando la diferencia entre $f'(2)$ (calculado en Julia usando las funciones matemáticas incorporadas) y el valor de la aproximación mencionada, grafique en escala *log-log* el error versus $h$ para $h = 10^{-k}$ con $k$ entero."
   ]
  },
  {
   "cell_type": "code",
   "execution_count": null,
   "metadata": {},
   "outputs": [],
   "source": [
    "#Derivada de una funcion con la aproximacion centrada de tres puntos\n",
    "function derivada_3c(f,p,h)\n",
    "    df=(f(p+h)-f(p-h))/(2*h)\n",
    "    return df\n",
    "end"
   ]
  },
  {
   "cell_type": "code",
   "execution_count": null,
   "metadata": {},
   "outputs": [],
   "source": [
    "f(x)=x*exp(x)\n",
    "p=2\n",
    "h=0.00001\n",
    "df=derivada_3c(f,p,h)"
   ]
  },
  {
   "cell_type": "code",
   "execution_count": null,
   "metadata": {},
   "outputs": [],
   "source": [
    "#Calculo del h optimo\n",
    "M=120 #Cota de la derivada tercera en el intervalo (1,3)\n",
    "ϵ=2e-16 #Epsilon de la maquina de 64 bits\n",
    "h0=(3*ϵ/M)^(1/3) #h optimo (h0 es del orden de 1e-6 lo cual coincide con el grafico de debajo con un minimo)\n",
    "df=derivada_3c(f,p,h0)"
   ]
  },
  {
   "cell_type": "code",
   "execution_count": null,
   "metadata": {},
   "outputs": [],
   "source": [
    "using DataFrames\n",
    "A=[0 1 2 3 4 5 6 7 8 9 10]\n",
    "g(x)=10.0^(-x) \n",
    "h=g.(A) #Armo un vector con los distintos h de forma h=10^-k\n",
    "dfh(x)=derivada_3c(f,p,x)\n",
    "e(x)=abs(dfh(x)-3*exp(2)) #Defino el error de la derivada con los distintos h \n",
    "B=e.(h) #Vector de los distintos errores\n",
    "scatter(h,B,xscale=:log10, yscale=:log10, colour=:lightblue, label=\"\")\n",
    "scatter!(xlabel=L\"h[10^-k]\",ylabel=\"Error absoluto\",title=\"Errores absolutos\")"
   ]
  },
  {
   "cell_type": "markdown",
   "metadata": {},
   "source": [
    "## Problema 2\n",
    "\n",
    "Para funciones $f(x)$ que son suficientemente diferenciables en $x=c$\n",
    "\n",
    "1. Muestre que se  puede aproximar $f'(c)$ con la *fórmula centrada de 5 puntos*\n",
    "$$\n",
    "D_5f(c) := \\,\\frac{1}{12 h} \\left(f(c-2 h)-8 f(c-h)+8 f(c+h)-f(c+2 h)\n",
    "\\right)\n",
    "$$\n",
    "\n",
    "\n",
    "2. Muestre que la aproximación es exacta para polinomios de grado $\\le 4$.\n",
    "*Ayuda:* calcule explícitamente el término expresado como $O(h^4)$ en la ecuación siguiente, usando una expansión en serie de Taylor alrededor de $x=c$ de todas las evaluaciones de la función que aparecen en la fórmula para $D_5f(c)$.\n",
    "\n",
    "$$\n",
    "f'(c)\\,=\\,\\frac{1}{12 h} \\left(f(c-2 h)-8 f(c-h)+8 f(c+h)-f(c+2 h)\n",
    "\\right)\\,+\\,O(h^4)\n",
    "$$"
   ]
  },
  {
   "cell_type": "code",
   "execution_count": null,
   "metadata": {},
   "outputs": [],
   "source": [
    "#Fórmula centrada de 5 puntos\n",
    "function derivada_5c(f,p,h)\n",
    "    df=(f(p-2h)-8*f(p-h)+8*f(p+h)-f(p+2h))/(12*h)\n",
    "    return df\n",
    "end"
   ]
  },
  {
   "cell_type": "markdown",
   "metadata": {},
   "source": [
    "### 1."
   ]
  },
  {
   "cell_type": "code",
   "execution_count": null,
   "metadata": {},
   "outputs": [],
   "source": [
    "f(x)=x*exp(x)\n",
    "p=2\n",
    "h=0.00001\n",
    "df5=derivada_5c(f,p,h)"
   ]
  },
  {
   "cell_type": "code",
   "execution_count": null,
   "metadata": {},
   "outputs": [],
   "source": [
    "derf(x)=(x+1)*exp(x)\n",
    "derf(2) #Notamos que dan valores muy aproximados"
   ]
  },
  {
   "cell_type": "code",
   "execution_count": null,
   "metadata": {},
   "outputs": [],
   "source": [
    "#Gráfico del error\n",
    "using DataFrames\n",
    "A=[0 1 2 3 4 5 6 7 8 9 10]\n",
    "g(x)=10.0^(-x) \n",
    "h=g.(A) #Armo un vector con los distintos h de forma h=10^-k\n",
    "derfh(x)=derivada_5c(f,p,x)\n",
    "eh(x)=abs(derfh(x)-3*exp(2)) #Defino el error de la derivada con los distintos h \n",
    "B=eh.(h) #Vector de los distintos errores\n",
    "scatter(h,B,xscale=:log10, yscale=:log10, colour=:lightblue, label=\"\")\n",
    "scatter!(xlabel=L\"h[10^-k]\",ylabel=\"Error absoluto\",title=\"Errores absolutos\")\n",
    "#Se puede notar que el h optimo es del orden de 1e-3"
   ]
  },
  {
   "cell_type": "markdown",
   "metadata": {},
   "source": [
    "### 2."
   ]
  },
  {
   "cell_type": "code",
   "execution_count": null,
   "metadata": {},
   "outputs": [],
   "source": [
    "#Preguntar si se hace a mano "
   ]
  },
  {
   "cell_type": "code",
   "execution_count": null,
   "metadata": {},
   "outputs": [],
   "source": [
    "#Veo un ejemplo con un polinomio de grado 4\n",
    "pol(x)=x^4\n",
    "c=2\n",
    "h=0.001\n",
    "dpol=derivada_5c(pol,c,h)"
   ]
  },
  {
   "cell_type": "code",
   "execution_count": null,
   "metadata": {},
   "outputs": [],
   "source": [
    "using DataFrames\n",
    "A=[0 1 2 3 4 5 6 7 8 9 10]\n",
    "g(x)=10.0^(-x) \n",
    "h=g.(A) \n",
    "derpol(x)=derivada_5c(pol,c,x)\n",
    "eh(x)=abs(derpol(x)-4*x^3) \n",
    "B=eh.(h) \n",
    "scatter(h,B,xscale=:log10, yscale=:log10, colour=:lightblue, label=\"\")\n",
    "scatter!(xlabel=L\"h[10^-k]\",ylabel=\"Error absoluto\",title=\"Errores absolutos\")\n",
    "#Se puede ver que los errores son constantes por lo que lo unico que hace efecto sobre este es el redondeo en el cálculo"
   ]
  },
  {
   "cell_type": "markdown",
   "metadata": {},
   "source": [
    "## Problema 3\n",
    "\n",
    "1. Implemente el cálculo aproximado de las derivadas de una función arbitraria utilizando las fórmulas *i) hacia adelante de 2 puntos*, *ii) centrada de 3 puntos* y *iii) centrada de 5 puntos*.\n",
    "\n",
    "2. Aplíquelas para obtener los valores aproximados de las derivadas de $f(x)=\\cos x$ y $g(x)=e^x$.\n",
    "\n",
    "3. Haga un gráfico *log-log* del error relativo $E$ vs $h$ para $h\\in [\\epsilon_m(x),0.1]$ y $x=0.1, 1, 100$. Aquí $\\epsilon_m(x)$ es la precisión de la máquina al valor $x$.\n",
    "\n",
    "4. Verifique si el número de cifras decimales que obtiene coincide con las estimaciones presentadas en el téorico.\n",
    "\n",
    "5. Identifique las regiones donde domina el error del algoritmo y el error de redondeo, respectivamente. Las pendientes que se observan, corresponden a las predichas en el teórico?"
   ]
  },
  {
   "cell_type": "markdown",
   "metadata": {},
   "source": [
    "### 1. / 2."
   ]
  },
  {
   "cell_type": "code",
   "execution_count": null,
   "metadata": {},
   "outputs": [],
   "source": [
    "# i) Hacia la derecha de 2 puntos (derivada normal)\n",
    "function derivada_2d(p,f,h)\n",
    "    df=(f(p+h)-f(p))/h \n",
    "    return df \n",
    "end"
   ]
  },
  {
   "cell_type": "code",
   "execution_count": null,
   "metadata": {},
   "outputs": [],
   "source": [
    "f(x)=cos(x)\n",
    "h=0.0001\n",
    "df_2(x)=derivada_2d(x,f,h) #Cambiar la variable segun se quiera graficar h o p\n",
    "x=range(0,10,length=200)\n",
    "plot(x,df_2)"
   ]
  },
  {
   "cell_type": "code",
   "execution_count": null,
   "metadata": {},
   "outputs": [],
   "source": [
    "g(x)=exp(x)\n",
    "h=0.0001\n",
    "df_2(x)=derivada_2d(x,g,h) \n",
    "x=range(-1,1,length=200)\n",
    "plot(x,df_2)"
   ]
  },
  {
   "cell_type": "code",
   "execution_count": null,
   "metadata": {},
   "outputs": [],
   "source": [
    "#ii)Centrada de 3 puntos\n",
    "function derivada_3c(f,p,h)\n",
    "    df=(f(p+h)-f(p-h))/(2*h)\n",
    "    return df\n",
    "end"
   ]
  },
  {
   "cell_type": "code",
   "execution_count": null,
   "metadata": {},
   "outputs": [],
   "source": [
    "f(x)=cos(x)\n",
    "h=0.0001\n",
    "df_3(x)=derivada_3c(f,x,h) #Cambiar la variable segun se quiera graficar h o p\n",
    "x=range(0,10,length=200)\n",
    "plot(x,df_3)"
   ]
  },
  {
   "cell_type": "code",
   "execution_count": null,
   "metadata": {},
   "outputs": [],
   "source": [
    "g(x)=exp(x)\n",
    "h=0.0001\n",
    "df_3(x)=derivada_3c(g,x,h) \n",
    "x=range(-1,1,length=200)\n",
    "plot(x,df_3)"
   ]
  },
  {
   "cell_type": "code",
   "execution_count": null,
   "metadata": {},
   "outputs": [],
   "source": [
    "#iii)Centrada de 5 puntos\n",
    "function derivada_5c(f,p,h)\n",
    "    df=(f(p-2h)-8*f(p-h)+8*f(p+h)-f(p+2h))/(12*h)\n",
    "    return df\n",
    "end"
   ]
  },
  {
   "cell_type": "code",
   "execution_count": null,
   "metadata": {},
   "outputs": [],
   "source": [
    "f(x)=cos(x)\n",
    "h=0.0001\n",
    "df_5(x)=derivada_5c(f,x,h) #Cambiar la variable segun se quiera graficar h o p\n",
    "x=range(0,10,length=200)\n",
    "plot(x,df_5)"
   ]
  },
  {
   "cell_type": "code",
   "execution_count": null,
   "metadata": {},
   "outputs": [],
   "source": [
    "g(x)=exp(x)\n",
    "h=0.0001\n",
    "df_5(x)=derivada_5c(g,x,h) \n",
    "x=range(-1,1,length=200)\n",
    "plot(x,df_5)"
   ]
  },
  {
   "cell_type": "code",
   "execution_count": null,
   "metadata": {},
   "outputs": [],
   "source": []
  },
  {
   "cell_type": "code",
   "execution_count": null,
   "metadata": {},
   "outputs": [],
   "source": []
  },
  {
   "cell_type": "code",
   "execution_count": null,
   "metadata": {},
   "outputs": [],
   "source": []
  },
  {
   "cell_type": "code",
   "execution_count": null,
   "metadata": {},
   "outputs": [],
   "source": []
  },
  {
   "cell_type": "markdown",
   "metadata": {},
   "source": [
    "## Problema 4\n",
    "\n",
    "En el archivo `pos.dat` que se encuentra en el repositorio se dispone de un conjunto de datos experimentales de la posición de un móvil que se desplaza en línea recta. El mismo tiene dos columnas, siendo la primera el tiempo de la medición, $t_i$ y la segunda la posición, $x(t_i)$.\n",
    "\n",
    "1. Escriba un programa que lea los datos del archivo y calcule la velocidad del móvil para los mismos tiempos, $t_i$. Utilice la fórmula de 3 puntos. Preste especial atención a los puntos de los bordes del intervalo.\n",
    "2. Repita el punto 1. utilizando las fórmulas de 5 puntos."
   ]
  },
  {
   "cell_type": "markdown",
   "metadata": {},
   "source": [
    "**Ayuda:** Para bajar el archivo `pos.dat` del repositorio de github desde julia realice:"
   ]
  },
  {
   "cell_type": "code",
   "execution_count": 8,
   "metadata": {},
   "outputs": [
    {
     "ename": "LoadError",
     "evalue": "ParseError:\n\u001b[90m# Error @ \u001b[0;0m\u001b]8;;file://C:/Users/Administrador/OneDrive/In[8]#6:5\u001b\\\u001b[90mIn[8]:6:5\u001b[0;0m\u001b]8;;\u001b\\\n    \"https://raw.githubusercontent.com/reula/Metodos_Numericos_2022/main/Guias/pos.dat \" # Bajamos el archivo pos.dat del repositorio en el que están las guías.\n    \u001b[48;2;120;70;70mpwd(\u001b[0;0m) * separador * \"pos.dat\" # Guardamos lo bajado en un archivo llamado pos.dat en el directorio local.\n\u001b[90m#   └──┘ ── \u001b[0;0m\u001b[91mExpected `)`\u001b[0;0m",
     "output_type": "error",
     "traceback": [
      "ParseError:\n\u001b[90m# Error @ \u001b[0;0m\u001b]8;;file://C:/Users/Administrador/OneDrive/In[8]#6:5\u001b\\\u001b[90mIn[8]:6:5\u001b[0;0m\u001b]8;;\u001b\\\n    \"https://raw.githubusercontent.com/reula/Metodos_Numericos_2022/main/Guias/pos.dat \" # Bajamos el archivo pos.dat del repositorio en el que están las guías.\n    \u001b[48;2;120;70;70mpwd(\u001b[0;0m) * separador * \"pos.dat\" # Guardamos lo bajado en un archivo llamado pos.dat en el directorio local.\n\u001b[90m#   └──┘ ── \u001b[0;0m\u001b[91mExpected `)`\u001b[0;0m",
      "",
      "Stacktrace:",
      " [1] top-level scope",
      "   @ In[8]:6"
     ]
    }
   ],
   "source": [
    "# Ejemplo de como bajar un archivo.\n",
    "separador = \"/\" # En Linux\n",
    "#separador = \"\\ \" # En Windows\n",
    "download(\n",
    "    \"https://raw.githubusercontent.com/reula/Metodos_Numericos_2022/main/Guias/pos.dat \" # Bajamos el archivo pos.dat del repositorio en el que están las guías.\n",
    "    pwd() * separador * \"pos.dat\" # Guardamos lo bajado en un archivo llamado pos.dat en el directorio local.\n",
    ")"
   ]
  },
  {
   "cell_type": "code",
   "execution_count": null,
   "metadata": {},
   "outputs": [],
   "source": []
  },
  {
   "cell_type": "markdown",
   "metadata": {},
   "source": [
    "1. **Notar que Windows usa `\"\\\"` en vez de `\"/\"`.**\n",
    "\n",
    "2. Cuando entre a github a ver los links a los archivos, seleccione primero el archivo, cuando se visualice selecione el botón **Raw**. Fíjese que el link debe comenzar con https://raw.githubusercontent.com"
   ]
  },
  {
   "cell_type": "markdown",
   "metadata": {},
   "source": [
    "**Ayuda:** Para cargar los datos en `pos.dat` a vectores de Julia utilice:"
   ]
  },
  {
   "cell_type": "code",
   "execution_count": null,
   "metadata": {},
   "outputs": [],
   "source": [
    "t = Vector{Float64}()\n",
    "x = Vector{Float64}()\n",
    "open(\"pos.dat\",\"r\") do fh\n",
    "    for line in readlines(fh) \n",
    "        cols = split(line)\n",
    "        push!(t,parse(Float64,cols[1]))\n",
    "        push!(x,parse(Float64,cols[2]))\n",
    "    end\n",
    "end"
   ]
  },
  {
   "cell_type": "code",
   "execution_count": null,
   "metadata": {},
   "outputs": [],
   "source": []
  },
  {
   "cell_type": "markdown",
   "metadata": {},
   "source": [
    "# Ejercicios Complementarios"
   ]
  },
  {
   "cell_type": "markdown",
   "metadata": {},
   "source": [
    "## Problema C.1\n",
    "\n",
    "**Derivada segunda:** Deduzca la fórmula centrada equiespaciada de tres puntos para la derivada segunda $f''(x_0)$. Incluya una cota para el error absoluto."
   ]
  },
  {
   "cell_type": "code",
   "execution_count": null,
   "metadata": {},
   "outputs": [],
   "source": []
  },
  {
   "cell_type": "markdown",
   "metadata": {},
   "source": [
    "## Problema C.2\n",
    "\n",
    "**Interpolación y diferenciación:** Se conoce el valor de $f(x)$ en tres puntos $x_0,x_1,x_2$. Escriba el polinomio interpolante $P_2(x)$ en la forma de Lagrange. Asuma que aproximamos $f'(x_i)$ por $P_2'(x_i)$,\n",
    "\n",
    "1. Muestre que si tomamos $x_0=c-h,\\,x_1=c,\\,x_2=c+h$ obtenemos la expresión del algoritmo centrado de tres\n",
    "puntos para $f'(c)$. \n",
    "2. Muestre que, en general, esta proximación arroja el algoritmo de tres puntos. Reobtenga la fórmula dada en el teórico para $x_0=c-h_1,\\,x_1=c,\\,x_2=c+h_2$. Obtenga una expresión para las derivadas en extremos del intervalo $[a,b]$, $f'(a)$ con $x_0=a,\\,x_1=a+h,\\,x_2=a+2 h$ y $f'(b)$ con $x_0=b,\\,x_1=b-h,\\,x_2=b-2h$.\n",
    "3. Generalice a 5 puntos y re-obtenga el algoritmo centrado y equiespaciado en este caso."
   ]
  },
  {
   "cell_type": "code",
   "execution_count": null,
   "metadata": {},
   "outputs": [],
   "source": []
  }
 ],
 "metadata": {
  "@webio": {
   "lastCommId": null,
   "lastKernelId": null
  },
  "kernelspec": {
   "display_name": "Julia 1.10.2",
   "language": "julia",
   "name": "julia-1.10"
  },
  "language_info": {
   "file_extension": ".jl",
   "mimetype": "application/julia",
   "name": "julia",
   "version": "1.10.2"
  },
  "latex_envs": {
   "LaTeX_envs_menu_present": true,
   "autoclose": false,
   "autocomplete": true,
   "bibliofile": "biblio.bib",
   "cite_by": "apalike",
   "current_citInitial": 1,
   "eqLabelWithNumbers": true,
   "eqNumInitial": 1,
   "hotkeys": {
    "equation": "Ctrl-E",
    "itemize": "Ctrl-I"
   },
   "labels_anchors": false,
   "latex_user_defs": false,
   "report_style_numbering": false,
   "user_envs_cfg": false
  }
 },
 "nbformat": 4,
 "nbformat_minor": 4
}
