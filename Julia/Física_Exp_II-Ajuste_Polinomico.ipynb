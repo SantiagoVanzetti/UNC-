{
 "cells": [
  {
   "cell_type": "code",
   "execution_count": 1,
   "id": "51e30483-25d7-4113-b8f7-51f9f3057829",
   "metadata": {},
   "outputs": [],
   "source": [
    "using Plots\n",
    "using LaTeXStrings\n",
    "using DataFrames\n",
    "using CSV\n",
    "using LsqFit\n",
    "using LinearAlgebra"
   ]
  },
  {
   "cell_type": "code",
   "execution_count": 2,
   "id": "1fb7a965-92d6-4350-9fd1-06fb311426b9",
   "metadata": {},
   "outputs": [
    {
     "data": {
      "text/plain": [
       "21-element Vector{Float64}:\n",
       " -0.85\n",
       " -0.74\n",
       " -0.54\n",
       " -0.35\n",
       " -0.2\n",
       " -0.02\n",
       "  0.26\n",
       "  0.41\n",
       "  0.73\n",
       "  0.88\n",
       "  1.26\n",
       "  1.3\n",
       "  1.54\n",
       "  1.77\n",
       "  1.94\n",
       "  2.15\n",
       "  2.46\n",
       "  2.68\n",
       "  2.99\n",
       "  3.2\n",
       "  3.32"
      ]
     },
     "execution_count": 2,
     "metadata": {},
     "output_type": "execute_result"
    }
   ],
   "source": [
    "Y=[-0.85\n",
    "-0.74\n",
    "-0.54\n",
    "-0.35\n",
    "-0.2\n",
    "-0.02\n",
    "0.26\n",
    "0.41\n",
    "0.73\n",
    "0.88\n",
    "1.26\n",
    "1.3\n",
    "1.54\n",
    "1.77\n",
    "1.94\n",
    "2.15\n",
    "2.46\n",
    "2.68\n",
    "2.99\n",
    "3.20\n",
    "3.32]\n",
    "X=zeros(21)\n",
    "for i in 1:21\n",
    "    X[i]=5(i-1)\n",
    "end\n",
    "Y"
   ]
  },
  {
   "cell_type": "code",
   "execution_count": 3,
   "id": "a3589c1c-416a-4df3-8453-b8f3613d0c93",
   "metadata": {},
   "outputs": [
    {
     "data": {
      "text/plain": [
       "166553.0"
      ]
     },
     "execution_count": 3,
     "metadata": {},
     "output_type": "execute_result"
    }
   ],
   "source": [
    "b=0\n",
    "for i in 1:21\n",
    "    k=2\n",
    "    b+=Y[i]*X[i]^k\n",
    "end\n",
    "b"
   ]
  },
  {
   "cell_type": "markdown",
   "id": "e7b94d57-a2cd-4920-b132-623537e7d75f",
   "metadata": {},
   "source": [
    "### Ajuste polinómico"
   ]
  },
  {
   "cell_type": "code",
   "execution_count": 4,
   "id": "71de8653-9b4d-4da1-9b1b-a80d1c355e5c",
   "metadata": {},
   "outputs": [
    {
     "data": {
      "text/plain": [
       "3-element Vector{Float64}:\n",
       "     24.19\n",
       "   2040.8\n",
       " 166553.0"
      ]
     },
     "execution_count": 4,
     "metadata": {},
     "output_type": "execute_result"
    }
   ],
   "source": [
    "f(x)=(1, x, x^2)\n",
    "F=zeros(21,3)\n",
    "for i in 1:3 #Defino F 21x3\n",
    "    for j in 1:21\n",
    "        F[j,i]=f(X[j])[i]\n",
    "    end\n",
    "end\n",
    "Ft=transpose(F) #Transpuesta de F 3x21\n",
    "A=Ft*F #Defino A 3x3\n",
    "Ainv=inv(A)\n",
    "b=Ft*Y #Defino b 3x1"
   ]
  },
  {
   "cell_type": "code",
   "execution_count": 5,
   "id": "a79fc3ef-99dc-49c9-94e2-745875ac1266",
   "metadata": {},
   "outputs": [
    {
     "data": {
      "text/plain": [
       "3-element Vector{Float64}:\n",
       " -0.9199265951439873\n",
       "  0.03766508365776113\n",
       "  5.5193319266546155e-5"
      ]
     },
     "execution_count": 5,
     "metadata": {},
     "output_type": "execute_result"
    }
   ],
   "source": [
    "p=Ainv*b #Calculo el vector de parametros (p 3x1) ya ajustados usando A*p=b"
   ]
  },
  {
   "cell_type": "code",
   "execution_count": 6,
   "id": "d58f00bd-6ac6-47b7-8f42-810da340b1ef",
   "metadata": {},
   "outputs": [
    {
     "data": {
      "text/plain": [
       "3-element Vector{Float64}:\n",
       " 0.03609198892686007\n",
       " 0.0016725961222572002\n",
       " 1.6148231106218908e-5"
      ]
     },
     "execution_count": 6,
     "metadata": {},
     "output_type": "execute_result"
    }
   ],
   "source": [
    "#Errores\n",
    "dp=norm(F*p-Y)^2 #F*p-Y es un vector de 21 coord. y con norm() calculo la norma (con norma de 2 por defecto)\n",
    "σ2=dp/(21-3) #Donde 21 son las filas de F y 3 las columnas\n",
    "Varp=zeros(3)\n",
    "for i in 1:3 #Defino Var(p_i) es el vector de las varianzas de cada p_i\n",
    "    Varp[i]=Ainv[i,i]*σ2\n",
    "end\n",
    "E=sqrt.(Varp) #Vector de los errores de los parametros p_i (donde el error E_i=√(Var(p_i)))"
   ]
  },
  {
   "cell_type": "code",
   "execution_count": 7,
   "id": "9a88ae73-c758-4370-a80e-293a02584d5b",
   "metadata": {},
   "outputs": [
    {
     "data": {
      "image/png": "[encoded data removed]",
      "image/svg+xml": [
       "<?xml version=\"1.0\" encoding=\"utf-8\"?>\n",
       "<svg xmlns=\"http://www.w3.org/2000/svg\" xmlns:xlink=\"http://www.w3.org/1999/xlink\" width=\"600\" height=\"400\" viewBox=\"0 0 2400 1600\">\n",
       "<defs>\n",
       "  <clipPath id=\"clip450\">\n",
       "    <rect x=\"0\" y=\"0\" width=\"2400\" height=\"1600\"/>\n",
       "  </clipPath>\n",
       "</defs>\n",
       "<path clip-path=\"url(#clip450)\" d=\"M0 1600 L2400 1600 L2400 0 L0 0  Z\" fill=\"#ffffff\" fill-rule=\"evenodd\" fill-opacity=\"1\"/>\n",
       "<defs>\n",
       "  <clipPath id=\"clip451\">\n",
       "    <rect x=\"480\" y=\"0\" width=\"1681\" height=\"1600\"/>\n",
       "  </clipPath>\n",
       "</defs>\n",
       "<path clip-path=\"url(#clip450)\" d=\"M147.478 1486.45 L2352.76 1486.45 L2352.76 47.2441 L147.478 47.2441  Z\" fill=\"#ffffff\" fill-rule=\"evenodd\" fill-opacity=\"1\"/>\n",
       "<defs>\n",
       "  <clipPath id=\"clip452\">\n",
       "    <rect x=\"147\" y=\"47\" width=\"2206\" height=\"1440\"/>\n",
       "  </clipPath>\n",
       "</defs>\n",
       "<polyline clip-path=\"url(#clip452)\" style=\"stroke:#000000; stroke-linecap:round; stroke-linejoin:round; stroke-width:2; stroke-opacity:0.1; fill:none\" points=\"230.288,1486.45 230.288,47.2441 \"/>\n",
       "<polyline clip-path=\"url(#clip452)\" style=\"stroke:#000000; stroke-linecap:round; stroke-linejoin:round; stroke-width:2; stroke-opacity:0.1; fill:none\" points=\"740.202,1486.45 740.202,47.2441 \"/>\n",
       "<polyline clip-path=\"url(#clip452)\" style=\"stroke:#000000; stroke-linecap:round; stroke-linejoin:round; stroke-width:2; stroke-opacity:0.1; fill:none\" points=\"1250.12,1486.45 1250.12,47.2441 \"/>\n",
       "<polyline clip-path=\"url(#clip452)\" style=\"stroke:#000000; stroke-linecap:round; stroke-linejoin:round; stroke-width:2; stroke-opacity:0.1; fill:none\" points=\"1760.03,1486.45 1760.03,47.2441 \"/>\n",
       "<polyline clip-path=\"url(#clip452)\" style=\"stroke:#000000; stroke-linecap:round; stroke-linejoin:round; stroke-width:2; stroke-opacity:0.1; fill:none\" points=\"2269.95,1486.45 2269.95,47.2441 \"/>\n",
       "<polyline clip-path=\"url(#clip450)\" style=\"stroke:#000000; stroke-linecap:round; stroke-linejoin:round; stroke-width:4; stroke-opacity:1; fill:none\" points=\"147.478,1486.45 2352.76,1486.45 \"/>\n",
       "<polyline clip-path=\"url(#clip450)\" style=\"stroke:#000000; stroke-linecap:round; stroke-linejoin:round; stroke-width:4; stroke-opacity:1; fill:none\" points=\"230.288,1486.45 230.288,1467.55 \"/>\n",
       "<polyline clip-path=\"url(#clip450)\" style=\"stroke:#000000; stroke-linecap:round; stroke-linejoin:round; stroke-width:4; stroke-opacity:1; fill:none\" points=\"740.202,1486.45 740.202,1467.55 \"/>\n",
       "<polyline clip-path=\"url(#clip450)\" style=\"stroke:#000000; stroke-linecap:round; stroke-linejoin:round; stroke-width:4; stroke-opacity:1; fill:none\" points=\"1250.12,1486.45 1250.12,1467.55 \"/>\n",
       "<polyline clip-path=\"url(#clip450)\" style=\"stroke:#000000; stroke-linecap:round; stroke-linejoin:round; stroke-width:4; stroke-opacity:1; fill:none\" points=\"1760.03,1486.45 1760.03,1467.55 \"/>\n",
       "<polyline clip-path=\"url(#clip450)\" style=\"stroke:#000000; stroke-linecap:round; stroke-linejoin:round; stroke-width:4; stroke-opacity:1; fill:none\" points=\"2269.95,1486.45 2269.95,1467.55 \"/>\n",
       "<path clip-path=\"url(#clip450)\" d=\"M230.288 1517.37 Q226.677 1517.37 224.848 1520.93 Q223.043 1524.47 223.043 1531.6 Q223.043 1538.71 224.848 1542.27 Q226.677 1545.82 230.288 1545.82 Q233.922 1545.82 235.728 1542.27 Q237.556 1538.71 237.556 1531.6 Q237.556 1524.47 235.728 1520.93 Q233.922 1517.37 230.288 1517.37 M230.288 1513.66 Q236.098 1513.66 239.154 1518.27 Q242.232 1522.85 242.232 1531.6 Q242.232 1540.33 239.154 1544.94 Q236.098 1549.52 230.288 1549.52 Q224.478 1549.52 221.399 1544.94 Q218.344 1540.33 218.344 1531.6 Q218.344 1522.85 221.399 1518.27 Q224.478 1513.66 230.288 1513.66 Z\" fill=\"#000000\" fill-rule=\"nonzero\" fill-opacity=\"1\" /><path clip-path=\"url(#clip450)\" d=\"M719.473 1544.91 L735.793 1544.91 L735.793 1548.85 L713.848 1548.85 L713.848 1544.91 Q716.51 1542.16 721.094 1537.53 Q725.7 1532.88 726.881 1531.53 Q729.126 1529.01 730.006 1527.27 Q730.909 1525.51 730.909 1523.82 Q730.909 1521.07 728.964 1519.33 Q727.043 1517.6 723.941 1517.6 Q721.742 1517.6 719.288 1518.36 Q716.858 1519.13 714.08 1520.68 L714.08 1515.95 Q716.904 1514.82 719.358 1514.24 Q721.811 1513.66 723.848 1513.66 Q729.219 1513.66 732.413 1516.35 Q735.608 1519.03 735.608 1523.52 Q735.608 1525.65 734.797 1527.57 Q734.01 1529.47 731.904 1532.07 Q731.325 1532.74 728.223 1535.95 Q725.122 1539.15 719.473 1544.91 Z\" fill=\"#000000\" fill-rule=\"nonzero\" fill-opacity=\"1\" /><path clip-path=\"url(#clip450)\" d=\"M745.654 1514.29 L764.01 1514.29 L764.01 1518.22 L749.936 1518.22 L749.936 1526.7 Q750.955 1526.35 751.973 1526.19 Q752.992 1526 754.01 1526 Q759.797 1526 763.177 1529.17 Q766.556 1532.34 766.556 1537.76 Q766.556 1543.34 763.084 1546.44 Q759.612 1549.52 753.293 1549.52 Q751.117 1549.52 748.848 1549.15 Q746.603 1548.78 744.195 1548.04 L744.195 1543.34 Q746.279 1544.47 748.501 1545.03 Q750.723 1545.58 753.2 1545.58 Q757.205 1545.58 759.543 1543.48 Q761.881 1541.37 761.881 1537.76 Q761.881 1534.15 759.543 1532.04 Q757.205 1529.94 753.2 1529.94 Q751.325 1529.94 749.45 1530.35 Q747.598 1530.77 745.654 1531.65 L745.654 1514.29 Z\" fill=\"#000000\" fill-rule=\"nonzero\" fill-opacity=\"1\" /><path clip-path=\"url(#clip450)\" d=\"M1224.82 1514.29 L1243.17 1514.29 L1243.17 1518.22 L1229.1 1518.22 L1229.1 1526.7 Q1230.12 1526.35 1231.14 1526.19 Q1232.15 1526 1233.17 1526 Q1238.96 1526 1242.34 1529.17 Q1245.72 1532.34 1245.72 1537.76 Q1245.72 1543.34 1242.25 1546.44 Q1238.77 1549.52 1232.45 1549.52 Q1230.28 1549.52 1228.01 1549.15 Q1225.77 1548.78 1223.36 1548.04 L1223.36 1543.34 Q1225.44 1544.47 1227.66 1545.03 Q1229.89 1545.58 1232.36 1545.58 Q1236.37 1545.58 1238.7 1543.48 Q1241.04 1541.37 1241.04 1537.76 Q1241.04 1534.15 1238.7 1532.04 Q1236.37 1529.94 1232.36 1529.94 Q1230.49 1529.94 1228.61 1530.35 Q1226.76 1530.77 1224.82 1531.65 L1224.82 1514.29 Z\" fill=\"#000000\" fill-rule=\"nonzero\" fill-opacity=\"1\" /><path clip-path=\"url(#clip450)\" d=\"M1264.93 1517.37 Q1261.32 1517.37 1259.49 1520.93 Q1257.69 1524.47 1257.69 1531.6 Q1257.69 1538.71 1259.49 1542.27 Q1261.32 1545.82 1264.93 1545.82 Q1268.57 1545.82 1270.37 1542.27 Q1272.2 1538.71 1272.2 1531.6 Q1272.2 1524.47 1270.37 1520.93 Q1268.57 1517.37 1264.93 1517.37 M1264.93 1513.66 Q1270.74 1513.66 1273.8 1518.27 Q1276.88 1522.85 1276.88 1531.6 Q1276.88 1540.33 1273.8 1544.94 Q1270.74 1549.52 1264.93 1549.52 Q1259.12 1549.52 1256.04 1544.94 Q1252.99 1540.33 1252.99 1531.6 Q1252.99 1522.85 1256.04 1518.27 Q1259.12 1513.66 1264.93 1513.66 Z\" fill=\"#000000\" fill-rule=\"nonzero\" fill-opacity=\"1\" /><path clip-path=\"url(#clip450)\" d=\"M1733.89 1514.29 L1756.11 1514.29 L1756.11 1516.28 L1743.56 1548.85 L1738.68 1548.85 L1750.48 1518.22 L1733.89 1518.22 L1733.89 1514.29 Z\" fill=\"#000000\" fill-rule=\"nonzero\" fill-opacity=\"1\" /><path clip-path=\"url(#clip450)\" d=\"M1765.27 1514.29 L1783.63 1514.29 L1783.63 1518.22 L1769.56 1518.22 L1769.56 1526.7 Q1770.58 1526.35 1771.59 1526.19 Q1772.61 1526 1773.63 1526 Q1779.42 1526 1782.8 1529.17 Q1786.18 1532.34 1786.18 1537.76 Q1786.18 1543.34 1782.7 1546.44 Q1779.23 1549.52 1772.91 1549.52 Q1770.74 1549.52 1768.47 1549.15 Q1766.22 1548.78 1763.82 1548.04 L1763.82 1543.34 Q1765.9 1544.47 1768.12 1545.03 Q1770.34 1545.58 1772.82 1545.58 Q1776.83 1545.58 1779.16 1543.48 Q1781.5 1541.37 1781.5 1537.76 Q1781.5 1534.15 1779.16 1532.04 Q1776.83 1529.94 1772.82 1529.94 Q1770.95 1529.94 1769.07 1530.35 Q1767.22 1530.77 1765.27 1531.65 L1765.27 1514.29 Z\" fill=\"#000000\" fill-rule=\"nonzero\" fill-opacity=\"1\" /><path clip-path=\"url(#clip450)\" d=\"M2229.55 1544.91 L2237.19 1544.91 L2237.19 1518.55 L2228.88 1520.21 L2228.88 1515.95 L2237.15 1514.29 L2241.82 1514.29 L2241.82 1544.91 L2249.46 1544.91 L2249.46 1548.85 L2229.55 1548.85 L2229.55 1544.91 Z\" fill=\"#000000\" fill-rule=\"nonzero\" fill-opacity=\"1\" /><path clip-path=\"url(#clip450)\" d=\"M2268.9 1517.37 Q2265.29 1517.37 2263.46 1520.93 Q2261.66 1524.47 2261.66 1531.6 Q2261.66 1538.71 2263.46 1542.27 Q2265.29 1545.82 2268.9 1545.82 Q2272.54 1545.82 2274.34 1542.27 Q2276.17 1538.71 2276.17 1531.6 Q2276.17 1524.47 2274.34 1520.93 Q2272.54 1517.37 2268.9 1517.37 M2268.9 1513.66 Q2274.71 1513.66 2277.77 1518.27 Q2280.85 1522.85 2280.85 1531.6 Q2280.85 1540.33 2277.77 1544.94 Q2274.71 1549.52 2268.9 1549.52 Q2263.09 1549.52 2260.02 1544.94 Q2256.96 1540.33 2256.96 1531.6 Q2256.96 1522.85 2260.02 1518.27 Q2263.09 1513.66 2268.9 1513.66 Z\" fill=\"#000000\" fill-rule=\"nonzero\" fill-opacity=\"1\" /><path clip-path=\"url(#clip450)\" d=\"M2299.07 1517.37 Q2295.45 1517.37 2293.63 1520.93 Q2291.82 1524.47 2291.82 1531.6 Q2291.82 1538.71 2293.63 1542.27 Q2295.45 1545.82 2299.07 1545.82 Q2302.7 1545.82 2304.51 1542.27 Q2306.33 1538.71 2306.33 1531.6 Q2306.33 1524.47 2304.51 1520.93 Q2302.7 1517.37 2299.07 1517.37 M2299.07 1513.66 Q2304.88 1513.66 2307.93 1518.27 Q2311.01 1522.85 2311.01 1531.6 Q2311.01 1540.33 2307.93 1544.94 Q2304.88 1549.52 2299.07 1549.52 Q2293.26 1549.52 2290.18 1544.94 Q2287.12 1540.33 2287.12 1531.6 Q2287.12 1522.85 2290.18 1518.27 Q2293.26 1513.66 2299.07 1513.66 Z\" fill=\"#000000\" fill-rule=\"nonzero\" fill-opacity=\"1\" /><polyline clip-path=\"url(#clip452)\" style=\"stroke:#000000; stroke-linecap:round; stroke-linejoin:round; stroke-width:2; stroke-opacity:0.1; fill:none\" points=\"147.478,1458.8 2352.76,1458.8 \"/>\n",
       "<polyline clip-path=\"url(#clip452)\" style=\"stroke:#000000; stroke-linecap:round; stroke-linejoin:round; stroke-width:2; stroke-opacity:0.1; fill:none\" points=\"147.478,1150.56 2352.76,1150.56 \"/>\n",
       "<polyline clip-path=\"url(#clip452)\" style=\"stroke:#000000; stroke-linecap:round; stroke-linejoin:round; stroke-width:2; stroke-opacity:0.1; fill:none\" points=\"147.478,842.324 2352.76,842.324 \"/>\n",
       "<polyline clip-path=\"url(#clip452)\" style=\"stroke:#000000; stroke-linecap:round; stroke-linejoin:round; stroke-width:2; stroke-opacity:0.1; fill:none\" points=\"147.478,534.084 2352.76,534.084 \"/>\n",
       "<polyline clip-path=\"url(#clip452)\" style=\"stroke:#000000; stroke-linecap:round; stroke-linejoin:round; stroke-width:2; stroke-opacity:0.1; fill:none\" points=\"147.478,225.844 2352.76,225.844 \"/>\n",
       "<polyline clip-path=\"url(#clip450)\" style=\"stroke:#000000; stroke-linecap:round; stroke-linejoin:round; stroke-width:4; stroke-opacity:1; fill:none\" points=\"147.478,1486.45 147.478,47.2441 \"/>\n",
       "<polyline clip-path=\"url(#clip450)\" style=\"stroke:#000000; stroke-linecap:round; stroke-linejoin:round; stroke-width:4; stroke-opacity:1; fill:none\" points=\"147.478,1458.8 166.376,1458.8 \"/>\n",
       "<polyline clip-path=\"url(#clip450)\" style=\"stroke:#000000; stroke-linecap:round; stroke-linejoin:round; stroke-width:4; stroke-opacity:1; fill:none\" points=\"147.478,1150.56 166.376,1150.56 \"/>\n",
       "<polyline clip-path=\"url(#clip450)\" style=\"stroke:#000000; stroke-linecap:round; stroke-linejoin:round; stroke-width:4; stroke-opacity:1; fill:none\" points=\"147.478,842.324 166.376,842.324 \"/>\n",
       "<polyline clip-path=\"url(#clip450)\" style=\"stroke:#000000; stroke-linecap:round; stroke-linejoin:round; stroke-width:4; stroke-opacity:1; fill:none\" points=\"147.478,534.084 166.376,534.084 \"/>\n",
       "<polyline clip-path=\"url(#clip450)\" style=\"stroke:#000000; stroke-linecap:round; stroke-linejoin:round; stroke-width:4; stroke-opacity:1; fill:none\" points=\"147.478,225.844 166.376,225.844 \"/>\n",
       "<path clip-path=\"url(#clip450)\" d=\"M50.9921 1459.26 L80.6679 1459.26 L80.6679 1463.19 L50.9921 1463.19 L50.9921 1459.26 Z\" fill=\"#000000\" fill-rule=\"nonzero\" fill-opacity=\"1\" /><path clip-path=\"url(#clip450)\" d=\"M91.5706 1472.15 L99.2095 1472.15 L99.2095 1445.78 L90.8993 1447.45 L90.8993 1443.19 L99.1632 1441.52 L103.839 1441.52 L103.839 1472.15 L111.478 1472.15 L111.478 1476.08 L91.5706 1476.08 L91.5706 1472.15 Z\" fill=\"#000000\" fill-rule=\"nonzero\" fill-opacity=\"1\" /><path clip-path=\"url(#clip450)\" d=\"M99.5335 1136.36 Q95.9224 1136.36 94.0937 1139.93 Q92.2882 1143.47 92.2882 1150.6 Q92.2882 1157.71 94.0937 1161.27 Q95.9224 1164.81 99.5335 1164.81 Q103.168 1164.81 104.973 1161.27 Q106.802 1157.71 106.802 1150.6 Q106.802 1143.47 104.973 1139.93 Q103.168 1136.36 99.5335 1136.36 M99.5335 1132.66 Q105.344 1132.66 108.399 1137.27 Q111.478 1141.85 111.478 1150.6 Q111.478 1159.33 108.399 1163.93 Q105.344 1168.52 99.5335 1168.52 Q93.7234 1168.52 90.6447 1163.93 Q87.5892 1159.33 87.5892 1150.6 Q87.5892 1141.85 90.6447 1137.27 Q93.7234 1132.66 99.5335 1132.66 Z\" fill=\"#000000\" fill-rule=\"nonzero\" fill-opacity=\"1\" /><path clip-path=\"url(#clip450)\" d=\"M91.5706 855.669 L99.2095 855.669 L99.2095 829.304 L90.8993 830.97 L90.8993 826.711 L99.1632 825.044 L103.839 825.044 L103.839 855.669 L111.478 855.669 L111.478 859.604 L91.5706 859.604 L91.5706 855.669 Z\" fill=\"#000000\" fill-rule=\"nonzero\" fill-opacity=\"1\" /><path clip-path=\"url(#clip450)\" d=\"M95.1586 547.429 L111.478 547.429 L111.478 551.364 L89.5336 551.364 L89.5336 547.429 Q92.1956 544.674 96.7789 540.045 Q101.385 535.392 102.566 534.049 Q104.811 531.526 105.691 529.79 Q106.594 528.031 106.594 526.341 Q106.594 523.587 104.649 521.85 Q102.728 520.114 99.6261 520.114 Q97.4271 520.114 94.9734 520.878 Q92.5428 521.642 89.7651 523.193 L89.7651 518.471 Q92.5891 517.337 95.0428 516.758 Q97.4965 516.179 99.5335 516.179 Q104.904 516.179 108.098 518.864 Q111.293 521.55 111.293 526.04 Q111.293 528.17 110.483 530.091 Q109.696 531.989 107.589 534.582 Q107.01 535.253 103.909 538.471 Q100.807 541.665 95.1586 547.429 Z\" fill=\"#000000\" fill-rule=\"nonzero\" fill-opacity=\"1\" /><path clip-path=\"url(#clip450)\" d=\"M104.348 224.49 Q107.705 225.207 109.58 227.476 Q111.478 229.744 111.478 233.078 Q111.478 238.194 107.959 240.994 Q104.441 243.795 97.9595 243.795 Q95.7836 243.795 93.4688 243.356 Q91.1771 242.939 88.7234 242.082 L88.7234 237.569 Q90.6678 238.703 92.9826 239.281 Q95.2974 239.86 97.8206 239.86 Q102.219 239.86 104.51 238.124 Q106.825 236.388 106.825 233.078 Q106.825 230.022 104.672 228.309 Q102.543 226.573 98.7234 226.573 L94.6956 226.573 L94.6956 222.731 L98.9085 222.731 Q102.358 222.731 104.186 221.365 Q106.015 219.976 106.015 217.383 Q106.015 214.721 104.117 213.309 Q102.242 211.874 98.7234 211.874 Q96.8021 211.874 94.603 212.291 Q92.4039 212.708 89.7651 213.587 L89.7651 209.421 Q92.4271 208.68 94.7419 208.309 Q97.0798 207.939 99.14 207.939 Q104.464 207.939 107.566 210.37 Q110.668 212.777 110.668 216.897 Q110.668 219.768 109.024 221.758 Q107.381 223.726 104.348 224.49 Z\" fill=\"#000000\" fill-rule=\"nonzero\" fill-opacity=\"1\" /><polyline clip-path=\"url(#clip452)\" style=\"stroke:#009af9; stroke-linecap:round; stroke-linejoin:round; stroke-width:4; stroke-opacity:1; fill:none\" points=\"209.891,1445.72 220.346,1439.78 230.8,1433.83 241.255,1427.88 251.71,1421.91 262.164,1415.94 272.619,1409.95 283.073,1403.96 293.528,1397.96 303.982,1391.95 314.437,1385.94 324.891,1379.91 335.346,1373.87 345.8,1367.83 356.255,1361.77 366.709,1355.71 377.164,1349.64 387.618,1343.56 398.073,1337.47 408.527,1331.37 418.982,1325.26 429.437,1319.14 439.891,1313.02 450.346,1306.88 460.8,1300.74 471.255,1294.59 481.709,1288.43 492.164,1282.26 502.618,1276.08 513.073,1269.89 523.527,1263.69 533.982,1257.49 544.436,1251.27 554.891,1245.05 565.345,1238.81 575.8,1232.57 586.254,1226.32 596.709,1220.06 607.163,1213.79 617.618,1207.52 628.073,1201.23 638.527,1194.93 648.982,1188.63 659.436,1182.32 669.891,1175.99 680.345,1169.66 690.8,1163.32 701.254,1156.97 711.709,1150.62 722.163,1144.25 732.618,1137.87 743.072,1131.49 753.527,1125.1 763.981,1118.69 774.436,1112.28 784.89,1105.86 795.345,1099.43 805.799,1092.99 816.254,1086.55 826.709,1080.09 837.163,1073.62 847.618,1067.15 858.072,1060.67 868.527,1054.17 878.981,1047.67 889.436,1041.16 899.89,1034.64 910.345,1028.12 920.799,1021.58 931.254,1015.03 941.708,1008.48 952.163,1001.92 962.617,995.343 973.072,988.762 983.526,982.172 993.981,975.572 1004.44,968.964 1014.89,962.347 1025.34,955.721 1035.8,949.086 1046.25,942.442 1056.71,935.789 1067.16,929.127 1077.62,922.456 1088.07,915.776 1098.53,909.087 1108.98,902.39 1119.44,895.683 1129.89,888.967 1140.34,882.243 1150.8,875.51 1161.25,868.767 1171.71,862.016 1182.16,855.256 1192.62,848.487 1203.07,841.708 1213.53,834.921 1223.98,828.125 1234.44,821.32 1244.89,814.507 1255.34,807.684 1265.8,800.852 1276.25,794.011 1286.71,787.162 1297.16,780.303 1307.62,773.436 1318.07,766.559 1328.53,759.674 1338.98,752.779 1349.43,745.876 1359.89,738.964 1370.34,732.043 1380.8,725.113 1391.25,718.174 1401.71,711.226 1412.16,704.269 1422.62,697.303 1433.07,690.328 1443.53,683.345 1453.98,676.352 1464.43,669.35 1474.89,662.34 1485.34,655.32 1495.8,648.292 1506.25,641.255 1516.71,634.208 1527.16,627.153 1537.62,620.089 1548.07,613.016 1558.53,605.934 1568.98,598.843 1579.43,591.743 1589.89,584.634 1600.34,577.516 1610.8,570.389 1621.25,563.254 1631.71,556.109 1642.16,548.955 1652.62,541.793 1663.07,534.622 1673.53,527.441 1683.98,520.252 1694.43,513.054 1704.89,505.846 1715.34,498.63 1725.8,491.405 1736.25,484.171 1746.71,476.928 1757.16,469.676 1767.62,462.415 1778.07,455.146 1788.53,447.867 1798.98,440.579 1809.43,433.283 1819.89,425.977 1830.34,418.663 1840.8,411.339 1851.25,404.007 1861.71,396.666 1872.16,389.315 1882.62,381.956 1893.07,374.588 1903.52,367.211 1913.98,359.825 1924.43,352.43 1934.89,345.026 1945.34,337.614 1955.8,330.192 1966.25,322.761 1976.71,315.322 1987.16,307.873 1997.62,300.415 2008.07,292.949 2018.52,285.474 2028.98,277.989 2039.43,270.496 2049.89,262.994 2060.34,255.483 2070.8,247.963 2081.25,240.434 2091.71,232.896 2102.16,225.349 2112.62,217.793 2123.07,210.228 2133.52,202.655 2143.98,195.072 2154.43,187.48 2164.89,179.88 2175.34,172.27 2185.8,164.652 2196.25,157.025 2206.71,149.388 2217.16,141.743 2227.62,134.089 2238.07,126.426 2248.52,118.754 2258.98,111.073 2269.43,103.383 2279.89,95.6841 2290.34,87.9763 \"/>\n",
       "<circle clip-path=\"url(#clip452)\" cx=\"230.288\" cy=\"1412.57\" r=\"14.4\" fill=\"#e26f46\" fill-rule=\"evenodd\" fill-opacity=\"1\" stroke=\"#000000\" stroke-opacity=\"1\" stroke-width=\"3.2\"/>\n",
       "<circle clip-path=\"url(#clip452)\" cx=\"332.271\" cy=\"1378.66\" r=\"14.4\" fill=\"#e26f46\" fill-rule=\"evenodd\" fill-opacity=\"1\" stroke=\"#000000\" stroke-opacity=\"1\" stroke-width=\"3.2\"/>\n",
       "<circle clip-path=\"url(#clip452)\" cx=\"434.254\" cy=\"1317.01\" r=\"14.4\" fill=\"#e26f46\" fill-rule=\"evenodd\" fill-opacity=\"1\" stroke=\"#000000\" stroke-opacity=\"1\" stroke-width=\"3.2\"/>\n",
       "<circle clip-path=\"url(#clip452)\" cx=\"536.237\" cy=\"1258.45\" r=\"14.4\" fill=\"#e26f46\" fill-rule=\"evenodd\" fill-opacity=\"1\" stroke=\"#000000\" stroke-opacity=\"1\" stroke-width=\"3.2\"/>\n",
       "<circle clip-path=\"url(#clip452)\" cx=\"638.22\" cy=\"1212.21\" r=\"14.4\" fill=\"#e26f46\" fill-rule=\"evenodd\" fill-opacity=\"1\" stroke=\"#000000\" stroke-opacity=\"1\" stroke-width=\"3.2\"/>\n",
       "<circle clip-path=\"url(#clip452)\" cx=\"740.202\" cy=\"1156.73\" r=\"14.4\" fill=\"#e26f46\" fill-rule=\"evenodd\" fill-opacity=\"1\" stroke=\"#000000\" stroke-opacity=\"1\" stroke-width=\"3.2\"/>\n",
       "<circle clip-path=\"url(#clip452)\" cx=\"842.185\" cy=\"1070.42\" r=\"14.4\" fill=\"#e26f46\" fill-rule=\"evenodd\" fill-opacity=\"1\" stroke=\"#000000\" stroke-opacity=\"1\" stroke-width=\"3.2\"/>\n",
       "<circle clip-path=\"url(#clip452)\" cx=\"944.168\" cy=\"1024.19\" r=\"14.4\" fill=\"#e26f46\" fill-rule=\"evenodd\" fill-opacity=\"1\" stroke=\"#000000\" stroke-opacity=\"1\" stroke-width=\"3.2\"/>\n",
       "<circle clip-path=\"url(#clip452)\" cx=\"1046.15\" cy=\"925.549\" r=\"14.4\" fill=\"#e26f46\" fill-rule=\"evenodd\" fill-opacity=\"1\" stroke=\"#000000\" stroke-opacity=\"1\" stroke-width=\"3.2\"/>\n",
       "<circle clip-path=\"url(#clip452)\" cx=\"1148.13\" cy=\"879.313\" r=\"14.4\" fill=\"#e26f46\" fill-rule=\"evenodd\" fill-opacity=\"1\" stroke=\"#000000\" stroke-opacity=\"1\" stroke-width=\"3.2\"/>\n",
       "<circle clip-path=\"url(#clip452)\" cx=\"1250.12\" cy=\"762.182\" r=\"14.4\" fill=\"#e26f46\" fill-rule=\"evenodd\" fill-opacity=\"1\" stroke=\"#000000\" stroke-opacity=\"1\" stroke-width=\"3.2\"/>\n",
       "<circle clip-path=\"url(#clip452)\" cx=\"1352.1\" cy=\"749.852\" r=\"14.4\" fill=\"#e26f46\" fill-rule=\"evenodd\" fill-opacity=\"1\" stroke=\"#000000\" stroke-opacity=\"1\" stroke-width=\"3.2\"/>\n",
       "<circle clip-path=\"url(#clip452)\" cx=\"1454.08\" cy=\"675.875\" r=\"14.4\" fill=\"#e26f46\" fill-rule=\"evenodd\" fill-opacity=\"1\" stroke=\"#000000\" stroke-opacity=\"1\" stroke-width=\"3.2\"/>\n",
       "<circle clip-path=\"url(#clip452)\" cx=\"1556.07\" cy=\"604.979\" r=\"14.4\" fill=\"#e26f46\" fill-rule=\"evenodd\" fill-opacity=\"1\" stroke=\"#000000\" stroke-opacity=\"1\" stroke-width=\"3.2\"/>\n",
       "<circle clip-path=\"url(#clip452)\" cx=\"1658.05\" cy=\"552.579\" r=\"14.4\" fill=\"#e26f46\" fill-rule=\"evenodd\" fill-opacity=\"1\" stroke=\"#000000\" stroke-opacity=\"1\" stroke-width=\"3.2\"/>\n",
       "<circle clip-path=\"url(#clip452)\" cx=\"1760.03\" cy=\"487.848\" r=\"14.4\" fill=\"#e26f46\" fill-rule=\"evenodd\" fill-opacity=\"1\" stroke=\"#000000\" stroke-opacity=\"1\" stroke-width=\"3.2\"/>\n",
       "<circle clip-path=\"url(#clip452)\" cx=\"1862.01\" cy=\"392.294\" r=\"14.4\" fill=\"#e26f46\" fill-rule=\"evenodd\" fill-opacity=\"1\" stroke=\"#000000\" stroke-opacity=\"1\" stroke-width=\"3.2\"/>\n",
       "<circle clip-path=\"url(#clip452)\" cx=\"1964\" cy=\"324.481\" r=\"14.4\" fill=\"#e26f46\" fill-rule=\"evenodd\" fill-opacity=\"1\" stroke=\"#000000\" stroke-opacity=\"1\" stroke-width=\"3.2\"/>\n",
       "<circle clip-path=\"url(#clip452)\" cx=\"2065.98\" cy=\"228.926\" r=\"14.4\" fill=\"#e26f46\" fill-rule=\"evenodd\" fill-opacity=\"1\" stroke=\"#000000\" stroke-opacity=\"1\" stroke-width=\"3.2\"/>\n",
       "<circle clip-path=\"url(#clip452)\" cx=\"2167.96\" cy=\"164.196\" r=\"14.4\" fill=\"#e26f46\" fill-rule=\"evenodd\" fill-opacity=\"1\" stroke=\"#000000\" stroke-opacity=\"1\" stroke-width=\"3.2\"/>\n",
       "<circle clip-path=\"url(#clip452)\" cx=\"2269.95\" cy=\"127.207\" r=\"14.4\" fill=\"#e26f46\" fill-rule=\"evenodd\" fill-opacity=\"1\" stroke=\"#000000\" stroke-opacity=\"1\" stroke-width=\"3.2\"/>\n",
       "<path clip-path=\"url(#clip450)\" d=\"M220.987 250.738 L493.945 250.738 L493.945 95.2176 L220.987 95.2176  Z\" fill=\"#ffffff\" fill-rule=\"evenodd\" fill-opacity=\"1\"/>\n",
       "<polyline clip-path=\"url(#clip450)\" style=\"stroke:#000000; stroke-linecap:round; stroke-linejoin:round; stroke-width:4; stroke-opacity:1; fill:none\" points=\"220.987,250.738 493.945,250.738 493.945,95.2176 220.987,95.2176 220.987,250.738 \"/>\n",
       "<polyline clip-path=\"url(#clip450)\" style=\"stroke:#009af9; stroke-linecap:round; stroke-linejoin:round; stroke-width:4; stroke-opacity:1; fill:none\" points=\"245.49,147.058 392.509,147.058 \"/>\n",
       "<path clip-path=\"url(#clip450)\" d=\"M430.854 166.745 Q429.049 171.375 427.336 172.787 Q425.623 174.199 422.753 174.199 L419.35 174.199 L419.35 170.634 L421.85 170.634 Q423.609 170.634 424.581 169.8 Q425.554 168.967 426.734 165.865 L427.498 163.921 L417.012 138.412 L421.526 138.412 L429.628 158.689 L437.729 138.412 L442.243 138.412 L430.854 166.745 Z\" fill=\"#000000\" fill-rule=\"nonzero\" fill-opacity=\"1\" /><path clip-path=\"url(#clip450)\" d=\"M449.535 160.402 L457.174 160.402 L457.174 134.037 L448.864 135.703 L448.864 131.444 L457.127 129.778 L461.803 129.778 L461.803 160.402 L469.442 160.402 L469.442 164.338 L449.535 164.338 L449.535 160.402 Z\" fill=\"#000000\" fill-rule=\"nonzero\" fill-opacity=\"1\" /><circle clip-path=\"url(#clip450)\" cx=\"319\" cy=\"198.898\" r=\"20.48\" fill=\"#e26f46\" fill-rule=\"evenodd\" fill-opacity=\"1\" stroke=\"#000000\" stroke-opacity=\"1\" stroke-width=\"4.55111\"/>\n",
       "<path clip-path=\"url(#clip450)\" d=\"M430.854 218.585 Q429.049 223.215 427.336 224.627 Q425.623 226.039 422.753 226.039 L419.35 226.039 L419.35 222.474 L421.85 222.474 Q423.609 222.474 424.581 221.64 Q425.554 220.807 426.734 217.705 L427.498 215.761 L417.012 190.252 L421.526 190.252 L429.628 210.529 L437.729 190.252 L442.243 190.252 L430.854 218.585 Z\" fill=\"#000000\" fill-rule=\"nonzero\" fill-opacity=\"1\" /><path clip-path=\"url(#clip450)\" d=\"M452.752 212.242 L469.072 212.242 L469.072 216.178 L447.127 216.178 L447.127 212.242 Q449.789 209.488 454.373 204.858 Q458.979 200.205 460.16 198.863 Q462.405 196.34 463.285 194.604 Q464.188 192.844 464.188 191.155 Q464.188 188.4 462.243 186.664 Q460.322 184.928 457.22 184.928 Q455.021 184.928 452.567 185.692 Q450.137 186.455 447.359 188.006 L447.359 183.284 Q450.183 182.15 452.637 181.571 Q455.09 180.993 457.127 180.993 Q462.498 180.993 465.692 183.678 Q468.887 186.363 468.887 190.854 Q468.887 192.983 468.076 194.905 Q467.289 196.803 465.183 199.395 Q464.604 200.067 461.502 203.284 Q458.401 206.479 452.752 212.242 Z\" fill=\"#000000\" fill-rule=\"nonzero\" fill-opacity=\"1\" /></svg>\n"
      ],
      "text/html": [
       "<?xml version=\"1.0\" encoding=\"utf-8\"?>\n",
       "<svg xmlns=\"http://www.w3.org/2000/svg\" xmlns:xlink=\"http://www.w3.org/1999/xlink\" width=\"600\" height=\"400\" viewBox=\"0 0 2400 1600\">\n",
       "<defs>\n",
       "  <clipPath id=\"clip500\">\n",
       "    <rect x=\"0\" y=\"0\" width=\"2400\" height=\"1600\"/>\n",
       "  </clipPath>\n",
       "</defs>\n",
       "<path clip-path=\"url(#clip500)\" d=\"M0 1600 L2400 1600 L2400 0 L0 0  Z\" fill=\"#ffffff\" fill-rule=\"evenodd\" fill-opacity=\"1\"/>\n",
       "<defs>\n",
       "  <clipPath id=\"clip501\">\n",
       "    <rect x=\"480\" y=\"0\" width=\"1681\" height=\"1600\"/>\n",
       "  </clipPath>\n",
       "</defs>\n",
       "<path clip-path=\"url(#clip500)\" d=\"M147.478 1486.45 L2352.76 1486.45 L2352.76 47.2441 L147.478 47.2441  Z\" fill=\"#ffffff\" fill-rule=\"evenodd\" fill-opacity=\"1\"/>\n",
       "<defs>\n",
       "  <clipPath id=\"clip502\">\n",
       "    <rect x=\"147\" y=\"47\" width=\"2206\" height=\"1440\"/>\n",
       "  </clipPath>\n",
       "</defs>\n",
       "<polyline clip-path=\"url(#clip502)\" style=\"stroke:#000000; stroke-linecap:round; stroke-linejoin:round; stroke-width:2; stroke-opacity:0.1; fill:none\" points=\"230.288,1486.45 230.288,47.2441 \"/>\n",
       "<polyline clip-path=\"url(#clip502)\" style=\"stroke:#000000; stroke-linecap:round; stroke-linejoin:round; stroke-width:2; stroke-opacity:0.1; fill:none\" points=\"740.202,1486.45 740.202,47.2441 \"/>\n",
       "<polyline clip-path=\"url(#clip502)\" style=\"stroke:#000000; stroke-linecap:round; stroke-linejoin:round; stroke-width:2; stroke-opacity:0.1; fill:none\" points=\"1250.12,1486.45 1250.12,47.2441 \"/>\n",
       "<polyline clip-path=\"url(#clip502)\" style=\"stroke:#000000; stroke-linecap:round; stroke-linejoin:round; stroke-width:2; stroke-opacity:0.1; fill:none\" points=\"1760.03,1486.45 1760.03,47.2441 \"/>\n",
       "<polyline clip-path=\"url(#clip502)\" style=\"stroke:#000000; stroke-linecap:round; stroke-linejoin:round; stroke-width:2; stroke-opacity:0.1; fill:none\" points=\"2269.95,1486.45 2269.95,47.2441 \"/>\n",
       "<polyline clip-path=\"url(#clip500)\" style=\"stroke:#000000; stroke-linecap:round; stroke-linejoin:round; stroke-width:4; stroke-opacity:1; fill:none\" points=\"147.478,1486.45 2352.76,1486.45 \"/>\n",
       "<polyline clip-path=\"url(#clip500)\" style=\"stroke:#000000; stroke-linecap:round; stroke-linejoin:round; stroke-width:4; stroke-opacity:1; fill:none\" points=\"230.288,1486.45 230.288,1467.55 \"/>\n",
       "<polyline clip-path=\"url(#clip500)\" style=\"stroke:#000000; stroke-linecap:round; stroke-linejoin:round; stroke-width:4; stroke-opacity:1; fill:none\" points=\"740.202,1486.45 740.202,1467.55 \"/>\n",
       "<polyline clip-path=\"url(#clip500)\" style=\"stroke:#000000; stroke-linecap:round; stroke-linejoin:round; stroke-width:4; stroke-opacity:1; fill:none\" points=\"1250.12,1486.45 1250.12,1467.55 \"/>\n",
       "<polyline clip-path=\"url(#clip500)\" style=\"stroke:#000000; stroke-linecap:round; stroke-linejoin:round; stroke-width:4; stroke-opacity:1; fill:none\" points=\"1760.03,1486.45 1760.03,1467.55 \"/>\n",
       "<polyline clip-path=\"url(#clip500)\" style=\"stroke:#000000; stroke-linecap:round; stroke-linejoin:round; stroke-width:4; stroke-opacity:1; fill:none\" points=\"2269.95,1486.45 2269.95,1467.55 \"/>\n",
       "<path clip-path=\"url(#clip500)\" d=\"M230.288 1517.37 Q226.677 1517.37 224.848 1520.93 Q223.043 1524.47 223.043 1531.6 Q223.043 1538.71 224.848 1542.27 Q226.677 1545.82 230.288 1545.82 Q233.922 1545.82 235.728 1542.27 Q237.556 1538.71 237.556 1531.6 Q237.556 1524.47 235.728 1520.93 Q233.922 1517.37 230.288 1517.37 M230.288 1513.66 Q236.098 1513.66 239.154 1518.27 Q242.232 1522.85 242.232 1531.6 Q242.232 1540.33 239.154 1544.94 Q236.098 1549.52 230.288 1549.52 Q224.478 1549.52 221.399 1544.94 Q218.344 1540.33 218.344 1531.6 Q218.344 1522.85 221.399 1518.27 Q224.478 1513.66 230.288 1513.66 Z\" fill=\"#000000\" fill-rule=\"nonzero\" fill-opacity=\"1\" /><path clip-path=\"url(#clip500)\" d=\"M719.473 1544.91 L735.793 1544.91 L735.793 1548.85 L713.848 1548.85 L713.848 1544.91 Q716.51 1542.16 721.094 1537.53 Q725.7 1532.88 726.881 1531.53 Q729.126 1529.01 730.006 1527.27 Q730.909 1525.51 730.909 1523.82 Q730.909 1521.07 728.964 1519.33 Q727.043 1517.6 723.941 1517.6 Q721.742 1517.6 719.288 1518.36 Q716.858 1519.13 714.08 1520.68 L714.08 1515.95 Q716.904 1514.82 719.358 1514.24 Q721.811 1513.66 723.848 1513.66 Q729.219 1513.66 732.413 1516.35 Q735.608 1519.03 735.608 1523.52 Q735.608 1525.65 734.797 1527.57 Q734.01 1529.47 731.904 1532.07 Q731.325 1532.74 728.223 1535.95 Q725.122 1539.15 719.473 1544.91 Z\" fill=\"#000000\" fill-rule=\"nonzero\" fill-opacity=\"1\" /><path clip-path=\"url(#clip500)\" d=\"M745.654 1514.29 L764.01 1514.29 L764.01 1518.22 L749.936 1518.22 L749.936 1526.7 Q750.955 1526.35 751.973 1526.19 Q752.992 1526 754.01 1526 Q759.797 1526 763.177 1529.17 Q766.556 1532.34 766.556 1537.76 Q766.556 1543.34 763.084 1546.44 Q759.612 1549.52 753.293 1549.52 Q751.117 1549.52 748.848 1549.15 Q746.603 1548.78 744.195 1548.04 L744.195 1543.34 Q746.279 1544.47 748.501 1545.03 Q750.723 1545.58 753.2 1545.58 Q757.205 1545.58 759.543 1543.48 Q761.881 1541.37 761.881 1537.76 Q761.881 1534.15 759.543 1532.04 Q757.205 1529.94 753.2 1529.94 Q751.325 1529.94 749.45 1530.35 Q747.598 1530.77 745.654 1531.65 L745.654 1514.29 Z\" fill=\"#000000\" fill-rule=\"nonzero\" fill-opacity=\"1\" /><path clip-path=\"url(#clip500)\" d=\"M1224.82 1514.29 L1243.17 1514.29 L1243.17 1518.22 L1229.1 1518.22 L1229.1 1526.7 Q1230.12 1526.35 1231.14 1526.19 Q1232.15 1526 1233.17 1526 Q1238.96 1526 1242.34 1529.17 Q1245.72 1532.34 1245.72 1537.76 Q1245.72 1543.34 1242.25 1546.44 Q1238.77 1549.52 1232.45 1549.52 Q1230.28 1549.52 1228.01 1549.15 Q1225.77 1548.78 1223.36 1548.04 L1223.36 1543.34 Q1225.44 1544.47 1227.66 1545.03 Q1229.89 1545.58 1232.36 1545.58 Q1236.37 1545.58 1238.7 1543.48 Q1241.04 1541.37 1241.04 1537.76 Q1241.04 1534.15 1238.7 1532.04 Q1236.37 1529.94 1232.36 1529.94 Q1230.49 1529.94 1228.61 1530.35 Q1226.76 1530.77 1224.82 1531.65 L1224.82 1514.29 Z\" fill=\"#000000\" fill-rule=\"nonzero\" fill-opacity=\"1\" /><path clip-path=\"url(#clip500)\" d=\"M1264.93 1517.37 Q1261.32 1517.37 1259.49 1520.93 Q1257.69 1524.47 1257.69 1531.6 Q1257.69 1538.71 1259.49 1542.27 Q1261.32 1545.82 1264.93 1545.82 Q1268.57 1545.82 1270.37 1542.27 Q1272.2 1538.71 1272.2 1531.6 Q1272.2 1524.47 1270.37 1520.93 Q1268.57 1517.37 1264.93 1517.37 M1264.93 1513.66 Q1270.74 1513.66 1273.8 1518.27 Q1276.88 1522.85 1276.88 1531.6 Q1276.88 1540.33 1273.8 1544.94 Q1270.74 1549.52 1264.93 1549.52 Q1259.12 1549.52 1256.04 1544.94 Q1252.99 1540.33 1252.99 1531.6 Q1252.99 1522.85 1256.04 1518.27 Q1259.12 1513.66 1264.93 1513.66 Z\" fill=\"#000000\" fill-rule=\"nonzero\" fill-opacity=\"1\" /><path clip-path=\"url(#clip500)\" d=\"M1733.89 1514.29 L1756.11 1514.29 L1756.11 1516.28 L1743.56 1548.85 L1738.68 1548.85 L1750.48 1518.22 L1733.89 1518.22 L1733.89 1514.29 Z\" fill=\"#000000\" fill-rule=\"nonzero\" fill-opacity=\"1\" /><path clip-path=\"url(#clip500)\" d=\"M1765.27 1514.29 L1783.63 1514.29 L1783.63 1518.22 L1769.56 1518.22 L1769.56 1526.7 Q1770.58 1526.35 1771.59 1526.19 Q1772.61 1526 1773.63 1526 Q1779.42 1526 1782.8 1529.17 Q1786.18 1532.34 1786.18 1537.76 Q1786.18 1543.34 1782.7 1546.44 Q1779.23 1549.52 1772.91 1549.52 Q1770.74 1549.52 1768.47 1549.15 Q1766.22 1548.78 1763.82 1548.04 L1763.82 1543.34 Q1765.9 1544.47 1768.12 1545.03 Q1770.34 1545.58 1772.82 1545.58 Q1776.83 1545.58 1779.16 1543.48 Q1781.5 1541.37 1781.5 1537.76 Q1781.5 1534.15 1779.16 1532.04 Q1776.83 1529.94 1772.82 1529.94 Q1770.95 1529.94 1769.07 1530.35 Q1767.22 1530.77 1765.27 1531.65 L1765.27 1514.29 Z\" fill=\"#000000\" fill-rule=\"nonzero\" fill-opacity=\"1\" /><path clip-path=\"url(#clip500)\" d=\"M2229.55 1544.91 L2237.19 1544.91 L2237.19 1518.55 L2228.88 1520.21 L2228.88 1515.95 L2237.15 1514.29 L2241.82 1514.29 L2241.82 1544.91 L2249.46 1544.91 L2249.46 1548.85 L2229.55 1548.85 L2229.55 1544.91 Z\" fill=\"#000000\" fill-rule=\"nonzero\" fill-opacity=\"1\" /><path clip-path=\"url(#clip500)\" d=\"M2268.9 1517.37 Q2265.29 1517.37 2263.46 1520.93 Q2261.66 1524.47 2261.66 1531.6 Q2261.66 1538.71 2263.46 1542.27 Q2265.29 1545.82 2268.9 1545.82 Q2272.54 1545.82 2274.34 1542.27 Q2276.17 1538.71 2276.17 1531.6 Q2276.17 1524.47 2274.34 1520.93 Q2272.54 1517.37 2268.9 1517.37 M2268.9 1513.66 Q2274.71 1513.66 2277.77 1518.27 Q2280.85 1522.85 2280.85 1531.6 Q2280.85 1540.33 2277.77 1544.94 Q2274.71 1549.52 2268.9 1549.52 Q2263.09 1549.52 2260.02 1544.94 Q2256.96 1540.33 2256.96 1531.6 Q2256.96 1522.85 2260.02 1518.27 Q2263.09 1513.66 2268.9 1513.66 Z\" fill=\"#000000\" fill-rule=\"nonzero\" fill-opacity=\"1\" /><path clip-path=\"url(#clip500)\" d=\"M2299.07 1517.37 Q2295.45 1517.37 2293.63 1520.93 Q2291.82 1524.47 2291.82 1531.6 Q2291.82 1538.71 2293.63 1542.27 Q2295.45 1545.82 2299.07 1545.82 Q2302.7 1545.82 2304.51 1542.27 Q2306.33 1538.71 2306.33 1531.6 Q2306.33 1524.47 2304.51 1520.93 Q2302.7 1517.37 2299.07 1517.37 M2299.07 1513.66 Q2304.88 1513.66 2307.93 1518.27 Q2311.01 1522.85 2311.01 1531.6 Q2311.01 1540.33 2307.93 1544.94 Q2304.88 1549.52 2299.07 1549.52 Q2293.26 1549.52 2290.18 1544.94 Q2287.12 1540.33 2287.12 1531.6 Q2287.12 1522.85 2290.18 1518.27 Q2293.26 1513.66 2299.07 1513.66 Z\" fill=\"#000000\" fill-rule=\"nonzero\" fill-opacity=\"1\" /><polyline clip-path=\"url(#clip502)\" style=\"stroke:#000000; stroke-linecap:round; stroke-linejoin:round; stroke-width:2; stroke-opacity:0.1; fill:none\" points=\"147.478,1458.8 2352.76,1458.8 \"/>\n",
       "<polyline clip-path=\"url(#clip502)\" style=\"stroke:#000000; stroke-linecap:round; stroke-linejoin:round; stroke-width:2; stroke-opacity:0.1; fill:none\" points=\"147.478,1150.56 2352.76,1150.56 \"/>\n",
       "<polyline clip-path=\"url(#clip502)\" style=\"stroke:#000000; stroke-linecap:round; stroke-linejoin:round; stroke-width:2; stroke-opacity:0.1; fill:none\" points=\"147.478,842.324 2352.76,842.324 \"/>\n",
       "<polyline clip-path=\"url(#clip502)\" style=\"stroke:#000000; stroke-linecap:round; stroke-linejoin:round; stroke-width:2; stroke-opacity:0.1; fill:none\" points=\"147.478,534.084 2352.76,534.084 \"/>\n",
       "<polyline clip-path=\"url(#clip502)\" style=\"stroke:#000000; stroke-linecap:round; stroke-linejoin:round; stroke-width:2; stroke-opacity:0.1; fill:none\" points=\"147.478,225.844 2352.76,225.844 \"/>\n",
       "<polyline clip-path=\"url(#clip500)\" style=\"stroke:#000000; stroke-linecap:round; stroke-linejoin:round; stroke-width:4; stroke-opacity:1; fill:none\" points=\"147.478,1486.45 147.478,47.2441 \"/>\n",
       "<polyline clip-path=\"url(#clip500)\" style=\"stroke:#000000; stroke-linecap:round; stroke-linejoin:round; stroke-width:4; stroke-opacity:1; fill:none\" points=\"147.478,1458.8 166.376,1458.8 \"/>\n",
       "<polyline clip-path=\"url(#clip500)\" style=\"stroke:#000000; stroke-linecap:round; stroke-linejoin:round; stroke-width:4; stroke-opacity:1; fill:none\" points=\"147.478,1150.56 166.376,1150.56 \"/>\n",
       "<polyline clip-path=\"url(#clip500)\" style=\"stroke:#000000; stroke-linecap:round; stroke-linejoin:round; stroke-width:4; stroke-opacity:1; fill:none\" points=\"147.478,842.324 166.376,842.324 \"/>\n",
       "<polyline clip-path=\"url(#clip500)\" style=\"stroke:#000000; stroke-linecap:round; stroke-linejoin:round; stroke-width:4; stroke-opacity:1; fill:none\" points=\"147.478,534.084 166.376,534.084 \"/>\n",
       "<polyline clip-path=\"url(#clip500)\" style=\"stroke:#000000; stroke-linecap:round; stroke-linejoin:round; stroke-width:4; stroke-opacity:1; fill:none\" points=\"147.478,225.844 166.376,225.844 \"/>\n",
       "<path clip-path=\"url(#clip500)\" d=\"M50.9921 1459.26 L80.6679 1459.26 L80.6679 1463.19 L50.9921 1463.19 L50.9921 1459.26 Z\" fill=\"#000000\" fill-rule=\"nonzero\" fill-opacity=\"1\" /><path clip-path=\"url(#clip500)\" d=\"M91.5706 1472.15 L99.2095 1472.15 L99.2095 1445.78 L90.8993 1447.45 L90.8993 1443.19 L99.1632 1441.52 L103.839 1441.52 L103.839 1472.15 L111.478 1472.15 L111.478 1476.08 L91.5706 1476.08 L91.5706 1472.15 Z\" fill=\"#000000\" fill-rule=\"nonzero\" fill-opacity=\"1\" /><path clip-path=\"url(#clip500)\" d=\"M99.5335 1136.36 Q95.9224 1136.36 94.0937 1139.93 Q92.2882 1143.47 92.2882 1150.6 Q92.2882 1157.71 94.0937 1161.27 Q95.9224 1164.81 99.5335 1164.81 Q103.168 1164.81 104.973 1161.27 Q106.802 1157.71 106.802 1150.6 Q106.802 1143.47 104.973 1139.93 Q103.168 1136.36 99.5335 1136.36 M99.5335 1132.66 Q105.344 1132.66 108.399 1137.27 Q111.478 1141.85 111.478 1150.6 Q111.478 1159.33 108.399 1163.93 Q105.344 1168.52 99.5335 1168.52 Q93.7234 1168.52 90.6447 1163.93 Q87.5892 1159.33 87.5892 1150.6 Q87.5892 1141.85 90.6447 1137.27 Q93.7234 1132.66 99.5335 1132.66 Z\" fill=\"#000000\" fill-rule=\"nonzero\" fill-opacity=\"1\" /><path clip-path=\"url(#clip500)\" d=\"M91.5706 855.669 L99.2095 855.669 L99.2095 829.304 L90.8993 830.97 L90.8993 826.711 L99.1632 825.044 L103.839 825.044 L103.839 855.669 L111.478 855.669 L111.478 859.604 L91.5706 859.604 L91.5706 855.669 Z\" fill=\"#000000\" fill-rule=\"nonzero\" fill-opacity=\"1\" /><path clip-path=\"url(#clip500)\" d=\"M95.1586 547.429 L111.478 547.429 L111.478 551.364 L89.5336 551.364 L89.5336 547.429 Q92.1956 544.674 96.7789 540.045 Q101.385 535.392 102.566 534.049 Q104.811 531.526 105.691 529.79 Q106.594 528.031 106.594 526.341 Q106.594 523.587 104.649 521.85 Q102.728 520.114 99.6261 520.114 Q97.4271 520.114 94.9734 520.878 Q92.5428 521.642 89.7651 523.193 L89.7651 518.471 Q92.5891 517.337 95.0428 516.758 Q97.4965 516.179 99.5335 516.179 Q104.904 516.179 108.098 518.864 Q111.293 521.55 111.293 526.04 Q111.293 528.17 110.483 530.091 Q109.696 531.989 107.589 534.582 Q107.01 535.253 103.909 538.471 Q100.807 541.665 95.1586 547.429 Z\" fill=\"#000000\" fill-rule=\"nonzero\" fill-opacity=\"1\" /><path clip-path=\"url(#clip500)\" d=\"M104.348 224.49 Q107.705 225.207 109.58 227.476 Q111.478 229.744 111.478 233.078 Q111.478 238.194 107.959 240.994 Q104.441 243.795 97.9595 243.795 Q95.7836 243.795 93.4688 243.356 Q91.1771 242.939 88.7234 242.082 L88.7234 237.569 Q90.6678 238.703 92.9826 239.281 Q95.2974 239.86 97.8206 239.86 Q102.219 239.86 104.51 238.124 Q106.825 236.388 106.825 233.078 Q106.825 230.022 104.672 228.309 Q102.543 226.573 98.7234 226.573 L94.6956 226.573 L94.6956 222.731 L98.9085 222.731 Q102.358 222.731 104.186 221.365 Q106.015 219.976 106.015 217.383 Q106.015 214.721 104.117 213.309 Q102.242 211.874 98.7234 211.874 Q96.8021 211.874 94.603 212.291 Q92.4039 212.708 89.7651 213.587 L89.7651 209.421 Q92.4271 208.68 94.7419 208.309 Q97.0798 207.939 99.14 207.939 Q104.464 207.939 107.566 210.37 Q110.668 212.777 110.668 216.897 Q110.668 219.768 109.024 221.758 Q107.381 223.726 104.348 224.49 Z\" fill=\"#000000\" fill-rule=\"nonzero\" fill-opacity=\"1\" /><polyline clip-path=\"url(#clip502)\" style=\"stroke:#009af9; stroke-linecap:round; stroke-linejoin:round; stroke-width:4; stroke-opacity:1; fill:none\" points=\"209.891,1445.72 220.346,1439.78 230.8,1433.83 241.255,1427.88 251.71,1421.91 262.164,1415.94 272.619,1409.95 283.073,1403.96 293.528,1397.96 303.982,1391.95 314.437,1385.94 324.891,1379.91 335.346,1373.87 345.8,1367.83 356.255,1361.77 366.709,1355.71 377.164,1349.64 387.618,1343.56 398.073,1337.47 408.527,1331.37 418.982,1325.26 429.437,1319.14 439.891,1313.02 450.346,1306.88 460.8,1300.74 471.255,1294.59 481.709,1288.43 492.164,1282.26 502.618,1276.08 513.073,1269.89 523.527,1263.69 533.982,1257.49 544.436,1251.27 554.891,1245.05 565.345,1238.81 575.8,1232.57 586.254,1226.32 596.709,1220.06 607.163,1213.79 617.618,1207.52 628.073,1201.23 638.527,1194.93 648.982,1188.63 659.436,1182.32 669.891,1175.99 680.345,1169.66 690.8,1163.32 701.254,1156.97 711.709,1150.62 722.163,1144.25 732.618,1137.87 743.072,1131.49 753.527,1125.1 763.981,1118.69 774.436,1112.28 784.89,1105.86 795.345,1099.43 805.799,1092.99 816.254,1086.55 826.709,1080.09 837.163,1073.62 847.618,1067.15 858.072,1060.67 868.527,1054.17 878.981,1047.67 889.436,1041.16 899.89,1034.64 910.345,1028.12 920.799,1021.58 931.254,1015.03 941.708,1008.48 952.163,1001.92 962.617,995.343 973.072,988.762 983.526,982.172 993.981,975.572 1004.44,968.964 1014.89,962.347 1025.34,955.721 1035.8,949.086 1046.25,942.442 1056.71,935.789 1067.16,929.127 1077.62,922.456 1088.07,915.776 1098.53,909.087 1108.98,902.39 1119.44,895.683 1129.89,888.967 1140.34,882.243 1150.8,875.51 1161.25,868.767 1171.71,862.016 1182.16,855.256 1192.62,848.487 1203.07,841.708 1213.53,834.921 1223.98,828.125 1234.44,821.32 1244.89,814.507 1255.34,807.684 1265.8,800.852 1276.25,794.011 1286.71,787.162 1297.16,780.303 1307.62,773.436 1318.07,766.559 1328.53,759.674 1338.98,752.779 1349.43,745.876 1359.89,738.964 1370.34,732.043 1380.8,725.113 1391.25,718.174 1401.71,711.226 1412.16,704.269 1422.62,697.303 1433.07,690.328 1443.53,683.345 1453.98,676.352 1464.43,669.35 1474.89,662.34 1485.34,655.32 1495.8,648.292 1506.25,641.255 1516.71,634.208 1527.16,627.153 1537.62,620.089 1548.07,613.016 1558.53,605.934 1568.98,598.843 1579.43,591.743 1589.89,584.634 1600.34,577.516 1610.8,570.389 1621.25,563.254 1631.71,556.109 1642.16,548.955 1652.62,541.793 1663.07,534.622 1673.53,527.441 1683.98,520.252 1694.43,513.054 1704.89,505.846 1715.34,498.63 1725.8,491.405 1736.25,484.171 1746.71,476.928 1757.16,469.676 1767.62,462.415 1778.07,455.146 1788.53,447.867 1798.98,440.579 1809.43,433.283 1819.89,425.977 1830.34,418.663 1840.8,411.339 1851.25,404.007 1861.71,396.666 1872.16,389.315 1882.62,381.956 1893.07,374.588 1903.52,367.211 1913.98,359.825 1924.43,352.43 1934.89,345.026 1945.34,337.614 1955.8,330.192 1966.25,322.761 1976.71,315.322 1987.16,307.873 1997.62,300.415 2008.07,292.949 2018.52,285.474 2028.98,277.989 2039.43,270.496 2049.89,262.994 2060.34,255.483 2070.8,247.963 2081.25,240.434 2091.71,232.896 2102.16,225.349 2112.62,217.793 2123.07,210.228 2133.52,202.655 2143.98,195.072 2154.43,187.48 2164.89,179.88 2175.34,172.27 2185.8,164.652 2196.25,157.025 2206.71,149.388 2217.16,141.743 2227.62,134.089 2238.07,126.426 2248.52,118.754 2258.98,111.073 2269.43,103.383 2279.89,95.6841 2290.34,87.9763 \"/>\n",
       "<circle clip-path=\"url(#clip502)\" cx=\"230.288\" cy=\"1412.57\" r=\"14.4\" fill=\"#e26f46\" fill-rule=\"evenodd\" fill-opacity=\"1\" stroke=\"#000000\" stroke-opacity=\"1\" stroke-width=\"3.2\"/>\n",
       "<circle clip-path=\"url(#clip502)\" cx=\"332.271\" cy=\"1378.66\" r=\"14.4\" fill=\"#e26f46\" fill-rule=\"evenodd\" fill-opacity=\"1\" stroke=\"#000000\" stroke-opacity=\"1\" stroke-width=\"3.2\"/>\n",
       "<circle clip-path=\"url(#clip502)\" cx=\"434.254\" cy=\"1317.01\" r=\"14.4\" fill=\"#e26f46\" fill-rule=\"evenodd\" fill-opacity=\"1\" stroke=\"#000000\" stroke-opacity=\"1\" stroke-width=\"3.2\"/>\n",
       "<circle clip-path=\"url(#clip502)\" cx=\"536.237\" cy=\"1258.45\" r=\"14.4\" fill=\"#e26f46\" fill-rule=\"evenodd\" fill-opacity=\"1\" stroke=\"#000000\" stroke-opacity=\"1\" stroke-width=\"3.2\"/>\n",
       "<circle clip-path=\"url(#clip502)\" cx=\"638.22\" cy=\"1212.21\" r=\"14.4\" fill=\"#e26f46\" fill-rule=\"evenodd\" fill-opacity=\"1\" stroke=\"#000000\" stroke-opacity=\"1\" stroke-width=\"3.2\"/>\n",
       "<circle clip-path=\"url(#clip502)\" cx=\"740.202\" cy=\"1156.73\" r=\"14.4\" fill=\"#e26f46\" fill-rule=\"evenodd\" fill-opacity=\"1\" stroke=\"#000000\" stroke-opacity=\"1\" stroke-width=\"3.2\"/>\n",
       "<circle clip-path=\"url(#clip502)\" cx=\"842.185\" cy=\"1070.42\" r=\"14.4\" fill=\"#e26f46\" fill-rule=\"evenodd\" fill-opacity=\"1\" stroke=\"#000000\" stroke-opacity=\"1\" stroke-width=\"3.2\"/>\n",
       "<circle clip-path=\"url(#clip502)\" cx=\"944.168\" cy=\"1024.19\" r=\"14.4\" fill=\"#e26f46\" fill-rule=\"evenodd\" fill-opacity=\"1\" stroke=\"#000000\" stroke-opacity=\"1\" stroke-width=\"3.2\"/>\n",
       "<circle clip-path=\"url(#clip502)\" cx=\"1046.15\" cy=\"925.549\" r=\"14.4\" fill=\"#e26f46\" fill-rule=\"evenodd\" fill-opacity=\"1\" stroke=\"#000000\" stroke-opacity=\"1\" stroke-width=\"3.2\"/>\n",
       "<circle clip-path=\"url(#clip502)\" cx=\"1148.13\" cy=\"879.313\" r=\"14.4\" fill=\"#e26f46\" fill-rule=\"evenodd\" fill-opacity=\"1\" stroke=\"#000000\" stroke-opacity=\"1\" stroke-width=\"3.2\"/>\n",
       "<circle clip-path=\"url(#clip502)\" cx=\"1250.12\" cy=\"762.182\" r=\"14.4\" fill=\"#e26f46\" fill-rule=\"evenodd\" fill-opacity=\"1\" stroke=\"#000000\" stroke-opacity=\"1\" stroke-width=\"3.2\"/>\n",
       "<circle clip-path=\"url(#clip502)\" cx=\"1352.1\" cy=\"749.852\" r=\"14.4\" fill=\"#e26f46\" fill-rule=\"evenodd\" fill-opacity=\"1\" stroke=\"#000000\" stroke-opacity=\"1\" stroke-width=\"3.2\"/>\n",
       "<circle clip-path=\"url(#clip502)\" cx=\"1454.08\" cy=\"675.875\" r=\"14.4\" fill=\"#e26f46\" fill-rule=\"evenodd\" fill-opacity=\"1\" stroke=\"#000000\" stroke-opacity=\"1\" stroke-width=\"3.2\"/>\n",
       "<circle clip-path=\"url(#clip502)\" cx=\"1556.07\" cy=\"604.979\" r=\"14.4\" fill=\"#e26f46\" fill-rule=\"evenodd\" fill-opacity=\"1\" stroke=\"#000000\" stroke-opacity=\"1\" stroke-width=\"3.2\"/>\n",
       "<circle clip-path=\"url(#clip502)\" cx=\"1658.05\" cy=\"552.579\" r=\"14.4\" fill=\"#e26f46\" fill-rule=\"evenodd\" fill-opacity=\"1\" stroke=\"#000000\" stroke-opacity=\"1\" stroke-width=\"3.2\"/>\n",
       "<circle clip-path=\"url(#clip502)\" cx=\"1760.03\" cy=\"487.848\" r=\"14.4\" fill=\"#e26f46\" fill-rule=\"evenodd\" fill-opacity=\"1\" stroke=\"#000000\" stroke-opacity=\"1\" stroke-width=\"3.2\"/>\n",
       "<circle clip-path=\"url(#clip502)\" cx=\"1862.01\" cy=\"392.294\" r=\"14.4\" fill=\"#e26f46\" fill-rule=\"evenodd\" fill-opacity=\"1\" stroke=\"#000000\" stroke-opacity=\"1\" stroke-width=\"3.2\"/>\n",
       "<circle clip-path=\"url(#clip502)\" cx=\"1964\" cy=\"324.481\" r=\"14.4\" fill=\"#e26f46\" fill-rule=\"evenodd\" fill-opacity=\"1\" stroke=\"#000000\" stroke-opacity=\"1\" stroke-width=\"3.2\"/>\n",
       "<circle clip-path=\"url(#clip502)\" cx=\"2065.98\" cy=\"228.926\" r=\"14.4\" fill=\"#e26f46\" fill-rule=\"evenodd\" fill-opacity=\"1\" stroke=\"#000000\" stroke-opacity=\"1\" stroke-width=\"3.2\"/>\n",
       "<circle clip-path=\"url(#clip502)\" cx=\"2167.96\" cy=\"164.196\" r=\"14.4\" fill=\"#e26f46\" fill-rule=\"evenodd\" fill-opacity=\"1\" stroke=\"#000000\" stroke-opacity=\"1\" stroke-width=\"3.2\"/>\n",
       "<circle clip-path=\"url(#clip502)\" cx=\"2269.95\" cy=\"127.207\" r=\"14.4\" fill=\"#e26f46\" fill-rule=\"evenodd\" fill-opacity=\"1\" stroke=\"#000000\" stroke-opacity=\"1\" stroke-width=\"3.2\"/>\n",
       "<path clip-path=\"url(#clip500)\" d=\"M220.987 250.738 L493.945 250.738 L493.945 95.2176 L220.987 95.2176  Z\" fill=\"#ffffff\" fill-rule=\"evenodd\" fill-opacity=\"1\"/>\n",
       "<polyline clip-path=\"url(#clip500)\" style=\"stroke:#000000; stroke-linecap:round; stroke-linejoin:round; stroke-width:4; stroke-opacity:1; fill:none\" points=\"220.987,250.738 493.945,250.738 493.945,95.2176 220.987,95.2176 220.987,250.738 \"/>\n",
       "<polyline clip-path=\"url(#clip500)\" style=\"stroke:#009af9; stroke-linecap:round; stroke-linejoin:round; stroke-width:4; stroke-opacity:1; fill:none\" points=\"245.49,147.058 392.509,147.058 \"/>\n",
       "<path clip-path=\"url(#clip500)\" d=\"M430.854 166.745 Q429.049 171.375 427.336 172.787 Q425.623 174.199 422.753 174.199 L419.35 174.199 L419.35 170.634 L421.85 170.634 Q423.609 170.634 424.581 169.8 Q425.554 168.967 426.734 165.865 L427.498 163.921 L417.012 138.412 L421.526 138.412 L429.628 158.689 L437.729 138.412 L442.243 138.412 L430.854 166.745 Z\" fill=\"#000000\" fill-rule=\"nonzero\" fill-opacity=\"1\" /><path clip-path=\"url(#clip500)\" d=\"M449.535 160.402 L457.174 160.402 L457.174 134.037 L448.864 135.703 L448.864 131.444 L457.127 129.778 L461.803 129.778 L461.803 160.402 L469.442 160.402 L469.442 164.338 L449.535 164.338 L449.535 160.402 Z\" fill=\"#000000\" fill-rule=\"nonzero\" fill-opacity=\"1\" /><circle clip-path=\"url(#clip500)\" cx=\"319\" cy=\"198.898\" r=\"20.48\" fill=\"#e26f46\" fill-rule=\"evenodd\" fill-opacity=\"1\" stroke=\"#000000\" stroke-opacity=\"1\" stroke-width=\"4.55111\"/>\n",
       "<path clip-path=\"url(#clip500)\" d=\"M430.854 218.585 Q429.049 223.215 427.336 224.627 Q425.623 226.039 422.753 226.039 L419.35 226.039 L419.35 222.474 L421.85 222.474 Q423.609 222.474 424.581 221.64 Q425.554 220.807 426.734 217.705 L427.498 215.761 L417.012 190.252 L421.526 190.252 L429.628 210.529 L437.729 190.252 L442.243 190.252 L430.854 218.585 Z\" fill=\"#000000\" fill-rule=\"nonzero\" fill-opacity=\"1\" /><path clip-path=\"url(#clip500)\" d=\"M452.752 212.242 L469.072 212.242 L469.072 216.178 L447.127 216.178 L447.127 212.242 Q449.789 209.488 454.373 204.858 Q458.979 200.205 460.16 198.863 Q462.405 196.34 463.285 194.604 Q464.188 192.844 464.188 191.155 Q464.188 188.4 462.243 186.664 Q460.322 184.928 457.22 184.928 Q455.021 184.928 452.567 185.692 Q450.137 186.455 447.359 188.006 L447.359 183.284 Q450.183 182.15 452.637 181.571 Q455.09 180.993 457.127 180.993 Q462.498 180.993 465.692 183.678 Q468.887 186.363 468.887 190.854 Q468.887 192.983 468.076 194.905 Q467.289 196.803 465.183 199.395 Q464.604 200.067 461.502 203.284 Q458.401 206.479 452.752 212.242 Z\" fill=\"#000000\" fill-rule=\"nonzero\" fill-opacity=\"1\" /></svg>\n"
      ]
     },
     "execution_count": 7,
     "metadata": {},
     "output_type": "execute_result"
    }
   ],
   "source": [
    "g(x)=p[1]+p[2]*x+p[3]*x^2\n",
    "x=range(-1,101,length=200)\n",
    "plot(x,g)\n",
    "scatter!(X,Y)"
   ]
  },
  {
   "cell_type": "code",
   "execution_count": 8,
   "id": "a83fd3ef-a7cf-46eb-974f-1ace5ef97829",
   "metadata": {},
   "outputs": [
    {
     "data": {
      "text/plain": [
       "2.446517340782799"
      ]
     },
     "execution_count": 8,
     "metadata": {},
     "output_type": "execute_result"
    }
   ],
   "source": [
    "g(80)"
   ]
  },
  {
   "cell_type": "code",
   "execution_count": null,
   "id": "aaa09517-7e5c-4477-b262-6fcc4c66bf97",
   "metadata": {},
   "outputs": [],
   "source": []
  }
 ],
 "metadata": {
  "kernelspec": {
   "display_name": "Julia 1.10.2",
   "language": "julia",
   "name": "julia-1.10"
  },
  "language_info": {
   "file_extension": ".jl",
   "mimetype": "application/julia",
   "name": "julia",
   "version": "1.10.2"
  }
 },
 "nbformat": 4,
 "nbformat_minor": 5
}
