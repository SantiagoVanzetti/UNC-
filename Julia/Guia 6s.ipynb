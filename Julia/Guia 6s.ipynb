{
 "cells": [
  {
   "cell_type": "markdown",
   "metadata": {},
   "source": [
    "# Métodos Numéricos (2024)\n",
    "\n",
    "## Guía 6: Integración Numérica"
   ]
  },
  {
   "cell_type": "code",
   "execution_count": null,
   "metadata": {},
   "outputs": [],
   "source": [
    "using Plots\n",
    "using LaTeXStrings\n",
    "using DataFrames\n",
    "using CSV\n",
    "using LsqFit"
   ]
  },
  {
   "cell_type": "markdown",
   "metadata": {},
   "source": [
    "## Problema 1\n",
    "1. Haciendo los calculos a mano y trabajando con 7 cifras significativas, encuentre las aproximaciones a las integrales definidas:\n",
    "\n",
    "    a. $I_1 = \\int_0^1 x^4 dx$\n",
    "\n",
    "    b. $I_2 = \\int_0^{\\pi} \\sin{(x)} dx$\n",
    "\n",
    "utilizando las reglas simples de *i) punto medio*, *ii) trapecio* y *iii) Simpson*. \n",
    "\n",
    "2. Calcule el error absoluto y el error relativo en cada caso y para cada método."
   ]
  },
  {
   "cell_type": "markdown",
   "metadata": {},
   "source": [
    "**Teoría**\n",
    "\n",
    "La regla simple del punto medio es:\n",
    "$$\n",
    "\\int_a^b dx\\, f(x) \\approx (b-a)f\\bigg(\\frac{a+b}{2}\\bigg)\n",
    "$$\n",
    "\n",
    "La regla simple del trapecio es:\n",
    "$$\n",
    "\\int_a^b dx\\, f(x) \\approx \\frac{b-a}{2}\\bigg(f(a) + f(b)\\bigg)\n",
    "$$\n",
    "\n",
    "La regla simple de Simpson es:\n",
    "$$\n",
    "\\int_a^b dx\\, f(x) \\approx \\frac{b-a}{6}\\bigg(f(a) + 4f\\bigg(\\frac{a+b}{2}\\bigg) + f(b)\\bigg)\n",
    "$$"
   ]
  },
  {
   "cell_type": "markdown",
   "metadata": {},
   "source": [
    "1."
   ]
  },
  {
   "cell_type": "code",
   "execution_count": null,
   "metadata": {},
   "outputs": [],
   "source": [
    "f(x)=x^4 #Analiticamente es 0.2\n",
    "#i I_1\n",
    "ptomed1=1*f(1*0.5)"
   ]
  },
  {
   "cell_type": "code",
   "execution_count": null,
   "metadata": {},
   "outputs": [],
   "source": [
    "#ii I_1\n",
    "trap1=1*0.5*(f(0)+f(1))"
   ]
  },
  {
   "cell_type": "code",
   "execution_count": null,
   "metadata": {},
   "outputs": [],
   "source": [
    "#iii I_1\n",
    "simpson1=1/6*(f(0)+4*f(1*0.5)+f(1))"
   ]
  },
  {
   "cell_type": "code",
   "execution_count": null,
   "metadata": {},
   "outputs": [],
   "source": [
    "g(x)=sin(x) #Analiticamente es 2\n",
    "#i I_2\n",
    "ptomed2=π*g(π/2)"
   ]
  },
  {
   "cell_type": "code",
   "execution_count": null,
   "metadata": {},
   "outputs": [],
   "source": [
    "#ii I_2\n",
    "trap2=π*0.5(g(0)+g(π))"
   ]
  },
  {
   "cell_type": "code",
   "execution_count": null,
   "metadata": {},
   "outputs": [],
   "source": [
    "#iii I_2\n",
    "simpson2=π/6*(g(0)+4*g(π/2)+g(π))"
   ]
  },
  {
   "cell_type": "markdown",
   "metadata": {},
   "source": [
    "2."
   ]
  },
  {
   "cell_type": "markdown",
   "metadata": {},
   "source": [
    "$I_1$"
   ]
  },
  {
   "cell_type": "code",
   "execution_count": null,
   "metadata": {},
   "outputs": [],
   "source": [
    "#i 1 Punto medio\n",
    "ep1=abs(ptomed1-0.2)\n",
    "erp1= ep1/0.2\n",
    "#ii 1 Trapecio\n",
    "et1=abs(trap1-0.2)\n",
    "ert1=et1/0.2\n",
    "#iii 1 Simpson\n",
    "es1=abs(simpson1-0.2)\n",
    "ers1=es1/0.2\n",
    "println(\"Error absoluto punto medio = $ep1\")\n",
    "println(\"Error relativo punto medio = $erp1\")\n",
    "println(\"Error absoluto trapecio = $et1\")\n",
    "println(\"Error relativo trapecio = $ert1\")\n",
    "println(\"Error absoluto Simpson = $ep1\")\n",
    "println(\"Error relativo Simpson = $ers1\")"
   ]
  },
  {
   "cell_type": "markdown",
   "metadata": {},
   "source": [
    "$I_2$"
   ]
  },
  {
   "cell_type": "code",
   "execution_count": null,
   "metadata": {},
   "outputs": [],
   "source": [
    "#i 2 Punto medio\n",
    "ep2=abs(ptomed2-2)\n",
    "erp2= ep2/2\n",
    "#ii 2 Trapecio\n",
    "et2=abs(trap2-2)\n",
    "ert2=et2/2\n",
    "#iii 2 Simpson\n",
    "es2=abs(simpson2-2)\n",
    "ers2=es2/2\n",
    "println(\"Error absoluto punto medio = $ep2\") #Hacerlo con DataFrames\n",
    "println(\"Error relativo punto medio = $erp2\")\n",
    "println(\"Error absoluto trapecio = $et2\")\n",
    "println(\"Error relativo trapecio = $ert2\")\n",
    "println(\"Error absoluto Simpson = $ep2\")\n",
    "println(\"Error relativo Simpson = $ers2\")"
   ]
  },
  {
   "cell_type": "markdown",
   "metadata": {},
   "source": [
    "## Problema 2\n",
    "\n",
    "1. Repita el problema 1 dividiendo el intervalo de integración en dos subintervalos de igual tamaño. Es decir:\n",
    "\n",
    "    a. $I_1=\\int_0^{1/2} x^4 dx+ \\int_{1/2}^1 x^4 dx$\n",
    "\n",
    "    b. $I_2=\\int_0^{\\pi/2}\\sin{(x)}dx+\\int_{\\pi/2}^{\\pi}\\sin{(x)} dx$\n",
    "\n",
    "2. Compare resultados con lo obtenido en el problema 1."
   ]
  },
  {
   "cell_type": "markdown",
   "metadata": {},
   "source": [
    "a)"
   ]
  },
  {
   "cell_type": "code",
   "execution_count": null,
   "metadata": {},
   "outputs": [],
   "source": [
    "#i I_1\n",
    "p1=0.5*f(0.5*0.5)+0.5*f(1.5*0.5)"
   ]
  },
  {
   "cell_type": "code",
   "execution_count": null,
   "metadata": {},
   "outputs": [],
   "source": [
    "#ii I_1\n",
    "t1=0.5*0.5*(f(0)+f(0.5))+0.5*0.5*(f(0.5)+f(1))"
   ]
  },
  {
   "cell_type": "code",
   "execution_count": null,
   "metadata": {},
   "outputs": [],
   "source": [
    "#iii I_1\n",
    "s1=0.5/6*(f(0)+4*f(0.5*0.5)+f(0.5))+0.5/6*(f(0.5)+4*f(1.5*0.5)+f(1))"
   ]
  },
  {
   "cell_type": "markdown",
   "metadata": {},
   "source": [
    "b)"
   ]
  },
  {
   "cell_type": "code",
   "execution_count": null,
   "metadata": {},
   "outputs": [],
   "source": [
    "#i I_2\n",
    "p2=π/2*g(π/2*0.5)+π/2*g(π/2*0.5)"
   ]
  },
  {
   "cell_type": "code",
   "execution_count": null,
   "metadata": {},
   "outputs": [],
   "source": [
    "#ii I_2\n",
    "t2=π/2*0.5(g(0)+g(π/2))+π/2*0.5(g(π)+g(π/2))"
   ]
  },
  {
   "cell_type": "code",
   "execution_count": null,
   "metadata": {},
   "outputs": [],
   "source": [
    "#iii I_2\n",
    "s2=(π/2)/6*(g(0)+4*g((π/2)/2)+g(π/2))+(π/2)/6*(g(π/2)+4*g((π/2)/2)+g(π))"
   ]
  },
  {
   "cell_type": "markdown",
   "metadata": {},
   "source": [
    "Errores:"
   ]
  },
  {
   "cell_type": "code",
   "execution_count": null,
   "metadata": {},
   "outputs": [],
   "source": [
    "#i 2 Punto medio\n",
    "ep_2=abs(p2-2)\n",
    "erp_2= ep_2/2\n",
    "#ii 2 Trapecio\n",
    "et_2=abs(t2-2)\n",
    "ert_2=et_2/2\n",
    "#iii 2 Simpson\n",
    "es_2=abs(s2-2)\n",
    "ers_2=es_2/2\n",
    "println(\"Error absoluto punto medio = $ep_2\") #Hacerlo con DataFrames\n",
    "println(\"Error relativo punto medio = $erp_2\")\n",
    "println(\"Error absoluto trapecio = $et_2\")\n",
    "println(\"Error relativo trapecio = $ert_2\")\n",
    "println(\"Error absoluto Simpson = $ep_2\")\n",
    "println(\"Error relativo Simpson = $ers_2\")"
   ]
  },
  {
   "cell_type": "markdown",
   "metadata": {},
   "source": [
    "## Problema 3\n",
    "1. Construya funciones que dada una función arbitraria, retornen  las aproximaciones numéricas $S_M$, $S_T$ y $S_S$ a una integral de la forma\n",
    "$$\n",
    "I = \\int_a ^b f(x) dx\n",
    "$$\n",
    "utilizando las reglas compuestas del *punto medio*, del *trapecio* y de *Simpson*, respectivamente.\n",
    "Las funciones deben evaluar el integrando $f(x)$ en $n+1$ puntos equiespaciados $x_i$ para $i=0,1,2,...,n$ y con espaciamiento $h=(b-a)/n$.\n",
    "En el caso del punto medio, se evalúa en los $x_i+h/2$ para $i=0,1,...,n-1$.\n",
    "\n",
    "2. Calcule $S_M$, $S_T$ y $S_S$ para la integral:\n",
    "$$\n",
    "I = \\int _0 ^1 e^{-x} dx\n",
    "$$\n",
    "Utilice un espaciamiento $h_1=0.05$ en ambos casos. Luego repita el procedimiento disminuyendo su \n",
    "espaciamiento a la mitad, $h_2=h_1/2=0.025$.\n",
    "\n",
    "3. Teniendo en cuenta que es posible conocer el resultado exacto de la integral en cuestión, evalúe el error\n",
    "$\\varepsilon(h)=|S-I|$, para $h=0.05$ y $h=0.025$ para los tres métodos de aproximación.\n",
    "Verifique que el cociente de precisión, definido como \n",
    "$$\n",
    "Q = \\frac{\\varepsilon(h)}{\\varepsilon(h/2)}\n",
    "$$\n",
    "toma un valor aproximado a $4$ cuando se usa la regla del *punto medio* y del *trapecio*, y un valor aproximado a $16$ cuando se usa la regla de *Simpson*. \n",
    "Teniendo en cuenta la expresión del error de truncamiento en cada caso, justifique este resultado.\n",
    "\n",
    "**Consejo:** tener cuidado con *Simpson* en elegir siempre un número par de intervalos, i.e, un número impar de puntos. Pruebe con una integral conocida, qué resultados da cuando usa un número impar de intervalos. Incluya en la función para dicho método un chequeo de que el número de puntos sea par."
   ]
  },
  {
   "cell_type": "markdown",
   "metadata": {},
   "source": [
    "1."
   ]
  },
  {
   "cell_type": "code",
   "execution_count": null,
   "metadata": {},
   "outputs": [],
   "source": [
    "#Punto medio compuesto\n",
    "function pm(f,I,n) #n es la cantidad de intervalos \n",
    "    a,b=I\n",
    "    @assert a<=b\n",
    "    A=0\n",
    "    h=(b-a)/n #Defino la separación entre los puntos\n",
    "    for i in 0:n-1\n",
    "        A+=h*f(a+i*h+h/2) #Formula de punto medio\n",
    "    end\n",
    "    return A\n",
    "end"
   ]
  },
  {
   "cell_type": "code",
   "execution_count": null,
   "metadata": {},
   "outputs": [],
   "source": [
    "I=(0,π)\n",
    "g(x)=sin(x)\n",
    "p1=pm(g,I,20)"
   ]
  },
  {
   "cell_type": "code",
   "execution_count": null,
   "metadata": {},
   "outputs": [],
   "source": [
    "#Trapecio compuesto\n",
    "function trapecio(f,I,n) #n es la cantidad de intervalos (se pueden comparar)\n",
    "    a,b=I\n",
    "    @assert a<=b\n",
    "    h=(b-a)/n #Defino la separación entre los puntos\n",
    "    sum=0\n",
    "    for i in 1:n-1\n",
    "        sum+=f(a+i*h) #Suma de los puntos interiores\n",
    "    end\n",
    "    A=(h/2)*(f(a)+2*sum+f(b)) #Formula de trapecio\n",
    "    return A\n",
    "end"
   ]
  },
  {
   "cell_type": "code",
   "execution_count": null,
   "metadata": {},
   "outputs": [],
   "source": [
    "I=(0,π)\n",
    "g(x)=sin(x)\n",
    "t1=trapecio(g,I,1)"
   ]
  },
  {
   "cell_type": "code",
   "execution_count": null,
   "metadata": {},
   "outputs": [],
   "source": [
    "#Simpson compuesto\n",
    "function simpson(f,I,n) #n es la cantidad de intervalos en el que se aplica Simpson\n",
    "    a,b=I\n",
    "    @assert n%2==0 #Me aseguro de que la cantidad de intervalos sean pares\n",
    "    @assert a<=b\n",
    "    h=(b-a)/n #Defino la separación entre los puntos\n",
    "    par=0\n",
    "    impar=0\n",
    "    for i in 1:n/2-1\n",
    "        par+=f(a+2*i*h) #Suma de los puntos interiores pares\n",
    "    end\n",
    "    for i in 0:n/2-1\n",
    "        impar+=f(a+(2i+1)*h) #Suma de los puntos interiores impares\n",
    "    end\n",
    "    A=(h/3)*(f(a)+2*par+4*impar+f(b))\n",
    "    return A\n",
    "end"
   ]
  },
  {
   "cell_type": "code",
   "execution_count": null,
   "metadata": {},
   "outputs": [],
   "source": [
    "I=(0,1)\n",
    "g(x)=x^4\n",
    "s1=simpson(g,I,2)"
   ]
  },
  {
   "cell_type": "markdown",
   "metadata": {},
   "source": [
    "2/3."
   ]
  },
  {
   "cell_type": "code",
   "execution_count": null,
   "metadata": {},
   "outputs": [],
   "source": [
    "f(x)=exp(-x)\n",
    "I=(0,1)\n",
    "n_1=1/0.05 #Calculo de n usando (b-a)/n=h\n",
    "n_2=1/0.025"
   ]
  },
  {
   "cell_type": "markdown",
   "metadata": {},
   "source": [
    "Punto medio:"
   ]
  },
  {
   "cell_type": "code",
   "execution_count": null,
   "metadata": {},
   "outputs": [],
   "source": [
    "pm_1=pm(f,I,n_1) #Punto medio con h=0.05"
   ]
  },
  {
   "cell_type": "code",
   "execution_count": null,
   "metadata": {},
   "outputs": [],
   "source": [
    "pm_2=pm(f,I,n_2) #Punto medio con h=0.025"
   ]
  },
  {
   "cell_type": "markdown",
   "metadata": {},
   "source": [
    "Error punto medio:"
   ]
  },
  {
   "cell_type": "code",
   "execution_count": null,
   "metadata": {},
   "outputs": [],
   "source": [
    "v=1-1/exp(1) #Valor analítico de la integral\n",
    "epm_1=abs(pm_1-v) #Error con h\n",
    "epm_2=abs(pm_2-v) #Error con h/2"
   ]
  },
  {
   "cell_type": "code",
   "execution_count": null,
   "metadata": {},
   "outputs": [],
   "source": [
    "qpm=epm_1/epm_2"
   ]
  },
  {
   "cell_type": "markdown",
   "metadata": {},
   "source": [
    "Trapecio:"
   ]
  },
  {
   "cell_type": "code",
   "execution_count": null,
   "metadata": {},
   "outputs": [],
   "source": [
    "tra_1=trapecio(f,I,n_1) #Trapecio con h=0.05"
   ]
  },
  {
   "cell_type": "code",
   "execution_count": null,
   "metadata": {},
   "outputs": [],
   "source": [
    "tra_2=trapecio(f,I,n_2) #Trapecio con h=0.025"
   ]
  },
  {
   "cell_type": "markdown",
   "metadata": {},
   "source": [
    "Error trapecio:"
   ]
  },
  {
   "cell_type": "code",
   "execution_count": null,
   "metadata": {},
   "outputs": [],
   "source": [
    "v=1-1/exp(1) #Valor analítico de la integral\n",
    "etra_1=abs(tra_1-v) #Error con h\n",
    "etra_2=abs(tra_2-v) #Error con h/2"
   ]
  },
  {
   "cell_type": "code",
   "execution_count": null,
   "metadata": {},
   "outputs": [],
   "source": [
    "qtra=etra_1/etra_2"
   ]
  },
  {
   "cell_type": "markdown",
   "metadata": {},
   "source": [
    "Simpson:"
   ]
  },
  {
   "cell_type": "code",
   "execution_count": null,
   "metadata": {},
   "outputs": [],
   "source": [
    "simp_1=simpson(f,I,n_1) #Simpson con h=0.05"
   ]
  },
  {
   "cell_type": "code",
   "execution_count": null,
   "metadata": {},
   "outputs": [],
   "source": [
    "simp_2=simpson(f,I,n_2) #Simpson con h=0.025"
   ]
  },
  {
   "cell_type": "markdown",
   "metadata": {},
   "source": [
    "Error Simpson:"
   ]
  },
  {
   "cell_type": "code",
   "execution_count": null,
   "metadata": {},
   "outputs": [],
   "source": [
    "v=1-1/exp(1) #Valor analítico de la integral\n",
    "esimp_1=abs(simp_1-v) #Error con h\n",
    "esimp_2=abs(simp_2-v) #Error con h/2"
   ]
  },
  {
   "cell_type": "code",
   "execution_count": null,
   "metadata": {},
   "outputs": [],
   "source": [
    "qsimp=esimp_1/esimp_2 #Comprobación de Simpson"
   ]
  },
  {
   "cell_type": "markdown",
   "metadata": {},
   "source": [
    "## Problema 4\n",
    "1. Para los métodos de integración numérica del problema 3, implemente fórmulas de estimación del error en función de el número de puntos $n$, una cota máxima $M$ asociada a $f(x)$ o alguna de sus derivadas, y los extremos $a$ y $b$ del intérvalo de integración.\n",
    "\n",
    "2. Indique, para cada método, el mínimo $n$ necesario para alcanzar un error relativo menor a $10^{-7}$ de las siguientes integrales\n",
    "\n",
    "    a. $\\int_0^{1/2} \\frac{2}{x-4} \\; dx$\n",
    "\n",
    "    b. $\\int_1^{3/2} x^2 \\log x \\; dx$\n",
    "\n",
    "3. Compruebe usando los métodos del problema 3 si las estimaciones de $n$ son adecuadas."
   ]
  },
  {
   "cell_type": "markdown",
   "metadata": {},
   "source": [
    "Punto medio"
   ]
  },
  {
   "cell_type": "code",
   "execution_count": null,
   "metadata": {},
   "outputs": [],
   "source": [
    "epm(a,b,M,n)=(b-a)^3*M/(6*n^2) #Aprocimacion del error de punto medio donde, M es una cota de la derivada segunda de f en el intervalo"
   ]
  },
  {
   "cell_type": "markdown",
   "metadata": {},
   "source": [
    "Trapecio"
   ]
  },
  {
   "cell_type": "code",
   "execution_count": null,
   "metadata": {},
   "outputs": [],
   "source": [
    "etrapecio(a,b,M,n)=(b-a)^3*M/(12*n^2) #Aprocimacion del error de trapecio, donde M es una cota de la derivada segunda de f en el intervalo"
   ]
  },
  {
   "cell_type": "markdown",
   "metadata": {},
   "source": [
    "Simpson"
   ]
  },
  {
   "cell_type": "code",
   "execution_count": null,
   "metadata": {},
   "outputs": [],
   "source": [
    "esimpson(a,b,M,n)=(b-a)^5*M/(180*n^4) #Aprocimacion del error de Simpson, donde M es una cota de la derivada cuarta de f en el intervalo"
   ]
  },
  {
   "cell_type": "markdown",
   "metadata": {},
   "source": [
    "2.a/3.a"
   ]
  },
  {
   "cell_type": "markdown",
   "metadata": {},
   "source": [
    "Estimación de n para cada metodo:"
   ]
  },
  {
   "cell_type": "code",
   "execution_count": null,
   "metadata": {},
   "outputs": [],
   "source": [
    "a=0\n",
    "b=0.5\n",
    "I=a,b\n",
    "f(x)=2/(x-4)\n",
    "M_2=32/343 #Cota de la derivada segunda\n",
    "M_4=1536/16807 #Cota de la derivada cuarta\n",
    "e=1e-7 #Error que quiero\n",
    "t=2*log(7/8) # Valor analítico de la integral\n",
    "n_pm=ceil(√((b-a)^3*M_2/(6*e)))\n",
    "n_tr=ceil(√((b-a)^3*M_2/(12*e)))\n",
    "n_sim=ceil(((b-a)^5*M_4/(180*e))^(0.25))"
   ]
  },
  {
   "cell_type": "code",
   "execution_count": null,
   "metadata": {},
   "outputs": [],
   "source": [
    "a_pm=pm(f,I,n_pm)"
   ]
  },
  {
   "cell_type": "code",
   "execution_count": null,
   "metadata": {},
   "outputs": [],
   "source": [
    "errora_pm=abs(t-a_pm)"
   ]
  },
  {
   "cell_type": "code",
   "execution_count": null,
   "metadata": {},
   "outputs": [],
   "source": [
    "a_tr=trapecio(f,I,n_tr)"
   ]
  },
  {
   "cell_type": "code",
   "execution_count": null,
   "metadata": {},
   "outputs": [],
   "source": [
    "errora_tr=abs(t-a_tr)"
   ]
  },
  {
   "cell_type": "code",
   "execution_count": null,
   "metadata": {},
   "outputs": [],
   "source": [
    "a_sim=simpson(f,I,n_sim)"
   ]
  },
  {
   "cell_type": "code",
   "execution_count": null,
   "metadata": {},
   "outputs": [],
   "source": [
    "errora_sim=abs(t-a_sim)"
   ]
  },
  {
   "cell_type": "markdown",
   "metadata": {},
   "source": [
    "2.b/3.b"
   ]
  },
  {
   "cell_type": "code",
   "execution_count": null,
   "metadata": {},
   "outputs": [],
   "source": [
    "a=1\n",
    "b=1.5\n",
    "I=a,b\n",
    "g(x)=x^2*log(x)\n",
    "M_2=2*log(1.5)+3 #Cota de la derivada segunda\n",
    "M_4=2 #Cota de la derivada cuarta\n",
    "e=1e-7 #Error que quiero\n",
    "t=9*log(1.5)/8-19/72 # Valor analítico de la integral\n",
    "n_pm=ceil(√((b-a)^3*M_2/(6*e)))\n",
    "n_tr=ceil(√((b-a)^3*M_2/(12*e)))\n",
    "n_sim=ceil(((b-a)^5*M_4/(180*e))^(0.25))"
   ]
  },
  {
   "cell_type": "code",
   "execution_count": null,
   "metadata": {},
   "outputs": [],
   "source": [
    "b_pm=pm(g,I,n_pm)"
   ]
  },
  {
   "cell_type": "code",
   "execution_count": null,
   "metadata": {},
   "outputs": [],
   "source": [
    "errorb_pm=abs(t-b_pm)"
   ]
  },
  {
   "cell_type": "code",
   "execution_count": null,
   "metadata": {},
   "outputs": [],
   "source": [
    "b_tr=trapecio(g,I,n_tr)"
   ]
  },
  {
   "cell_type": "code",
   "execution_count": null,
   "metadata": {},
   "outputs": [],
   "source": [
    "errorb_tr=abs(t-b_tr)"
   ]
  },
  {
   "cell_type": "code",
   "execution_count": null,
   "metadata": {},
   "outputs": [],
   "source": [
    "b_sim=simpson(g,I,n_sim)"
   ]
  },
  {
   "cell_type": "code",
   "execution_count": null,
   "metadata": {},
   "outputs": [],
   "source": [
    "errorb_sim=abs(t-b_sim)"
   ]
  },
  {
   "cell_type": "markdown",
   "metadata": {},
   "source": [
    "## Problema 5\n",
    "**Comparación de métodos.**\n",
    "\n",
    "1. Aproxime la integral\n",
    "\\begin{equation*}\n",
    "I = \\int_0^1 e^{-t} dt = 1 - e^{-1}  \\nonumber              \n",
    "\\end{equation*}\n",
    "empleando los algoritmos del problema 3.\n",
    "\n",
    "2. Calcule el error relativo $E$ para $n\\in [2,4,8,...,4096]$ ($n=2^i$ con $i=1,2,...$) y grafique $E$ vs $n$ en *log-log*.\n",
    "\n",
    "\n",
    "3. Verifique visualmente que se satisfacen leyes de potencia\n",
    "$$\n",
    "E = Cn^{-\\alpha}\n",
    "$$\n",
    "y estime visualmente los valores de $C>0$ y $\\alpha>0$.\n",
    "\n",
    "4. Use el gráfico para estimar, para cada método, el mínimo $n$ al cuál se alcanza una precisión $E<10^{-7}$.\n",
    "\n",
    "5. Repita los incisos anteriores en `Float16` y `Float32`.\n",
    "\n",
    "6. Determine si el error de redondeo es relevante en estos casos."
   ]
  },
  {
   "cell_type": "markdown",
   "metadata": {},
   "source": [
    "Punto medio:"
   ]
  },
  {
   "cell_type": "markdown",
   "metadata": {},
   "source": [
    "2."
   ]
  },
  {
   "cell_type": "code",
   "execution_count": null,
   "metadata": {},
   "outputs": [],
   "source": [
    "I=(0,1)\n",
    "f(x)=exp(-x)\n",
    "t=1-exp(-1) #Valor analitico\n",
    "A=[1; 2; 3; 4; 5; 6; 7; 8; 9; 10; 11; 12] \n",
    "r(x)=2^x\n",
    "B=r.(A)\n",
    "E(y)=abs(y-t)/t"
   ]
  },
  {
   "cell_type": "code",
   "execution_count": null,
   "metadata": {},
   "outputs": [],
   "source": [
    "pm_n(n)=pm(f,I,n)\n",
    "pm_A=pm_n.(B)\n",
    "Epm=E.(pm_A)"
   ]
  },
  {
   "cell_type": "code",
   "execution_count": null,
   "metadata": {},
   "outputs": [],
   "source": [
    "@. model(x,p)=p[1]x^(-p[2]) #No se porque no funciona puede ser por p0\n",
    "p0=[0.0,2.0]\n",
    "fit=curve_fit(model,B,Epm,p0)\n",
    "c=coef(fit)"
   ]
  },
  {
   "cell_type": "code",
   "execution_count": null,
   "metadata": {},
   "outputs": [],
   "source": [
    "p(x)=c[1]*x^(-c[2])"
   ]
  },
  {
   "cell_type": "code",
   "execution_count": null,
   "metadata": {},
   "outputs": [],
   "source": [
    "x=range(2,4096,length=200)\n",
    "scatter(B,Epm,label=\"\",colour=:cyan,yscale=:log10,xscale=:log10)\n",
    "scatter!(ylabel=\"Error relativo\",xlabel=L\"n\",title=\"Error relativo punto medio\")\n",
    "plot!(x,p)"
   ]
  },
  {
   "cell_type": "code",
   "execution_count": null,
   "metadata": {},
   "outputs": [],
   "source": [
    "tr_n(n)=trapecio(f,I,n)\n",
    "tr_A=tr_n.(B)\n",
    "Etr=E.(tr_A)"
   ]
  },
  {
   "cell_type": "code",
   "execution_count": null,
   "metadata": {},
   "outputs": [],
   "source": [
    "scatter(B,Etr,yscale=:log10,xscale=:log2,label=\"\",colour=:cyan)\n",
    "scatter!(ylabel=\"Error relativo\",xlabel=L\"n\",title=\"Error relativo trapecio\")"
   ]
  },
  {
   "cell_type": "code",
   "execution_count": null,
   "metadata": {},
   "outputs": [],
   "source": [
    "sp_n(n)=simpson(f,I,n)\n",
    "sp_A=sp_n.(B)\n",
    "Esp=E.(sp_A)"
   ]
  },
  {
   "cell_type": "code",
   "execution_count": null,
   "metadata": {},
   "outputs": [],
   "source": [
    "scatter(B,Esp,yscale=:log10,xscale=:log10,label=\"\",colour=:cyan)#Al final se ve el error de redondeo\n",
    "scatter!(ylabel=\"Error relativo\",xlabel=L\"n\",title=\"Error relativo Simpson\")"
   ]
  },
  {
   "cell_type": "markdown",
   "metadata": {},
   "source": [
    "## Problema 6\n",
    "En el repositorio se encuentran dos archivos de datos, \n",
    "\n",
    "    mediciones1-c1-g6.dat \n",
    "    mediciones2-c1-g6.dat\n",
    "\n",
    "Los mismos almacenan mediciones de una función $f(t)$ sobre un mismo rango de $t$. El primero muestrea $n=629$ puntos y el segundo $n=10001$.\n",
    "\n",
    "1. Baje y grafique los datos.\n",
    "\n",
    "2. Copie y modifique los algoritmos del problema 3 para integrar muestreos de funciones.\n",
    "\n",
    "3. Integre los muestreos y compare."
   ]
  },
  {
   "cell_type": "code",
   "execution_count": null,
   "metadata": {},
   "outputs": [],
   "source": [
    "X1=Vector{Float64}()\n",
    "Y1=Vector{Float64}()\n",
    "open(\"mediciones1-c1-g6.dat\",\"r\") do fh\n",
    "    for line in readlines(fh) #Cargo los datos de cada columna en dos vectores\n",
    "        cols = split(line)\n",
    "        push!(X1,parse(Float64,cols[1]))\n",
    "        push!(Y1,parse(Float64,cols[2]))\n",
    "    end\n",
    "end"
   ]
  },
  {
   "cell_type": "code",
   "execution_count": null,
   "metadata": {},
   "outputs": [],
   "source": [
    "scatter(X1,Y1)"
   ]
  },
  {
   "cell_type": "code",
   "execution_count": null,
   "metadata": {},
   "outputs": [],
   "source": [
    "X2=Vector{Float64}()\n",
    "Y2=Vector{Float64}()\n",
    "open(\"mediciones2-c1-g6.dat\",\"r\") do fh\n",
    "    for line in readlines(fh) #Cargo los datos de cada columna en dos vectores\n",
    "        cols = split(line)\n",
    "        push!(X2,parse(Float64,cols[1]))\n",
    "        push!(Y2,parse(Float64,cols[2]))\n",
    "    end\n",
    "end"
   ]
  },
  {
   "cell_type": "code",
   "execution_count": null,
   "metadata": {},
   "outputs": [],
   "source": [
    "scatter(X2,Y2,xlims=(0,0.1))"
   ]
  },
  {
   "cell_type": "markdown",
   "metadata": {},
   "source": [
    "2."
   ]
  },
  {
   "cell_type": "markdown",
   "metadata": {},
   "source": [
    "Punto medio:"
   ]
  },
  {
   "cell_type": "code",
   "execution_count": null,
   "metadata": {},
   "outputs": [],
   "source": [
    "function PM(X,Y)\n",
    "    @assert length(X)==length(Y)\n",
    "    n=length(X)\n",
    "    A=0\n",
    "    h=X[2]-X[1] #Suponiendo que estan equiespaciados por lo que que para todo y es igual X[i+1]-X[i]\n",
    "    for i in 2:2:n\n",
    "        A+=Y[i]\n",
    "    end\n",
    "    B=2*h*A\n",
    "    return B\n",
    "end"
   ]
  },
  {
   "cell_type": "code",
   "execution_count": null,
   "metadata": {},
   "outputs": [],
   "source": [
    "u1=PM(X1,Y1)"
   ]
  },
  {
   "cell_type": "code",
   "execution_count": null,
   "metadata": {},
   "outputs": [],
   "source": [
    "u2=PM(X2,Y2)"
   ]
  },
  {
   "cell_type": "markdown",
   "metadata": {},
   "source": [
    "Trapecio:"
   ]
  },
  {
   "cell_type": "code",
   "execution_count": null,
   "metadata": {},
   "outputs": [],
   "source": [
    "function TR(X,Y)\n",
    "    @assert length(X)==length(Y)\n",
    "    n=length(X)\n",
    "    A=0\n",
    "    h=X[2]-X[1] #Suponiendo que estan equiespaciados por lo que que para todo y es igual X[i+1]-X[i]\n",
    "    for i in 2:n-1\n",
    "        A+=Y[i]\n",
    "    end\n",
    "    B=(h/2)*(Y[1]+2*A+Y[n])\n",
    "    return B\n",
    "end"
   ]
  },
  {
   "cell_type": "code",
   "execution_count": null,
   "metadata": {},
   "outputs": [],
   "source": [
    "v1=TR(X1,Y1)"
   ]
  },
  {
   "cell_type": "code",
   "execution_count": null,
   "metadata": {},
   "outputs": [],
   "source": [
    "v2=TR(X2,Y2)"
   ]
  },
  {
   "cell_type": "markdown",
   "metadata": {},
   "source": [
    "Simpson:"
   ]
  },
  {
   "cell_type": "code",
   "execution_count": null,
   "metadata": {},
   "outputs": [],
   "source": [
    "function SP(X,Y) #n es la cantidad de intervalos en el que se aplica Simpson\n",
    "    @assert length(X)==length(Y)\n",
    "    n=length(X)\n",
    "    @assert n%2==1\n",
    "    par=0\n",
    "    impar=0\n",
    "    h=X[2]-X[1]\n",
    "    for i in 3:2:n-2\n",
    "        par+=Y[i]\n",
    "    end\n",
    "    for i in 2:2:n-1\n",
    "        impar+=Y[i]\n",
    "    end\n",
    "    A=(h/3)*(Y[1]+2*par+4*impar+Y[n])\n",
    "    return A\n",
    "end"
   ]
  },
  {
   "cell_type": "code",
   "execution_count": null,
   "metadata": {},
   "outputs": [],
   "source": [
    "w1=SP(X1,Y1)"
   ]
  },
  {
   "cell_type": "code",
   "execution_count": null,
   "metadata": {},
   "outputs": [],
   "source": [
    "w2=SP(X2,Y2)"
   ]
  },
  {
   "cell_type": "markdown",
   "metadata": {},
   "source": [
    "# Ejercicios Complementarios"
   ]
  },
  {
   "cell_type": "markdown",
   "metadata": {},
   "source": [
    "## Problema C.1\n",
    "Idem problema 4, para las siguientes integrales: \n",
    "1. $\\int_{1/2}^1 x^4 dx$\n",
    "2. $\\int_0^{\\pi/4} x \\sin x dx$"
   ]
  },
  {
   "cell_type": "markdown",
   "metadata": {},
   "source": [
    "**Teoría:** Para los metodos de punto medio y trapecio el error es $\\mathcal{O}(h^2)$ y está acotado por (en término de n):\n",
    "\n",
    "$$\n",
    "E_T = \\frac{(b-a)^3}{12n^2}M_2 \\;\\;\\;\\;\\;\\;\\; E_M = \\frac{(b-a)^3}{24n^2}M_2,\n",
    "$$\n",
    "\n",
    "donde \n",
    "$$\n",
    "M_2 = \\max_{x \\in [a,b]}\\{|f''(x)|\\}\n",
    "$$\n",
    "\n",
    "Para el método de Simpson el error es $\\mathcal{O}(h^4)$ está acotado por \n",
    "\n",
    "$$\n",
    "E_S = \\frac{(b-a)^5}{180n^4}M_4 \n",
    "$$\n",
    "\n",
    "donde \n",
    "$$\n",
    "M_4 = \\max_{x \\in [a,b]}\\{|f^{(4)}(x)|\\}\n",
    "$$\n"
   ]
  },
  {
   "cell_type": "code",
   "execution_count": null,
   "metadata": {},
   "outputs": [],
   "source": []
  },
  {
   "cell_type": "markdown",
   "metadata": {},
   "source": [
    "## Problema C.2\n",
    "**Integración numérica en dos dimensiones**\n",
    "1. Haga un programa que integre funciones en la region $a\\le x \\le b\\,;\\;c \\le y \\le d$ siguiendo el código delineado en la clase teórica, usando el método de cuadratura de Simpson en cada coordenada.\n",
    "2. Evalue nume\n",
    "ricamente con no menos de 8 cifras significativas las integrales\n",
    "$$\n",
    "\\int_0^2\\,dx\\, \\int_0^1\\,dy\\, e^{-x\\,y} \\;\\;\\;\\;\\;\\;\\;\\;\\;\\;\\;\\;\\;\\;\n",
    "\\int_{7/5}^2\\,dx\\, \\int_1^{3/2}\\,dy\\, \\ln{(x+2 y)}\n",
    "$$\n",
    "3. Modifique el programa para permitir que los límites de integración en $y$ sean función de $x$ y evalue la integral\n",
    "$$\n",
    "\\int_0^1\\,dx\\, \\int_0^{\\sqrt{1-x^2}}\\,dy\\, e^{-x\\,y} \n",
    "$$"
   ]
  },
  {
   "cell_type": "code",
   "execution_count": null,
   "metadata": {},
   "outputs": [],
   "source": []
  }
 ],
 "metadata": {
  "@webio": {
   "lastCommId": null,
   "lastKernelId": null
  },
  "kernelspec": {
   "display_name": "Julia 1.10.2",
   "language": "julia",
   "name": "julia-1.10"
  },
  "language_info": {
   "file_extension": ".jl",
   "mimetype": "application/julia",
   "name": "julia",
   "version": "1.10.2"
  }
 },
 "nbformat": 4,
 "nbformat_minor": 4
}
